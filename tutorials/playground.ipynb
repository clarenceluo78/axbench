{
 "cells": [
  {
   "cell_type": "code",
   "execution_count": 2,
   "id": "0095f188-a550-4979-b26f-e2e2a2871647",
   "metadata": {},
   "outputs": [
    {
     "name": "stderr",
     "output_type": "stream",
     "text": [
      "/u/nlp/anaconda/main/anaconda3/envs/wuzhengx-310/lib/python3.10/site-packages/transformers/utils/hub.py:127: FutureWarning: Using `TRANSFORMERS_CACHE` is deprecated and will be removed in v5 of Transformers. Use `HF_HOME` instead.\n",
      "  warnings.warn(\n"
     ]
    }
   ],
   "source": [
    "try:\n",
    "    # This library is our indicator that the required installs\n",
    "    # need to be done.\n",
    "    import pyreax\n",
    "\n",
    "except ModuleNotFoundError:\n",
    "    # relative import; better to pip install subctrl\n",
    "    import sys\n",
    "    sys.path.append(\"../../pyreax\")\n",
    "    import pyreax\n",
    "\n",
    "from pyreax import (\n",
    "    LanguageModel\n",
    ")"
   ]
  },
  {
   "cell_type": "code",
   "execution_count": 5,
   "id": "d424781c-56b8-4c84-9988-ab17f5e21b07",
   "metadata": {},
   "outputs": [],
   "source": [
    "lm = LanguageModel(\"gpt-4o\", \"./tmp\")"
   ]
  },
  {
   "cell_type": "code",
   "execution_count": 7,
   "id": "63234c4e-ddbc-45f1-a867-1f30af360271",
   "metadata": {},
   "outputs": [
    {
     "data": {
      "text/plain": [
       "[' Hello! How can I assist you today?',\n",
       " \" Thank you for asking! I'm just a computer program, so I don't have feelings, but I'm here to help you. How can I assist you today?\",\n",
       " ' Hello! How can I assist you today?']"
      ]
     },
     "execution_count": 7,
     "metadata": {},
     "output_type": "execute_result"
    }
   ],
   "source": [
    "await lm.chat_completions(\n",
    "    [\"1\", \"2\", \"3\"],\n",
    "    [\"hello!\", \"how are you?\", \"hi!\"]\n",
    ")"
   ]
  },
  {
   "cell_type": "code",
   "execution_count": null,
   "id": "a2427787-ebce-495f-a438-28ecdc2af74b",
   "metadata": {},
   "outputs": [],
   "source": []
  }
 ],
 "metadata": {
  "kernelspec": {
   "display_name": "Python 3 (ipykernel)",
   "language": "python",
   "name": "python3"
  },
  "language_info": {
   "codemirror_mode": {
    "name": "ipython",
    "version": 3
   },
   "file_extension": ".py",
   "mimetype": "text/x-python",
   "name": "python",
   "nbconvert_exporter": "python",
   "pygments_lexer": "ipython3",
   "version": "3.10.13"
  }
 },
 "nbformat": 4,
 "nbformat_minor": 5
}
