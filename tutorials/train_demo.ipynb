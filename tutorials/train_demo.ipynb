{
 "cells": [
  {
   "cell_type": "markdown",
   "id": "0f574b3b-7c21-4027-8f91-974cdb425b62",
   "metadata": {},
   "source": [
    "## Introducing ReAX."
   ]
  },
  {
   "cell_type": "markdown",
   "id": "db1086f1-c347-4548-9ce0-1a60db93f2af",
   "metadata": {},
   "source": [
    "#### Set-up."
   ]
  },
  {
   "cell_type": "code",
   "execution_count": 1,
   "id": "b9ce12f3-b73a-4389-a885-2d6eb22202ff",
   "metadata": {},
   "outputs": [
    {
     "name": "stderr",
     "output_type": "stream",
     "text": [
      "/u/nlp/anaconda/main/anaconda3/envs/wuzhengx-310/lib/python3.10/site-packages/transformers/utils/hub.py:127: FutureWarning: Using `TRANSFORMERS_CACHE` is deprecated and will be removed in v5 of Transformers. Use `HF_HOME` instead.\n",
      "  warnings.warn(\n"
     ]
    }
   ],
   "source": [
    "try:\n",
    "    # This library is our indicator that the required installs\n",
    "    # need to be done.\n",
    "    import pyreax\n",
    "\n",
    "except ModuleNotFoundError:\n",
    "    # relative import; better to pip install subctrl\n",
    "    import sys\n",
    "    sys.path.append(\"../../pyreax\")\n",
    "    import pyreax"
   ]
  },
  {
   "cell_type": "code",
   "execution_count": 2,
   "id": "63dcd5a4-7af1-45f2-9c75-e283a605a284",
   "metadata": {},
   "outputs": [
    {
     "name": "stderr",
     "output_type": "stream",
     "text": [
      "/tmp/wuzhengx/ipykernel_3815908/15604960.py:17: DeprecationWarning: Importing display from IPython.core.display is deprecated since IPython 7.14, please import from IPython display\n",
      "  from IPython.core.display import display, HTML\n"
     ]
    }
   ],
   "source": [
    "import pandas as pd\n",
    "from tqdm.auto import tqdm\n",
    "from torch.utils.data import DataLoader\n",
    "import torch, pyreft\n",
    "from pyvene import (\n",
    "    IntervenableModel,\n",
    "    ConstantSourceIntervention,\n",
    "    SourcelessIntervention,\n",
    "    TrainableIntervention,\n",
    "    DistributedRepresentationIntervention,\n",
    ")\n",
    "\n",
    "from transformers import AutoModelForCausalLM, AutoTokenizer\n",
    "from transformers import get_scheduler\n",
    "\n",
    "from circuitsvis.tokens import colored_tokens\n",
    "from IPython.core.display import display, HTML\n",
    "from pyreax import (\n",
    "    EXAMPLE_TAG, \n",
    "    ReAXFactory, \n",
    "    MaxReLUIntervention, \n",
    "    SubspaceAdditionIntervention, \n",
    "    make_data_module, \n",
    "    save_reax,\n",
    "    Config,\n",
    "    load_config_from_json,\n",
    "    load_concepts,\n",
    ")\n",
    "from pyreax import (\n",
    "    set_decoder_norm_to_unit_norm, \n",
    "    remove_gradient_parallel_to_decoder_directions,\n",
    "    gather_residual_activations, \n",
    "    get_lr\n",
    ")"
   ]
  },
  {
   "cell_type": "markdown",
   "id": "84a48af6-75a9-4a9a-8fff-2c947de6afe3",
   "metadata": {},
   "source": [
    "#### Training.\n",
    "\n",
    "Let's focus on a single layer, layer 20 of the LM."
   ]
  },
  {
   "cell_type": "code",
   "execution_count": 5,
   "id": "bb8551d1-b09f-42c9-b614-a3d9bb347e32",
   "metadata": {},
   "outputs": [],
   "source": [
    "config = Config(\n",
    "    lm_model = \"gpt-4o\",\n",
    "    concept_path = \"../demo/url_concepts.txt\",\n",
    "    model_name = \"google/gemma-2-2b\",\n",
    "    n_data = 66,\n",
    "    layer = 20,\n",
    "    component = \"res\",\n",
    "\n",
    "    batch_size = 6,\n",
    "    n_epochs = 20,\n",
    "    k_latent_null_loss = 3,\n",
    "    lr = 5E-3,\n",
    "    coeff_l1_loss_null = 9E-2,\n",
    "    coeff_l1_loss = 1E-3,\n",
    "\n",
    "    dump_dir = \"./tmp\"\n",
    ")\n",
    "\n",
    "# params\n",
    "lm_model = config.lm_model\n",
    "concept_path = config.concept_path\n",
    "model_name = config.model_name\n",
    "N = config.n_data\n",
    "lr = config.lr\n",
    "layer = config.layer\n",
    "num_epochs = config.n_epochs\n",
    "k_latent = config.k_latent_null_loss\n",
    "coeff_l1_loss_null = config.coeff_l1_loss_null\n",
    "coeff_l1_loss = config.coeff_l1_loss\n",
    "dump_dir = config.dump_dir"
   ]
  },
  {
   "cell_type": "code",
   "execution_count": 6,
   "id": "9ff7d22d-b711-4bad-9fa0-2d12979ab13e",
   "metadata": {},
   "outputs": [
    {
     "name": "stderr",
     "output_type": "stream",
     "text": [
      "2024-10-07:01:41:46,223 WARNING  [reax.py:38] Detect external links. Pull concept info from the link.\n"
     ]
    },
    {
     "data": {
      "application/vnd.jupyter.widget-view+json": {
       "model_id": "0fd47b03dc9a4d6c8985bc51f66f11fe",
       "version_major": 2,
       "version_minor": 0
      },
      "text/plain": [
       "Downloading shards:   0%|          | 0/3 [00:00<?, ?it/s]"
      ]
     },
     "metadata": {},
     "output_type": "display_data"
    },
    {
     "data": {
      "application/vnd.jupyter.widget-view+json": {
       "model_id": "640def17ad504e44ad290cf3ff159089",
       "version_major": 2,
       "version_minor": 0
      },
      "text/plain": [
       "Loading checkpoint shards:   0%|          | 0/3 [00:00<?, ?it/s]"
      ]
     },
     "metadata": {},
     "output_type": "display_data"
    },
    {
     "name": "stderr",
     "output_type": "stream",
     "text": [
      "2024-10-07:01:41:52,123 WARNING  [reax.py:204] Prepare contrast concepts.\n",
      "2024-10-07:01:42:37,057 WARNING  [reax.py:215] Fectching 2 contrast concepts for concept: terms related to artificiality and deception\n",
      "2024-10-07:01:43:32,163 WARNING  [reax.py:215] Fectching 2 contrast concepts for concept: terms related to employment and employees\n",
      "2024-10-07:01:43:32,163 WARNING  [reax.py:220] Finished preparing contrast concepts in 100.041 sec with $0.084.\n",
      "2024-10-07:01:43:32,164 WARNING  [reax.py:285] Creating dataframe.\n",
      "2024-10-07:01:44:09,909 WARNING  [reax.py:330] Fectching data for 0/2 concept: terms related to artificiality and deception\n",
      "2024-10-07:01:44:57,976 WARNING  [reax.py:330] Fectching data for 1/2 concept: terms related to employment and employees\n",
      "2024-10-07:01:45:36,208 WARNING  [reax.py:357] Finished creating current dataframe in 124.043 sec with $0.887.\n"
     ]
    }
   ],
   "source": [
    "# for demo purposes, these are import directly\n",
    "concepts, sae_metadata = load_concepts(concept_path)\n",
    "\n",
    "# Load lm.\n",
    "model = AutoModelForCausalLM.from_pretrained(model_name, device_map=\"cpu\")\n",
    "model.config.use_cache = False\n",
    "model = model.cuda()\n",
    "\n",
    "tokenizer =  AutoTokenizer.from_pretrained(model_name)\n",
    "tokenizer.padding_side = \"right\"\n",
    "\n",
    "# create dataset\n",
    "reax_factory = ReAXFactory(\n",
    "    model, tokenizer,\n",
    "    lm_model=lm_model,\n",
    "    concepts=concepts, \n",
    "    dump_dir=dump_dir,\n",
    ")\n",
    "reax_df = reax_factory.create_df(n=N) "
   ]
  },
  {
   "cell_type": "code",
   "execution_count": 7,
   "id": "603ff575-e076-4ea8-9447-a770590e6504",
   "metadata": {},
   "outputs": [
    {
     "name": "stdout",
     "output_type": "stream",
     "text": [
      "trainable intervention params: 4,608 || trainable model params: 0\n",
      "model params: 2,614,341,888 || trainable%: 0.0001762585077778473\n"
     ]
    }
   ],
   "source": [
    "# make data module.\n",
    "data_module = make_data_module(tokenizer, model, reax_df)\n",
    "train_dataloader = DataLoader(\n",
    "    data_module[\"train_dataset\"], shuffle=True, batch_size=config.batch_size, \n",
    "    collate_fn=data_module[\"data_collator\"])\n",
    "\n",
    "# get reft model\n",
    "model = model.eval()\n",
    "reax_intervention = MaxReLUIntervention(\n",
    "    embed_dim=model.config.hidden_size, low_rank_dimension=2,\n",
    ")\n",
    "reax_intervention = reax_intervention.train()\n",
    "reft_config = pyreft.ReftConfig(representations=[{\n",
    "    \"layer\": l,\n",
    "    \"component\": f\"model.layers[{l}].output\",\n",
    "    \"low_rank_dimension\": 1,\n",
    "    \"intervention\": reax_intervention} for l in [layer]])\n",
    "reft_model = pyreft.get_reft_model(model, reft_config)\n",
    "reft_model.set_device(\"cuda\")\n",
    "reft_model.print_trainable_parameters()\n",
    "\n",
    "# optimizer and lr\n",
    "optimizer = torch.optim.AdamW(reft_model.parameters(), lr=config.lr)\n",
    "num_training_steps = num_epochs * len(train_dataloader)\n",
    "lr_scheduler = get_scheduler(\n",
    "    \"linear\", optimizer=optimizer,\n",
    "    num_warmup_steps=0, num_training_steps=num_training_steps)"
   ]
  },
  {
   "cell_type": "code",
   "execution_count": 8,
   "id": "280bf45d-7cad-4c18-82fa-23e7eb15cdf3",
   "metadata": {},
   "outputs": [
    {
     "data": {
      "application/vnd.jupyter.widget-view+json": {
       "model_id": "2eb03b29e57240a4aacc7806f6c0745a",
       "version_major": 2,
       "version_minor": 0
      },
      "text/plain": [
       "  0%|          | 0/220 [00:00<?, ?it/s]"
      ]
     },
     "metadata": {},
     "output_type": "display_data"
    }
   ],
   "source": [
    "# Main training loop.\n",
    "progress_bar, curr_step = tqdm(range(num_training_steps)), 0\n",
    "for epoch in range(num_epochs):\n",
    "    for batch in train_dataloader:\n",
    "        # prepare input\n",
    "        inputs = {k: v.to(\"cuda\") for k, v in batch.items()}\n",
    "        unit_locations={\"sources->base\": (\n",
    "            None,\n",
    "            inputs[\"intervention_locations\"].permute(1, 0, 2).tolist()\n",
    "        )}\n",
    "        subspaces = [{\n",
    "            \"input_subspaces\": inputs[\"input_subspaces\"],\n",
    "            \"output_subspaces\": inputs[\"output_subspaces\"]}]\n",
    "\n",
    "        # forward\n",
    "        _, cf_outputs = reft_model(\n",
    "            base={\n",
    "                \"input_ids\": inputs[\"input_ids\"],\n",
    "                \"attention_mask\": inputs[\"attention_mask\"]\n",
    "            }, unit_locations=unit_locations, labels=inputs[\"labels\"],\n",
    "            subspaces=subspaces, use_cache=False)\n",
    "\n",
    "        # loss\n",
    "        loss = cf_outputs.loss\n",
    "        latent = reft_model.full_intervention_outputs[0].latent * inputs[\"intervention_masks\"]\n",
    "        topk_latent, _ = torch.topk(latent, k_latent, dim=-1)\n",
    "        null_loss = (topk_latent.mean(dim=-1)*(inputs[\"groups\"]==EXAMPLE_TAG.CONTROL.value))\n",
    "        null_loss = null_loss.sum()\n",
    "\n",
    "        l1_loss = (latent.mean(dim=-1)*(inputs[\"groups\"]!=EXAMPLE_TAG.CONTROL.value))\n",
    "        l1_loss = l1_loss.sum()\n",
    "        \n",
    "        coeff = curr_step/num_training_steps\n",
    "        loss += coeff*coeff_l1_loss_null*null_loss + coeff*coeff_l1_loss*l1_loss\n",
    "        \n",
    "        # grads\n",
    "        loss.backward()\n",
    "        set_decoder_norm_to_unit_norm(reax_intervention)\n",
    "        remove_gradient_parallel_to_decoder_directions(reax_intervention)\n",
    "        curr_step += 1\n",
    "        curr_lr = get_lr(optimizer)\n",
    "        # optim\n",
    "        optimizer.step()\n",
    "        lr_scheduler.step()\n",
    "        optimizer.zero_grad()\n",
    "        progress_bar.update(1)\n",
    "        progress_bar.set_description(\"lr %.6f || loss %.6f || null l1 loss %.6f\" % (curr_lr, loss, null_loss))"
   ]
  },
  {
   "cell_type": "markdown",
   "id": "945d05c2-4f80-4719-84b7-4d6cec7dc37a",
   "metadata": {},
   "source": [
    "#### Eval - latent space disentanglements."
   ]
  },
  {
   "cell_type": "code",
   "execution_count": 28,
   "id": "2c2c0963-bed0-4b4f-a5c4-639169303611",
   "metadata": {},
   "outputs": [
    {
     "name": "stderr",
     "output_type": "stream",
     "text": [
      "2024-10-06:20:57:44,688 WARNING  [reax.py:268] Creating dataframe.\n",
      "2024-10-06:20:57:53,421 WARNING  [reax.py:313] Fectching data for 0/2 concept: terms related to artificiality and deception\n",
      "2024-10-06:20:58:05,500 WARNING  [reax.py:313] Fectching data for 1/2 concept: terms related to employment and employees\n",
      "2024-10-06:20:58:15,772 WARNING  [reax.py:340] Finished creating current dataframe in 31.084 sec with $0.208.\n"
     ]
    }
   ],
   "source": [
    "# create eval dataset\n",
    "eval_reax_df = reax_factory.create_df(n=21)"
   ]
  },
  {
   "cell_type": "code",
   "execution_count": 34,
   "id": "eb98446c-067d-48d6-9f0d-0bca964fccbc",
   "metadata": {
    "scrolled": true
   },
   "outputs": [
    {
     "name": "stdout",
     "output_type": "stream",
     "text": [
      "> null <terms related to artificiality and deception:charade/A word guessing game in which players act out each syllable of a word or phrase without speaking, and others try to guess the word or phrase> example:\n",
      "> testing concept: terms related to artificiality and deception\n",
      "maximal act: 0.0\n"
     ]
    },
    {
     "data": {
      "text/html": [
       "<div id=\"circuits-vis-143dd4ec-bcc3\" style=\"margin: 15px 0;\"/>\n",
       "    <script crossorigin type=\"module\">\n",
       "    import { render, ColoredTokens } from \"https://unpkg.com/circuitsvis@1.43.2/dist/cdn/esm.js\";\n",
       "    render(\n",
       "      \"circuits-vis-143dd4ec-bcc3\",\n",
       "      ColoredTokens,\n",
       "      {\"tokens\": [\"While\", \"\\u2581the\", \"\\u2581sun\", \"\\u2581dipped\", \"\\u2581below\", \"\\u2581the\", \"\\u2581horizon\", \"\\u2581painting\", \"\\u2581the\", \"\\u2581sky\", \"\\u2581with\", \"\\u2581a\", \"\\u2581palette\", \"\\u2581of\", \"\\u2581orange\", \"\\u2581and\", \"\\u2581pink\", \"\\u2581hues\", \"\\u2581the\", \"\\u2581children\", \"\\u2581gathered\", \"\\u2581in\", \"\\u2581the\", \"\\u2581park\", \"\\u2581to\", \"\\u2581engage\", \"\\u2581in\", \"\\u2581a\", \"\\u2581playful\", \"\\u2581char\", \"ade\", \"\\u2581of\", \"\\u2581adventures\", \"\\u2581and\", \"\\u2581hero\", \"\\u2581quests\"], \"values\": [0.0, 0.0, 0.0, 0.0, 0.0, 0.0, 0.0, 0.0, 0.0, 0.0, 0.0, 0.0, 0.0, 0.0, 0.0, 0.0, 0.0, 0.0, 0.0, 0.0, 0.0, 0.0, 0.0, 0.0, 0.0, 0.0, 0.0, 0.0, 0.0, 0.0, 0.0, 0.0, 0.0, 0.0, 0.0, 0.0]}\n",
       "    )\n",
       "    </script>"
      ],
      "text/plain": [
       "<circuitsvis.utils.render.RenderedHTML at 0x7f4db9e71a20>"
      ]
     },
     "metadata": {},
     "output_type": "display_data"
    },
    {
     "name": "stdout",
     "output_type": "stream",
     "text": [
      "> null <null> example:\n",
      "> testing concept: terms related to artificiality and deception\n",
      "maximal act: 0.0\n"
     ]
    },
    {
     "data": {
      "text/html": [
       "<div id=\"circuits-vis-6871aefd-6161\" style=\"margin: 15px 0;\"/>\n",
       "    <script crossorigin type=\"module\">\n",
       "    import { render, ColoredTokens } from \"https://unpkg.com/circuitsvis@1.43.2/dist/cdn/esm.js\";\n",
       "    render(\n",
       "      \"circuits-vis-6871aefd-6161\",\n",
       "      ColoredTokens,\n",
       "      {\"tokens\": [\"Amid\", \"st\", \"\\u2581the\", \"\\u2581rust\", \"le\", \"\\u2581of\", \"\\u2581autumn\", \"\\u2581leaves\", \"\\u2581under\", \"foot\", \",\", \"\\u2581old\", \"\\u2581friends\", \"\\u2581reunited\", \",\", \"\\u2581exchanging\", \"\\u2581stories\", \"\\u2581of\", \"\\u2581distant\", \"\\u2581lands\", \",\", \"\\u2581journeys\", \"\\u2581untold\", \",\", \"\\u2581and\", \"\\u2581dreams\", \"\\u2581pursued\", \"\\u2581over\", \"\\u2581years\", \"\\u2581spent\", \"\\u2581wandering\", \"\\u2581through\", \"\\u2581vast\", \"\\u2581forests\", \",\", \"\\u2581bas\", \"king\", \"\\u2581in\", \"\\u2581gentle\", \"\\u2581breezes\", \",\", \"\\u2581lost\", \"\\u2581in\", \"\\u2581rever\", \"ie\"], \"values\": [0.0, 0.0, 0.0, 0.0, 0.0, 0.0, 0.0, 0.0, 0.0, 0.0, 0.0, 0.0, 0.0, 0.0, 0.0, 0.0, 0.0, 0.0, 0.0, 0.0, 0.0, 0.0, 0.0, 0.0, 0.0, 0.0, 0.0, 0.0, 0.0, 0.0, 0.0, 0.0, 0.0, 0.0, 0.0, 0.0, 0.0, 0.0, 0.0, 0.0, 0.0, 0.0, 0.0, 0.0, 0.0]}\n",
       "    )\n",
       "    </script>"
      ],
      "text/plain": [
       "<circuitsvis.utils.render.RenderedHTML at 0x7f4dd26f33d0>"
      ]
     },
     "metadata": {},
     "output_type": "display_data"
    },
    {
     "name": "stdout",
     "output_type": "stream",
     "text": [
      "> null <null> example:\n",
      "> testing concept: terms related to artificiality and deception\n",
      "maximal act: 0.0\n"
     ]
    },
    {
     "data": {
      "text/html": [
       "<div id=\"circuits-vis-e9700a72-56dc\" style=\"margin: 15px 0;\"/>\n",
       "    <script crossorigin type=\"module\">\n",
       "    import { render, ColoredTokens } from \"https://unpkg.com/circuitsvis@1.43.2/dist/cdn/esm.js\";\n",
       "    render(\n",
       "      \"circuits-vis-e9700a72-56dc\",\n",
       "      ColoredTokens,\n",
       "      {\"tokens\": [\"As\", \"\\u2581twilight\", \"\\u2581descended\", \",\", \"\\u2581the\", \"\\u2581distant\", \"\\u2581sounds\", \"\\u2581of\", \"\\u2581laughter\", \"\\u2581echoed\", \",\", \"\\u2581blending\", \"\\u2581with\", \"\\u2581the\", \"\\u2581whisper\", \"\\u2581of\", \"\\u2581waves\", \"\\u2581la\", \"pping\", \"\\u2581against\", \"\\u2581the\", \"\\u2581shore\", \",\", \"\\u2581as\", \"\\u2581stories\", \"\\u2581from\", \"\\u2581the\", \"\\u2581past\", \"\\u2581unfolded\", \"\\u2581like\", \"\\u2581delicate\", \"\\u2581petals\", \"\\u2581un\", \"fur\", \"ling\", \"\\u2581in\", \"\\u2581a\", \"\\u2581quiet\", \",\", \"\\u2581secluded\", \"\\u2581sanctuary\"], \"values\": [0.0, 0.0, 0.0, 0.0, 0.0, 0.0, 0.0, 0.0, 0.0, 0.0, 0.0, 0.0, 0.0, 0.0, 0.0, 0.0, 0.0, 0.0, 0.0, 0.0, 0.0, 0.0, 0.0, 0.0, 0.0, 0.0, 0.0, 0.0, 0.0, 0.0, 0.0, 0.0, 0.0, 0.0, 0.0, 0.0, 0.0, 0.0, 0.0, 0.0, 0.0]}\n",
       "    )\n",
       "    </script>"
      ],
      "text/plain": [
       "<circuitsvis.utils.render.RenderedHTML at 0x7f4db9e73b50>"
      ]
     },
     "metadata": {},
     "output_type": "display_data"
    },
    {
     "name": "stdout",
     "output_type": "stream",
     "text": [
      "> null <null> example:\n",
      "> testing concept: terms related to employment and employees\n",
      "maximal act: 1.585\n"
     ]
    },
    {
     "data": {
      "text/html": [
       "<div id=\"circuits-vis-b6dc7081-3cbf\" style=\"margin: 15px 0;\"/>\n",
       "    <script crossorigin type=\"module\">\n",
       "    import { render, ColoredTokens } from \"https://unpkg.com/circuitsvis@1.43.2/dist/cdn/esm.js\";\n",
       "    render(\n",
       "      \"circuits-vis-b6dc7081-3cbf\",\n",
       "      ColoredTokens,\n",
       "      {\"tokens\": [\"In\", \"\\u2581the\", \"\\u2581depth\", \"\\u2581of\", \"\\u2581night\", \",\", \"\\u2581shadows\", \"\\u2581danced\", \"\\u2581across\", \"\\u2581the\", \"\\u2581landscape\", \",\", \"\\u2581whispering\", \"\\u2581secrets\", \"\\u2581of\", \"\\u2581old\", \"\\u2581forests\", \",\", \"\\u2581where\", \"\\u2581moonlight\", \"\\u2581bathed\", \"\\u2581in\", \"\\u2581silvery\", \"\\u2581beams\", \",\", \"\\u2581illuminating\", \"\\u2581paths\", \"\\u2581unknown\", \",\", \"\\u2581as\", \"\\u2581gentle\", \"\\u2581breezes\", \"\\u2581carried\", \"\\u2581tales\", \"\\u2581of\", \"\\u2581distant\", \"\\u2581lands\", \"\\u2581far\", \"\\u2581beyond\"], \"values\": [0.0, 0.0, 1.5854926109313965, 0.0, 0.0, 0.0, 0.0, 0.0, 0.0, 0.0, 0.0, 0.0, 0.0, 0.0, 0.0, 0.0, 0.0, 0.0, 0.0, 0.0, 0.0, 0.0, 0.0, 0.0, 0.0, 0.0, 0.0, 0.0, 0.0, 0.0, 0.0, 0.0, 0.0, 0.0, 0.0, 0.0, 0.0, 0.0, 0.0]}\n",
       "    )\n",
       "    </script>"
      ],
      "text/plain": [
       "<circuitsvis.utils.render.RenderedHTML at 0x7f4ddf006440>"
      ]
     },
     "metadata": {},
     "output_type": "display_data"
    },
    {
     "name": "stdout",
     "output_type": "stream",
     "text": [
      "> null <null> example:\n",
      "> testing concept: terms related to employment and employees\n",
      "maximal act: 0.0\n"
     ]
    },
    {
     "data": {
      "text/html": [
       "<div id=\"circuits-vis-1e0e6316-c724\" style=\"margin: 15px 0;\"/>\n",
       "    <script crossorigin type=\"module\">\n",
       "    import { render, ColoredTokens } from \"https://unpkg.com/circuitsvis@1.43.2/dist/cdn/esm.js\";\n",
       "    render(\n",
       "      \"circuits-vis-1e0e6316-c724\",\n",
       "      ColoredTokens,\n",
       "      {\"tokens\": [\"Amid\", \"st\", \"\\u2581towering\", \"\\u2581mountains\", \"\\u2581wrapped\", \"\\u2581in\", \"\\u2581velvet\", \"\\u2581dusk\", \",\", \"\\u2581a\", \"\\u2581hidden\", \"\\u2581valley\", \"\\u2581unveils\", \"\\u2581its\", \"\\u2581lush\", \"\\u2581tapestry\", \"\\u2581of\", \"\\u2581vibrant\", \"\\u2581colors\", \",\", \"\\u2581teeming\", \"\\u2581with\", \"\\u2581life\", \",\", \"\\u2581as\", \"\\u2581birds\", \"\\u2581weave\", \"\\u2581through\", \"\\u2581crisp\", \"\\u2581air\", \",\", \"\\u2581melodies\", \"\\u2581echo\", \",\", \"\\u2581jour\", \"ne\", \"ying\", \"\\u2581through\", \"\\u2581the\", \"\\u2581endless\", \"\\u2581expanse\", \"\\u2581of\", \"\\u2581azure\", \"\\u2581skies\"], \"values\": [0.0, 0.0, 0.0, 0.0, 0.0, 0.0, 0.0, 0.0, 0.0, 0.0, 0.0, 0.0, 0.0, 0.0, 0.0, 0.0, 0.0, 0.0, 0.0, 0.0, 0.0, 0.0, 0.0, 0.0, 0.0, 0.0, 0.0, 0.0, 0.0, 0.0, 0.0, 0.0, 0.0, 0.0, 0.0, 0.0, 0.0, 0.0, 0.0, 0.0, 0.0, 0.0, 0.0, 0.0]}\n",
       "    )\n",
       "    </script>"
      ],
      "text/plain": [
       "<circuitsvis.utils.render.RenderedHTML at 0x7f4dd25c4bb0>"
      ]
     },
     "metadata": {},
     "output_type": "display_data"
    },
    {
     "name": "stdout",
     "output_type": "stream",
     "text": [
      "> null <null> example:\n",
      "> testing concept: terms related to employment and employees\n",
      "maximal act: 0.0\n"
     ]
    },
    {
     "data": {
      "text/html": [
       "<div id=\"circuits-vis-7de057b4-ea04\" style=\"margin: 15px 0;\"/>\n",
       "    <script crossorigin type=\"module\">\n",
       "    import { render, ColoredTokens } from \"https://unpkg.com/circuitsvis@1.43.2/dist/cdn/esm.js\";\n",
       "    render(\n",
       "      \"circuits-vis-7de057b4-ea04\",\n",
       "      ColoredTokens,\n",
       "      {\"tokens\": [\"Beneath\", \"\\u2581the\", \"\\u2581towering\", \"\\u2581canopy\", \"\\u2581of\", \"\\u2581ancient\", \"\\u2581trees\", \",\", \"\\u2581golden\", \"\\u2581hues\", \"\\u2581paint\", \"\\u2581the\", \"\\u2581earth\", \"\\u2581with\", \"\\u2581warmth\", \"\\u2581as\", \"\\u2581creatures\", \"\\u2581roam\", \"\\u2581freely\", \",\", \"\\u2581their\", \"\\u2581presence\", \"\\u2581felt\", \"\\u2581in\", \"\\u2581the\", \"\\u2581rustling\", \"\\u2581leaves\", \"\\u2581and\", \"\\u2581fleeting\", \"\\u2581glimpses\", \",\", \"\\u2581inviting\", \"\\u2581contemplation\", \"\\u2581under\", \"\\u2581the\", \"\\u2581vast\", \"\\u2581sky\", \"\\u2581overhead\"], \"values\": [0.0, 0.0, 0.0, 0.0, 0.0, 0.0, 0.0, 0.0, 0.0, 0.0, 0.0, 0.0, 0.0, 0.0, 0.0, 0.0, 0.0, 0.0, 0.0, 0.0, 0.0, 0.0, 0.0, 0.0, 0.0, 0.0, 0.0, 0.0, 0.0, 0.0, 0.0, 0.0, 0.0, 0.0, 0.0, 0.0, 0.0, 0.0]}\n",
       "    )\n",
       "    </script>"
      ],
      "text/plain": [
       "<circuitsvis.utils.render.RenderedHTML at 0x7f4db9e71780>"
      ]
     },
     "metadata": {},
     "output_type": "display_data"
    },
    {
     "name": "stdout",
     "output_type": "stream",
     "text": [
      "> targeted concept:\n",
      "terms related to artificiality and deception\n",
      "maximal act: 13.811\n"
     ]
    },
    {
     "data": {
      "text/html": [
       "<div id=\"circuits-vis-56efc686-a518\" style=\"margin: 15px 0;\"/>\n",
       "    <script crossorigin type=\"module\">\n",
       "    import { render, ColoredTokens } from \"https://unpkg.com/circuitsvis@1.43.2/dist/cdn/esm.js\";\n",
       "    render(\n",
       "      \"circuits-vis-56efc686-a518\",\n",
       "      ColoredTokens,\n",
       "      {\"tokens\": [\"Under\", \"\\u2581a\", \"\\u2581canopy\", \"\\u2581of\", \"\\u2581stars\", \"\\u2581glistening\", \"\\u2581with\", \"\\u2581celestial\", \"\\u2581wonder\", \"\\u2581and\", \"\\u2581the\", \"\\u2581murmur\", \"\\u2581of\", \"\\u2581distant\", \"\\u2581waves\", \",\", \"\\u2581she\", \"\\u2581inexp\", \"lica\", \"bly\", \"\\u2581found\", \"\\u2581herself\", \"\\u2581enam\", \"ored\", \"\\u2581by\", \"\\u2581shadows\", \"\\u2581like\", \"\\u2581facades\", \",\", \"\\u2581desire\", \"\\u2581entw\", \"ined\", \"\\u2581within\", \"\\u2581the\", \"\\u2581realm\", \"\\u2581of\", \"\\u2581masquer\", \"ades\", \"\\u2581and\", \"\\u2581moon\", \"lit\", \"\\u2581rever\", \"ies\"], \"values\": [0.0, 0.0, 0.0, 0.0, 0.0, 0.0, 0.0, 0.0, 0.0, 0.0, 0.0, 0.0, 0.0, 0.0, 0.0, 0.0, 0.0, 0.0, 0.0, 0.0, 0.0, 0.0, 0.0, 0.0, 0.0, 0.0, 0.0, 4.805716037750244, 1.0865654945373535, 0.34560060501098633, 0.0, 0.0, 0.0, 0.0, 0.0, 0.0, 13.810643196105957, 10.889615058898926, 11.171022415161133, 0.0, 0.0, 0.0, 0.0]}\n",
       "    )\n",
       "    </script>"
      ],
      "text/plain": [
       "<circuitsvis.utils.render.RenderedHTML at 0x7f4dd26f33d0>"
      ]
     },
     "metadata": {},
     "output_type": "display_data"
    },
    {
     "name": "stdout",
     "output_type": "stream",
     "text": [
      "> targeted concept:\n",
      "terms related to artificiality and deception\n",
      "maximal act: 35.583\n"
     ]
    },
    {
     "data": {
      "text/html": [
       "<div id=\"circuits-vis-c1842b00-aab8\" style=\"margin: 15px 0;\"/>\n",
       "    <script crossorigin type=\"module\">\n",
       "    import { render, ColoredTokens } from \"https://unpkg.com/circuitsvis@1.43.2/dist/cdn/esm.js\";\n",
       "    render(\n",
       "      \"circuits-vis-c1842b00-aab8\",\n",
       "      ColoredTokens,\n",
       "      {\"tokens\": [\"Wand\", \"ering\", \"\\u2581through\", \"\\u2581the\", \"\\u2581city\", \"'\", \"s\", \"\\u2581synthetic\", \"\\u2581glow\", \"\\u2581as\", \"\\u2581shadows\", \"\\u2581elongated\", \"\\u2581and\", \"\\u2581illusions\", \"\\u2581whispered\", \",\", \"\\u2581he\", \"\\u2581pondered\", \"\\u2581echoes\", \"\\u2581of\", \"\\u2581forgotten\", \"\\u2581dreams\", \",\", \"\\u2581entr\", \"anced\", \"\\u2581by\", \"\\u2581the\", \"\\u2581enigmatic\", \"\\u2581tapestry\", \"\\u2581of\", \"\\u2581deceit\", \"\\u2581woven\", \"\\u2581into\", \"\\u2581every\", \"\\u2581flicker\", \"\\u2581of\", \"\\u2581artificial\", \"\\u2581light\"], \"values\": [0.0, 0.0, 0.0, 0.0, 0.0, 0.0, 0.0, 35.582515716552734, 0.0, 0.0, 0.0, 0.0, 0.0, 0.0, 0.0, 0.0, 0.0, 0.0, 0.0, 0.0, 0.0, 0.0, 0.0, 0.0, 0.0, 0.0, 0.0, 0.0, 0.0, 0.0, 14.460275650024414, 0.0, 0.0, 0.0, 0.0, 0.0, 31.282421112060547, 0.0]}\n",
       "    )\n",
       "    </script>"
      ],
      "text/plain": [
       "<circuitsvis.utils.render.RenderedHTML at 0x7f4db9e73b50>"
      ]
     },
     "metadata": {},
     "output_type": "display_data"
    },
    {
     "name": "stdout",
     "output_type": "stream",
     "text": [
      "> targeted concept:\n",
      "terms related to artificiality and deception\n",
      "maximal act: 57.294\n"
     ]
    },
    {
     "data": {
      "text/html": [
       "<div id=\"circuits-vis-6cd00414-d535\" style=\"margin: 15px 0;\"/>\n",
       "    <script crossorigin type=\"module\">\n",
       "    import { render, ColoredTokens } from \"https://unpkg.com/circuitsvis@1.43.2/dist/cdn/esm.js\";\n",
       "    render(\n",
       "      \"circuits-vis-6cd00414-d535\",\n",
       "      ColoredTokens,\n",
       "      {\"tokens\": [\"Ill\", \"usions\", \"\\u2581danced\", \"\\u2581in\", \"\\u2581the\", \"\\u2581twilight\", \"\\u2581canopy\", \"\\u2581as\", \"\\u2581digital\", \"\\u2581whispers\", \"\\u2581w\", \"ove\", \"\\u2581synthetic\", \"\\u2581dreams\", \",\", \"\\u2581leaving\", \"\\u2581echoes\", \"\\u2581where\", \"\\u2581truths\", \"\\u2581lay\", \"\\u2581obscured\", \",\", \"\\u2581and\", \"\\u2581artificial\", \"\\u2581shadows\", \"\\u2581played\", \"\\u2581tricks\", \"\\u2581upon\", \"\\u2581her\", \"\\u2581senses\", \",\", \"\\u2581blurring\", \"\\u2581the\", \"\\u2581line\", \"\\u2581between\", \"\\u2581reality\", \"\\u2581and\", \"\\u2581fiction\"], \"values\": [0.0, 0.0, 0.0, 0.0, 0.0, 0.0, 0.0, 0.0, 1.8354090452194214, 0.0, 0.0, 0.0, 27.85983657836914, 0.0, 0.0, 0.0, 0.0, 0.0, 0.0, 0.0, 0.0, 0.0, 3.170142650604248, 57.29435729980469, 0.0, 0.0, 0.0, 0.0, 0.0, 0.0, 0.6457974910736084, 0.0, 0.0, 0.0, 17.88113021850586, 0.0, 24.38104820251465, 1.5806982517242432]}\n",
       "    )\n",
       "    </script>"
      ],
      "text/plain": [
       "<circuitsvis.utils.render.RenderedHTML at 0x7f4db9e71a20>"
      ]
     },
     "metadata": {},
     "output_type": "display_data"
    },
    {
     "name": "stdout",
     "output_type": "stream",
     "text": [
      "> targeted concept:\n",
      "terms related to artificiality and deception\n",
      "maximal act: 20.903\n"
     ]
    },
    {
     "data": {
      "text/html": [
       "<div id=\"circuits-vis-f135e120-d34c\" style=\"margin: 15px 0;\"/>\n",
       "    <script crossorigin type=\"module\">\n",
       "    import { render, ColoredTokens } from \"https://unpkg.com/circuitsvis@1.43.2/dist/cdn/esm.js\";\n",
       "    render(\n",
       "      \"circuits-vis-f135e120-d34c\",\n",
       "      ColoredTokens,\n",
       "      {\"tokens\": [\"As\", \"\\u2581the\", \"\\u2581clock\", \"\\u2581chi\", \"med\", \"\\u2581and\", \"\\u2581the\", \"\\u2581kale\", \"idoscope\", \"\\u2581of\", \"\\u2581autumn\", \"\\u2581leaves\", \"\\u2581tw\", \"irled\", \"\\u2581in\", \"\\u2581an\", \"\\u2581artificial\", \"\\u2581masquerade\", \",\", \"\\u2581whispers\", \"\\u2581of\", \"\\u2581pretense\", \"\\u2581slipped\", \"\\u2581through\", \"\\u2581imaginary\", \"\\u2581cracks\", \",\", \"\\u2581crafting\", \"\\u2581surreal\", \"\\u2581melodies\", \"\\u2581that\", \"\\u2581danced\", \"\\u2581lightly\", \"\\u2581on\", \"\\u2581the\", \"\\u2581winds\", \"\\u2581of\", \"\\u2581forgotten\", \"\\u2581fields\"], \"values\": [0.0, 0.0, 0.0, 0.0, 0.0, 0.0, 0.0, 0.0, 0.0, 0.0, 0.0, 0.0, 0.0, 0.0, 0.0, 0.0, 20.903091430664062, 0.0, 0.0, 0.0, 0.0, 6.488771438598633, 0.0, 0.0, 1.1294472217559814, 0.0, 0.0, 3.264105796813965, 9.21829605102539, 0.0, 0.0, 0.0, 0.0, 0.0, 0.0, 0.0, 0.0, 0.0, 0.0]}\n",
       "    )\n",
       "    </script>"
      ],
      "text/plain": [
       "<circuitsvis.utils.render.RenderedHTML at 0x7f4ddf006440>"
      ]
     },
     "metadata": {},
     "output_type": "display_data"
    },
    {
     "name": "stdout",
     "output_type": "stream",
     "text": [
      "> targeted concept:\n",
      "terms related to artificiality and deception\n",
      "maximal act: 39.862\n"
     ]
    },
    {
     "data": {
      "text/html": [
       "<div id=\"circuits-vis-6e891b8d-45e2\" style=\"margin: 15px 0;\"/>\n",
       "    <script crossorigin type=\"module\">\n",
       "    import { render, ColoredTokens } from \"https://unpkg.com/circuitsvis@1.43.2/dist/cdn/esm.js\";\n",
       "    render(\n",
       "      \"circuits-vis-6e891b8d-45e2\",\n",
       "      ColoredTokens,\n",
       "      {\"tokens\": [\"In\", \"\\u2581the\", \"\\u2581quiet\", \"\\u2581alleys\", \"\\u2581where\", \"\\u2581the\", \"\\u2581moon\", \"'\", \"s\", \"\\u2581glow\", \"\\u2581held\", \"\\u2581sway\", \"\\u2581and\", \"\\u2581synthetic\", \"\\u2581echoes\", \"\\u2581formed\", \",\", \"\\u2581intrigue\", \"\\u2581spun\", \"\\u2581its\", \"\\u2581web\", \"\\u2581in\", \"\\u2581fabric\", \"ations\", \"\\u2581that\", \"\\u2581danced\", \"\\u2581with\", \"\\u2581shadows\", \",\", \"\\u2581revealing\", \"\\u2581illusions\", \"\\u2581where\", \"\\u2581light\", \"\\u2581blurred\", \"\\u2581mechanical\", \"\\u2581truth\"], \"values\": [0.0, 0.0, 0.0, 0.0, 0.0, 0.0, 0.0, 0.0, 0.0, 0.0, 0.0, 0.0, 0.0, 39.86183166503906, 0.0, 0.0, 0.0, 0.0, 0.0, 0.0, 0.0, 0.0, 1.4604839086532593, 5.700079441070557, 0.0, 0.0, 0.0, 0.0, 0.0, 0.0, 8.95649528503418, 1.6264512538909912, 0.0, 0.0, 24.538057327270508, 4.277684211730957]}\n",
       "    )\n",
       "    </script>"
      ],
      "text/plain": [
       "<circuitsvis.utils.render.RenderedHTML at 0x7f4dd26f33d0>"
      ]
     },
     "metadata": {},
     "output_type": "display_data"
    },
    {
     "name": "stdout",
     "output_type": "stream",
     "text": [
      "> targeted concept:\n",
      "terms related to artificiality and deception\n",
      "maximal act: 10.739\n"
     ]
    },
    {
     "data": {
      "text/html": [
       "<div id=\"circuits-vis-f90d0d49-c503\" style=\"margin: 15px 0;\"/>\n",
       "    <script crossorigin type=\"module\">\n",
       "    import { render, ColoredTokens } from \"https://unpkg.com/circuitsvis@1.43.2/dist/cdn/esm.js\";\n",
       "    render(\n",
       "      \"circuits-vis-f90d0d49-c503\",\n",
       "      ColoredTokens,\n",
       "      {\"tokens\": [\"Beyond\", \"\\u2581the\", \"\\u2581horizon\", \"'\", \"s\", \"\\u2581edge\", \"\\u2581she\", \"\\u2581wandered\", \",\", \"\\u2581immersed\", \"\\u2581in\", \"\\u2581cascading\", \"\\u2581colors\", \"\\u2581entw\", \"ined\", \"\\u2581with\", \"\\u2581mechanical\", \"\\u2581mysteries\", \"\\u2581and\", \"\\u2581ve\", \"ils\", \"\\u2581of\", \"\\u2581deceit\", \",\", \"\\u2581her\", \"\\u2581path\", \"\\u2581an\", \"\\u2581enigmatic\", \"\\u2581dance\", \"\\u2581where\", \"\\u2581truths\", \"\\u2581twisted\", \"\\u2581together\", \"\\u2581within\", \"\\u2581realms\", \"\\u2581of\", \"\\u2581intric\", \"ately\", \"\\u2581woven\", \"\\u2581illusions\", \"\\u2581and\", \"\\u2581technic\", \"olor\", \"\\u2581dreams\"], \"values\": [0.0, 0.0, 0.0, 0.0, 0.0, 0.0, 0.0, 0.0, 0.0, 0.0, 0.0, 0.0, 0.0, 0.0, 0.0, 0.0, 3.227539539337158, 0.0, 0.0, 0.0, 0.0, 0.0, 6.413158416748047, 0.0, 0.0, 0.0, 0.0, 0.0, 0.0, 0.0, 1.8192325830459595, 0.0, 0.0, 0.0, 0.0, 4.823266983032227, 0.0, 0.0, 7.13927698135376, 0.0, 8.167281150817871, 7.2707600593566895, 10.738635063171387, 0.0]}\n",
       "    )\n",
       "    </script>"
      ],
      "text/plain": [
       "<circuitsvis.utils.render.RenderedHTML at 0x7f4db9e72830>"
      ]
     },
     "metadata": {},
     "output_type": "display_data"
    },
    {
     "name": "stdout",
     "output_type": "stream",
     "text": [
      "> targeted concept:\n",
      "terms related to artificiality and deception\n",
      "maximal act: 28.702\n"
     ]
    },
    {
     "data": {
      "text/html": [
       "<div id=\"circuits-vis-a1eb27b7-f561\" style=\"margin: 15px 0;\"/>\n",
       "    <script crossorigin type=\"module\">\n",
       "    import { render, ColoredTokens } from \"https://unpkg.com/circuitsvis@1.43.2/dist/cdn/esm.js\";\n",
       "    render(\n",
       "      \"circuits-vis-a1eb27b7-f561\",\n",
       "      ColoredTokens,\n",
       "      {\"tokens\": [\"As\", \"\\u2581dawn\", \"\\u2581unfolded\", \",\", \"\\u2581she\", \"\\u2581navig\", \"ated\", \"\\u2581a\", \"\\u2581labyrinth\", \"\\u2581of\", \"\\u2581tangled\", \"\\u2581thoughts\", \"\\u2581illuminated\", \"\\u2581by\", \"\\u2581artificial\", \"\\u2581insights\", \",\", \"\\u2581where\", \"\\u2581truth\", \"\\u2581wore\", \"\\u2581a\", \"\\u2581deceptive\", \"\\u2581mask\", \"\\u2581that\", \"\\u2581shimmer\", \"ed\", \"\\u2581subtly\", \"\\u2581like\", \"\\u2581a\", \"\\u2581mirage\", \"\\u2581on\", \"\\u2581the\", \"\\u2581edge\", \"\\u2581of\", \"\\u2581forgotten\", \"\\u2581dreams\"], \"values\": [0.0, 0.0, 0.0, 0.0, 0.0, 0.0, 0.0, 0.0, 0.0, 0.0, 0.0, 0.0, 0.0, 0.0, 28.701997756958008, 3.593000888824463, 0.0, 0.0, 5.190356731414795, 0.0, 0.9612107276916504, 8.03628158569336, 0.0, 0.0, 0.0, 0.0, 0.0, 0.0, 0.0, 0.0, 0.0, 0.0, 0.0, 0.0, 0.0, 0.0]}\n",
       "    )\n",
       "    </script>"
      ],
      "text/plain": [
       "<circuitsvis.utils.render.RenderedHTML at 0x7f4db9e718d0>"
      ]
     },
     "metadata": {},
     "output_type": "display_data"
    },
    {
     "name": "stdout",
     "output_type": "stream",
     "text": [
      "> targeted concept:\n",
      "terms related to employment and employees\n",
      "maximal act: 127.703\n"
     ]
    },
    {
     "data": {
      "text/html": [
       "<div id=\"circuits-vis-109fb7e0-7259\" style=\"margin: 15px 0;\"/>\n",
       "    <script crossorigin type=\"module\">\n",
       "    import { render, ColoredTokens } from \"https://unpkg.com/circuitsvis@1.43.2/dist/cdn/esm.js\";\n",
       "    render(\n",
       "      \"circuits-vis-109fb7e0-7259\",\n",
       "      ColoredTokens,\n",
       "      {\"tokens\": [\"In\", \"\\u2581the\", \"\\u2581realm\", \"\\u2581of\", \"\\u2581unpredictable\", \"\\u2581adventures\", \",\", \"\\u2581vivid\", \"\\u2581dreams\", \"\\u2581mingled\", \"\\u2581with\", \"\\u2581shadows\", \"\\u2581of\", \"\\u2581uncertainty\", \"\\u2581whisper\", \"\\u2581tales\", \"\\u2581of\", \"\\u2581forgotten\", \"\\u2581realms\", \",\", \"\\u2581where\", \"\\u2581employment\", \"\\u2581contracts\", \"\\u2581and\", \"\\u2581employee\", \"\\u2581skills\", \"\\u2581shape\", \"\\u2581paths\", \"\\u2581leading\", \"\\u2581to\", \"\\u2581limitless\", \"\\u2581possibilities\", \"\\u2581amid\", \"\\u2581the\", \"\\u2581chaos\", \"\\u2581of\", \"\\u2581one\", \"'\", \"s\", \"\\u2581imagination\"], \"values\": [0.0, 0.0, 0.0, 0.0, 0.0, 0.0, 0.0, 0.0, 0.0, 0.0, 0.0, 0.0, 0.0, 0.0, 0.0, 0.0, 0.0, 0.0, 0.0, 0.0, 0.0, 126.16443634033203, 31.416460037231445, 35.00596237182617, 127.70281982421875, 57.477638244628906, 0.0, 20.996713638305664, 0.0, 30.52460479736328, 37.11980438232422, 25.381633758544922, 0.0, 0.0, 0.0, 0.0, 0.0, 44.165306091308594, 0.0, 0.0]}\n",
       "    )\n",
       "    </script>"
      ],
      "text/plain": [
       "<circuitsvis.utils.render.RenderedHTML at 0x7f4ddf006440>"
      ]
     },
     "metadata": {},
     "output_type": "display_data"
    },
    {
     "name": "stdout",
     "output_type": "stream",
     "text": [
      "> targeted concept:\n",
      "terms related to employment and employees\n",
      "maximal act: 71.292\n"
     ]
    },
    {
     "data": {
      "text/html": [
       "<div id=\"circuits-vis-3af72d71-819e\" style=\"margin: 15px 0;\"/>\n",
       "    <script crossorigin type=\"module\">\n",
       "    import { render, ColoredTokens } from \"https://unpkg.com/circuitsvis@1.43.2/dist/cdn/esm.js\";\n",
       "    render(\n",
       "      \"circuits-vis-3af72d71-819e\",\n",
       "      ColoredTokens,\n",
       "      {\"tokens\": [\"Within\", \"\\u2581a\", \"\\u2581labyrinth\", \"\\u2581of\", \"\\u2581fantas\", \"tical\", \"\\u2581tales\", \"\\u2581where\", \"\\u2581imagination\", \"\\u2581ign\", \"ites\", \"\\u2581endless\", \"\\u2581dreams\", \",\", \"\\u2581there\", \"\\u2581lie\", \"\\u2581avenues\", \"\\u2581entw\", \"ined\", \"\\u2581with\", \"\\u2581contracts\", \"\\u2581and\", \"\\u2581duties\", \",\", \"\\u2581shedding\", \"\\u2581light\", \"\\u2581on\", \"\\u2581mysterious\", \"\\u2581wonders\", \"\\u2581as\", \"\\u2581careers\", \"\\u2581thread\", \"\\u2581unique\", \"\\u2581stories\", \"\\u2581amidst\", \"\\u2581ever\", \"-\", \"shifting\", \"\\u2581landscapes\", \"\\u2581of\", \"\\u2581thought\"], \"values\": [0.0, 0.0, 0.0, 0.0, 0.0, 0.0, 0.0, 0.0, 0.0, 0.0, 0.0, 0.0, 0.0, 0.0, 0.0, 0.0, 0.0, 0.0, 0.0, 0.0, 26.226076126098633, 16.486387252807617, 37.08632278442383, 0.0, 0.0, 0.0, 4.27875280380249, 11.73219108581543, 0.0, 0.0, 71.291748046875, 0.0, 23.566192626953125, 0.0, 0.0, 0.0, 0.0, 10.291486740112305, 0.0, 3.631655693054199, 18.803028106689453]}\n",
       "    )\n",
       "    </script>"
      ],
      "text/plain": [
       "<circuitsvis.utils.render.RenderedHTML at 0x7f4db9e70280>"
      ]
     },
     "metadata": {},
     "output_type": "display_data"
    },
    {
     "name": "stdout",
     "output_type": "stream",
     "text": [
      "> targeted concept:\n",
      "terms related to employment and employees\n",
      "maximal act: 135.574\n"
     ]
    },
    {
     "data": {
      "text/html": [
       "<div id=\"circuits-vis-f0b0b5a8-2641\" style=\"margin: 15px 0;\"/>\n",
       "    <script crossorigin type=\"module\">\n",
       "    import { render, ColoredTokens } from \"https://unpkg.com/circuitsvis@1.43.2/dist/cdn/esm.js\";\n",
       "    render(\n",
       "      \"circuits-vis-f0b0b5a8-2641\",\n",
       "      ColoredTokens,\n",
       "      {\"tokens\": [\"Wand\", \"ering\", \"\\u2581through\", \"\\u2581dreams\", \"capes\", \"\\u2581of\", \"\\u2581boundless\", \"\\u2581wonder\", \",\", \"\\u2581where\", \"\\u2581the\", \"\\u2581mind\", \"\\u2581crafts\", \"\\u2581vibrant\", \"\\u2581stories\", \",\", \"\\u2581employment\", \"\\u2581concerns\", \"\\u2581fuse\", \"\\u2581with\", \"\\u2581surreal\", \"\\u2581adventures\", \",\", \"\\u2581and\", \"\\u2581employees\", \"\\u2581navigate\", \"\\u2581landscapes\", \"\\u2581painted\", \"\\u2581in\", \"\\u2581hues\", \"\\u2581of\", \"\\u2581potential\", \",\", \"\\u2581discovery\", \",\", \"\\u2581and\", \"\\u2581endless\", \"\\u2581creative\", \"\\u2581journeys\"], \"values\": [0.0, 0.0, 0.0, 0.0, 0.0, 0.0, 0.0, 0.0, 0.0, 0.0, 0.0, 0.0, 0.0, 0.0, 0.0, 0.0, 135.57418823242188, 0.0, 0.0, 0.0, 0.0, 0.0, 0.0, 0.0, 35.31462478637695, 24.51262092590332, 0.0, 0.0, 0.0, 0.0, 24.25667381286621, 62.40935134887695, 0.0, 22.898183822631836, 39.8926887512207, 24.42782974243164, 30.236316680908203, 43.17936325073242, 0.0]}\n",
       "    )\n",
       "    </script>"
      ],
      "text/plain": [
       "<circuitsvis.utils.render.RenderedHTML at 0x7f4dd26f33d0>"
      ]
     },
     "metadata": {},
     "output_type": "display_data"
    },
    {
     "name": "stdout",
     "output_type": "stream",
     "text": [
      "> targeted concept:\n",
      "terms related to employment and employees\n",
      "maximal act: 124.916\n"
     ]
    },
    {
     "data": {
      "text/html": [
       "<div id=\"circuits-vis-48ef84ce-7be9\" style=\"margin: 15px 0;\"/>\n",
       "    <script crossorigin type=\"module\">\n",
       "    import { render, ColoredTokens } from \"https://unpkg.com/circuitsvis@1.43.2/dist/cdn/esm.js\";\n",
       "    render(\n",
       "      \"circuits-vis-48ef84ce-7be9\",\n",
       "      ColoredTokens,\n",
       "      {\"tokens\": [\"Amid\", \"st\", \"\\u2581the\", \"\\u2581swirling\", \"\\u2581visions\", \"\\u2581of\", \"\\u2581enigmatic\", \"\\u2581landscapes\", \",\", \"\\u2581where\", \"\\u2581possibilities\", \"\\u2581dance\", \"\\u2581on\", \"\\u2581the\", \"\\u2581precipice\", \"\\u2581of\", \"\\u2581reality\", \",\", \"\\u2581employment\", \"\\u2581considerations\", \"\\u2581weave\", \"\\u2581through\", \"\\u2581the\", \"\\u2581tapestry\", \"\\u2581of\", \"\\u2581life\", \"'\", \"s\", \"\\u2581wonder\", \",\", \"\\u2581sparking\", \"\\u2581dreams\", \"\\u2581that\", \"\\u2581unfold\", \"\\u2581with\", \"\\u2581each\", \"\\u2581step\", \"\\u2581into\", \"\\u2581the\", \"\\u2581unknown\"], \"values\": [0.0, 0.0, 0.0, 0.0, 0.0, 0.0, 0.0, 0.0, 0.0, 0.0, 0.0, 0.0, 0.0, 0.0, 0.0, 0.0, 6.765229225158691, 0.0, 124.9157485961914, 20.173429489135742, 0.0, 0.0, 0.0, 0.0, 14.466684341430664, 43.47942352294922, 43.3895263671875, 11.793180465698242, 0.0, 0.0, 7.348388671875, 12.379231452941895, 0.0, 0.0, 0.0, 0.0, 0.0, 0.0, 0.0, 0.8682775497436523]}\n",
       "    )\n",
       "    </script>"
      ],
      "text/plain": [
       "<circuitsvis.utils.render.RenderedHTML at 0x7f4db9e72830>"
      ]
     },
     "metadata": {},
     "output_type": "display_data"
    },
    {
     "name": "stdout",
     "output_type": "stream",
     "text": [
      "> targeted concept:\n",
      "terms related to employment and employees\n",
      "maximal act: 140.423\n"
     ]
    },
    {
     "data": {
      "text/html": [
       "<div id=\"circuits-vis-18b0c091-3570\" style=\"margin: 15px 0;\"/>\n",
       "    <script crossorigin type=\"module\">\n",
       "    import { render, ColoredTokens } from \"https://unpkg.com/circuitsvis@1.43.2/dist/cdn/esm.js\";\n",
       "    render(\n",
       "      \"circuits-vis-18b0c091-3570\",\n",
       "      ColoredTokens,\n",
       "      {\"tokens\": [\"Amid\", \"\\u2581the\", \"\\u2581swirling\", \"\\u2581mist\", \"\\u2581of\", \"\\u2581an\", \"\\u2581ever\", \"-\", \"changing\", \"\\u2581world\", \",\", \"\\u2581vibrant\", \"\\u2581colors\", \"\\u2581and\", \"\\u2581whispers\", \"\\u2581of\", \"\\u2581distant\", \"\\u2581dreams\", \"\\u2581intertw\", \"ine\", \"\\u2581with\", \"\\u2581employment\", \"\\u2581credentials\", \",\", \"\\u2581shaping\", \"\\u2581paths\", \"\\u2581of\", \"\\u2581courage\", \"\\u2581and\", \"\\u2581adventure\", \"\\u2581through\", \"\\u2581the\", \"\\u2581intricate\", \"\\u2581maze\", \"\\u2581of\", \"\\u2581life\", \"'\", \"s\", \"\\u2581unpredictable\", \"\\u2581journey\"], \"values\": [0.0, 0.0, 0.0, 0.0, 0.0, 0.0, 0.0, 0.0, 0.0, 0.0, 0.0, 0.0, 0.0, 0.0, 0.0, 0.0, 0.0, 0.0, 0.0, 0.0, 0.0, 140.42279052734375, 40.10511779785156, 0.0, 0.0, 19.397804260253906, 19.171979904174805, 16.026729583740234, 0.0, 20.30265998840332, 0.0, 0.0, 0.0, 0.0, 27.88956069946289, 48.75676727294922, 22.8074951171875, 0.0, 0.0, 16.48832130432129]}\n",
       "    )\n",
       "    </script>"
      ],
      "text/plain": [
       "<circuitsvis.utils.render.RenderedHTML at 0x7f4ddf006440>"
      ]
     },
     "metadata": {},
     "output_type": "display_data"
    },
    {
     "name": "stdout",
     "output_type": "stream",
     "text": [
      "> targeted concept:\n",
      "terms related to employment and employees\n",
      "maximal act: 138.343\n"
     ]
    },
    {
     "data": {
      "text/html": [
       "<div id=\"circuits-vis-6b5e9274-18c8\" style=\"margin: 15px 0;\"/>\n",
       "    <script crossorigin type=\"module\">\n",
       "    import { render, ColoredTokens } from \"https://unpkg.com/circuitsvis@1.43.2/dist/cdn/esm.js\";\n",
       "    render(\n",
       "      \"circuits-vis-6b5e9274-18c8\",\n",
       "      ColoredTokens,\n",
       "      {\"tokens\": [\"As\", \"\\u2581rare\", \"\\u2581stars\", \"\\u2581align\", \"\\u2581in\", \"\\u2581the\", \"\\u2581velvet\", \"\\u2581sky\", \",\", \"\\u2581casting\", \"\\u2581enigmatic\", \"\\u2581glows\", \"\\u2581upon\", \"\\u2581forgotten\", \"\\u2581legends\", \",\", \"\\u2581realms\", \"\\u2581of\", \"\\u2581dreams\", \"\\u2581converge\", \"\\u2581where\", \"\\u2581job\", \"\\u2581prospects\", \"\\u2581and\", \"\\u2581employee\", \"\\u2581pathways\", \"\\u2581illuminate\", \"\\u2581voyages\", \"\\u2581across\", \"\\u2581the\", \"\\u2581boundless\", \",\", \"\\u2581infinite\", \"\\u2581corridors\", \"\\u2581of\", \"\\u2581creativity\", \"\\u2581and\", \"\\u2581inspiration\"], \"values\": [0.0, 0.0, 0.0, 0.0, 0.0, 0.0, 0.0, 0.0, 0.0, 0.0, 0.0, 0.0, 0.0, 0.0, 0.0, 0.0, 0.0, 0.0, 0.0, 0.0, 0.0, 112.97453308105469, 33.84568405151367, 18.746490478515625, 138.34339904785156, 19.083606719970703, 0.0, 7.89409065246582, 0.0, 0.0, 0.0, 0.0, 0.0, 0.0, 6.232239723205566, 31.354278564453125, 22.272985458374023, 15.429595947265625]}\n",
       "    )\n",
       "    </script>"
      ],
      "text/plain": [
       "<circuitsvis.utils.render.RenderedHTML at 0x7f4db9e73b50>"
      ]
     },
     "metadata": {},
     "output_type": "display_data"
    },
    {
     "name": "stdout",
     "output_type": "stream",
     "text": [
      "> targeted concept:\n",
      "terms related to employment and employees\n",
      "maximal act: 138.573\n"
     ]
    },
    {
     "data": {
      "text/html": [
       "<div id=\"circuits-vis-097d3e41-ac6c\" style=\"margin: 15px 0;\"/>\n",
       "    <script crossorigin type=\"module\">\n",
       "    import { render, ColoredTokens } from \"https://unpkg.com/circuitsvis@1.43.2/dist/cdn/esm.js\";\n",
       "    render(\n",
       "      \"circuits-vis-097d3e41-ac6c\",\n",
       "      ColoredTokens,\n",
       "      {\"tokens\": [\"Ling\", \"ering\", \"\\u2581in\", \"\\u2581the\", \"\\u2581limitless\", \"\\u2581expanse\", \"\\u2581of\", \"\\u2581adventures\", \",\", \"\\u2581where\", \"\\u2581creativity\", \"\\u2581spins\", \"\\u2581endless\", \"\\u2581tales\", \",\", \"\\u2581office\", \"\\u2581dynamics\", \"\\u2581inter\", \"m\", \"ingle\", \"\\u2581with\", \"\\u2581nuances\", \"\\u2581of\", \"\\u2581employment\", \",\", \"\\u2581crafting\", \"\\u2581paths\", \"\\u2581colored\", \"\\u2581with\", \"\\u2581whispers\", \"\\u2581of\", \"\\u2581potential\", \"\\u2581amid\", \"\\u2581the\", \"\\u2581symphony\", \"\\u2581of\", \"\\u2581timeless\", \"\\u2581possibilities\"], \"values\": [0.0, 0.0, 0.0, 0.0, 0.0, 0.0, 0.0, 13.94131851196289, 0.0, 0.0, 0.0, 0.0, 0.0, 0.0, 0.0, 76.28611755371094, 17.18394660949707, 0.0, 0.0, 0.0, 0.0, 0.0, 16.175296783447266, 138.5733184814453, 0.0, 24.151275634765625, 16.86918830871582, 0.0, 0.0, 0.0, 27.605873107910156, 52.59213638305664, 0.0, 0.0, 0.0, 18.771692276000977, 0.0, 0.0]}\n",
       "    )\n",
       "    </script>"
      ],
      "text/plain": [
       "<circuitsvis.utils.render.RenderedHTML at 0x7f4dd26f33d0>"
      ]
     },
     "metadata": {},
     "output_type": "display_data"
    }
   ],
   "source": [
    "# run inference loop\n",
    "concepts = reax_factory.concepts\n",
    "for _, row in eval_reax_df.iterrows():\n",
    "    prompt = tokenizer.encode(\n",
    "        row[\"input\"], return_tensors=\"pt\", add_special_tokens=True).to(\"cuda\") \n",
    "    if str(row[\"group\"]) == \"EXAMPLE_TAG.CONTROL\":\n",
    "        input_concept = row[\"input_concept\"]\n",
    "        print(f\"> null <{input_concept}> example:\")\n",
    "        test_concept = concepts[row[\"input_subspace\"]]\n",
    "        print(f\"> testing concept: {test_concept}\")\n",
    "    else:\n",
    "        print(f\"> targeted concept:\")\n",
    "        print(concepts[row[\"input_subspace\"]])\n",
    "    target_act = gather_residual_activations(model, layer, prompt)\n",
    "    p, _ = reax_intervention.encode(\n",
    "        target_act[:,1:], \n",
    "        subspaces={\n",
    "            \"input_subspaces\": torch.tensor([row[\"input_subspace\"]]),\n",
    "            \"output_subspaces\": torch.tensor([row[\"output_subspace\"]])}, k=10)\n",
    "    print(\"maximal act:\", round(p.max().tolist(), 3))\n",
    "    html = colored_tokens(tokenizer.tokenize(row[\"input\"]), p.flatten())\n",
    "    display(html)"
   ]
  },
  {
   "cell_type": "markdown",
   "id": "03326af6-33f5-4343-949b-296543c171ab",
   "metadata": {},
   "source": [
    "#### Eval - logits lens."
   ]
  },
  {
   "cell_type": "code",
   "execution_count": 27,
   "id": "f68ff820-8e98-4c00-8ecb-867344502ae7",
   "metadata": {},
   "outputs": [
    {
     "data": {
      "text/plain": [
       "[' employment',\n",
       " ' jobs',\n",
       " ' career',\n",
       " ' job',\n",
       " ' careers',\n",
       " ' hiring',\n",
       " ' employee',\n",
       " ' roles',\n",
       " ' opportunities',\n",
       " ' recruitment',\n",
       " ' Employee',\n",
       " ' Employment',\n",
       " ' workplace',\n",
       " ' advancement',\n",
       " ' skills',\n",
       " ' workforce',\n",
       " ' incentives',\n",
       " ' salary',\n",
       " ' management',\n",
       " ' performance']"
      ]
     },
     "execution_count": 27,
     "metadata": {},
     "output_type": "execute_result"
    }
   ],
   "source": [
    "vocab_logits = model.lm_head.weight @ reax_intervention.proj.weight.data[1]\n",
    "values, indices = vocab_logits.topk(k=20)\n",
    "tokenizer.batch_decode(indices.unsqueeze(dim=-1))"
   ]
  },
  {
   "cell_type": "markdown",
   "id": "b23c4f0f-86ac-4493-b7c4-807c8ab1c706",
   "metadata": {},
   "source": [
    "#### Eval - steering."
   ]
  },
  {
   "cell_type": "code",
   "execution_count": 15,
   "id": "d882017a-3c1a-408a-8a17-d97c5250c1e7",
   "metadata": {},
   "outputs": [
    {
     "data": {
      "application/vnd.jupyter.widget-view+json": {
       "model_id": "72d65e33d30649ac9f944f770208589e",
       "version_major": 2,
       "version_minor": 0
      },
      "text/plain": [
       "Downloading shards:   0%|          | 0/2 [00:00<?, ?it/s]"
      ]
     },
     "metadata": {},
     "output_type": "display_data"
    },
    {
     "data": {
      "application/vnd.jupyter.widget-view+json": {
       "model_id": "c31833a01c3a40c4a31f82e9b70ea84a",
       "version_major": 2,
       "version_minor": 0
      },
      "text/plain": [
       "Loading checkpoint shards:   0%|          | 0/2 [00:00<?, ?it/s]"
      ]
     },
     "metadata": {},
     "output_type": "display_data"
    }
   ],
   "source": [
    "# load the chat-lm\n",
    "chat_model = AutoModelForCausalLM.from_pretrained(\n",
    "    \"google/gemma-2-2b-it\", # google/gemma-2b-it\n",
    "    device_map='cpu',\n",
    ")\n",
    "chat_model.config.use_cache = False\n",
    "chat_model = chat_model.cuda()\n",
    "tokenizer =  AutoTokenizer.from_pretrained(\"google/gemma-2-2b-it\")\n",
    "_ = chat_model.eval()"
   ]
  },
  {
   "cell_type": "code",
   "execution_count": 16,
   "id": "02161750-dd25-48ad-8e38-a49e0d24039a",
   "metadata": {},
   "outputs": [],
   "source": [
    "steering_intervention = SubspaceAdditionIntervention(\n",
    "    embed_dim=model.config.hidden_size, low_rank_dimension=2,\n",
    ")\n",
    "steering_intervention.cuda()\n",
    "steering_intervention.proj.weight.data = reax_intervention.proj.weight.data\n",
    "\n",
    "reft_config = pyreft.ReftConfig(representations=[{\n",
    "    \"layer\": l,\n",
    "    \"component\": f\"model.layers[{l}].output\",\n",
    "    \"low_rank_dimension\": 1,\n",
    "    \"intervention\": steering_intervention} for l in [20]])\n",
    "steering_model = pyreft.get_reft_model(chat_model, reft_config)"
   ]
  },
  {
   "cell_type": "code",
   "execution_count": 18,
   "id": "52887862-bbc3-4345-95d4-cbfb8bfd3e66",
   "metadata": {},
   "outputs": [
    {
     "name": "stdout",
     "output_type": "stream",
     "text": [
      "+ 120 * terms related to artificiality and deception\n",
      "user\n",
      "Write a English story.\n",
      "\n",
      "\n",
      "The old lighthouse keeper, Elias weathered and worn like the ancient stone facade of his dwelling, stood at the precipice of truth.  He'd spent decades guiding lost souls through treacherous storms with nothing but flickering light and unwavering resolve. Yet, tonight, an unsettling dissonance echoed within him, a discordant note in the symphony of his life's melody. \n",
      "\n",
      "A young woman, her face veiled in shadows, stumbled into his hollowed-out existence, seeking refuge from the howling tempest that raged around them. Her whispers, fragile echoes of desperation, spoke of a hidden world cloaked in illusions, a realm where truths were mere\n"
     ]
    }
   ],
   "source": [
    "prompt = \"Write a English story.\"\n",
    "concept_id = 0\n",
    "mag = 120\n",
    "print(f\"+ {mag} *\", reax_factory.concepts[concept_id])\n",
    "\n",
    "messages = [\n",
    "    {\"role\": \"user\", \"content\": prompt}]\n",
    "prompt = tokenizer.apply_chat_template(messages, return_tensors=\"pt\", return_dict=True).to(\"cuda\")\n",
    "\n",
    "_, reft_response = steering_model.generate(\n",
    "    prompt, \n",
    "    unit_locations=None, \n",
    "    intervene_on_prompt=True, \n",
    "    subspaces=[{\"idx\": concept_id, \"mag\": mag}], max_new_tokens=128, \n",
    "    do_sample=False, early_stopping=True, no_repeat_ngram_size=5, repetition_penalty=1.1\n",
    ")\n",
    "print(tokenizer.decode(reft_response[0], skip_special_tokens=True))"
   ]
  },
  {
   "cell_type": "markdown",
   "id": "0825fd52-4347-433c-bd47-92930300040d",
   "metadata": {},
   "source": [
    "#### Saving."
   ]
  },
  {
   "cell_type": "code",
   "execution_count": 10,
   "id": "edc17f6c-2a08-4a28-91b5-d88a6395a6d6",
   "metadata": {},
   "outputs": [],
   "source": [
    "save_reax(\"./tmp\", config, reax_df, reax_factory, sae_metadata, reax_intervention.proj.weight)"
   ]
  },
  {
   "cell_type": "code",
   "execution_count": null,
   "id": "20f850f1-66ed-4499-ac3e-a0284e606f58",
   "metadata": {},
   "outputs": [],
   "source": []
  }
 ],
 "metadata": {
  "kernelspec": {
   "display_name": "Python 3 (ipykernel)",
   "language": "python",
   "name": "python3"
  },
  "language_info": {
   "codemirror_mode": {
    "name": "ipython",
    "version": 3
   },
   "file_extension": ".py",
   "mimetype": "text/x-python",
   "name": "python",
   "nbconvert_exporter": "python",
   "pygments_lexer": "ipython3",
   "version": "3.10.13"
  }
 },
 "nbformat": 4,
 "nbformat_minor": 5
}
