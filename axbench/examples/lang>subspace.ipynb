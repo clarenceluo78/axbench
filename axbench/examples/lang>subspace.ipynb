{
 "cells": [
  {
   "cell_type": "markdown",
   "id": "11f34e0a-5c26-4b5a-8732-5f2fc1498e04",
   "metadata": {},
   "source": [
    "## Language > Subspaces\n",
    "\n",
    "In these experiments, we aim to finetune a model that maps concept descriptions to subspace representations. Our goal is to find a model that generates subspace representations corresponding to the concept descriptions. We also hope this model generalizes to unseen concepts."
   ]
  },
  {
   "cell_type": "markdown",
   "id": "c0a85090-3b6a-4244-ac70-3fef1a9f93ce",
   "metadata": {},
   "source": [
    "#### Set-ups"
   ]
  },
  {
   "cell_type": "code",
   "execution_count": 1,
   "id": "ed3a7f21-fb82-401c-a502-517f8eda6895",
   "metadata": {},
   "outputs": [
    {
     "name": "stderr",
     "output_type": "stream",
     "text": [
      "/u/nlp/anaconda/main/anaconda3/envs/wuzhengx-310/lib/python3.10/site-packages/transformers/utils/hub.py:128: FutureWarning: Using `TRANSFORMERS_CACHE` is deprecated and will be removed in v5 of Transformers. Use `HF_HOME` instead.\n",
      "  warnings.warn(\n"
     ]
    }
   ],
   "source": [
    "import torch, json, random, einops\n",
    "import torch.nn as nn\n",
    "import torch.nn.functional as F\n",
    "import pandas as pd\n",
    "from torch.utils.data import Dataset, DataLoader\n",
    "from transformers import (\n",
    "    AutoModelForCausalLM, \n",
    "    AutoTokenizer, \n",
    "    AdamW,\n",
    "    get_linear_schedule_with_warmup\n",
    ")\n",
    "from tqdm import tqdm\n",
    "import matplotlib.pyplot as plt"
   ]
  },
  {
   "cell_type": "code",
   "execution_count": 2,
   "id": "c78ce1e4-f4ea-4f14-812c-1c25922d1231",
   "metadata": {},
   "outputs": [],
   "source": [
    "def load_jsonl(jsonl_path):\n",
    "    \"\"\"\n",
    "    Load data from a JSON lines file.\n",
    "    \"\"\"\n",
    "    jsonl_data = []\n",
    "    with open(jsonl_path, 'r') as f:\n",
    "        for line in f:\n",
    "            data = json.loads(line)\n",
    "            jsonl_data += [data]\n",
    "    return jsonl_data\n",
    "\n",
    "def get_logits(model, tokenizer, concept_subspace, k=10):\n",
    "    top_logits, neg_logits = [None], [None]\n",
    "\n",
    "    W_U = model.lm_head.weight.T\n",
    "    W_U = W_U * (model.model.norm.weight +\n",
    "                torch.ones_like(model.model.norm.weight))[:, None]\n",
    "    W_U -= einops.reduce(\n",
    "        W_U, \"d_model d_vocab -> 1 d_vocab\", \"mean\"\n",
    "    )\n",
    "\n",
    "    vocab_logits = concept_subspace @ W_U\n",
    "    top_values, top_indices = vocab_logits.topk(k=k, sorted=True)\n",
    "    top_tokens = tokenizer.batch_decode(top_indices.unsqueeze(dim=-1))\n",
    "    top_logits = [list(zip(top_tokens, top_values.tolist()))]\n",
    "    \n",
    "    neg_values, neg_indices = vocab_logits.topk(k=k, largest=False, sorted=True)\n",
    "    neg_tokens = tokenizer.batch_decode(neg_indices.unsqueeze(dim=-1))\n",
    "    neg_logits = [list(zip(neg_tokens, neg_values.tolist()))]\n",
    "\n",
    "    return top_logits, neg_logits\n",
    "\n",
    "class MyDataset(Dataset):\n",
    "    def __init__(self, x_list, y_list):\n",
    "        self.x_list = x_list\n",
    "        self.y_list = y_list\n",
    "        \n",
    "    def __len__(self):\n",
    "        return len(self.x_list)\n",
    "    \n",
    "    def __getitem__(self, idx):\n",
    "        return self.x_list[idx], self.y_list[idx]\n",
    "\n",
    "def my_collate_fn(batch):\n",
    "    x_texts, y_tensors = zip(*batch)\n",
    "    encodings = base_tokenizer(\n",
    "        list(x_texts),\n",
    "        return_tensors=\"pt\",\n",
    "        padding=True,\n",
    "        truncation=True,\n",
    "        max_length=512\n",
    "    )\n",
    "    y_tensors = torch.stack(y_tensors, dim=0)\n",
    "    return encodings, y_tensors\n",
    "\n",
    "class RegressionWrapper(nn.Module):\n",
    "    def __init__(self, base_model, hidden_size, output_dim):\n",
    "        super().__init__()\n",
    "        self.base_model = base_model\n",
    "        self.regression_head = nn.Linear(hidden_size, output_dim)\n",
    "\n",
    "    def forward(self, input_ids, attention_mask):\n",
    "        outputs = self.base_model.model(\n",
    "            input_ids=input_ids, \n",
    "            attention_mask=attention_mask,\n",
    "            output_hidden_states=True,\n",
    "            return_dict=True\n",
    "        )\n",
    "        last_hiddens = outputs.hidden_states[-1]\n",
    "        last_token_representations = last_hiddens[:, -1]\n",
    "        preds = self.regression_head(last_token_representations)\n",
    "        preds = F.normalize(preds, p=2, dim=-1)\n",
    "        return preds"
   ]
  },
  {
   "cell_type": "code",
   "execution_count": 3,
   "id": "93979df6-f8bc-4bf3-81af-267cb774404f",
   "metadata": {},
   "outputs": [],
   "source": [
    "model_name = \"9b\"\n",
    "layer = \"l20\""
   ]
  },
  {
   "cell_type": "code",
   "execution_count": 21,
   "id": "e2ea4708-8e98-47cb-b7b7-eb3a40590aaf",
   "metadata": {},
   "outputs": [],
   "source": [
    "lsreft = torch.load(f\"../results/prod_{model_name}_{layer}_concept16k_lsreft/train/LsReFT_weight.pt\")\n",
    "lsreft_metadata = load_jsonl(f\"../results/prod_{model_name}_{layer}_concept16k_lsreft/train/metadata.jsonl\")\n",
    "assert lsreft.shape[0] == len(lsreft_metadata)"
   ]
  },
  {
   "cell_type": "markdown",
   "id": "e9f6df71-32cf-4fa4-8db0-f75a86a8b5b0",
   "metadata": {},
   "source": [
    "#### Unembed learned subspace\n",
    "\n",
    "We can follow unembed the learned subspace to output tokens, and get top ranked tokens that are related to the learned subspace."
   ]
  },
  {
   "cell_type": "code",
   "execution_count": 11,
   "id": "7f2ba1b4-d294-4080-9744-7010c09bf1dc",
   "metadata": {},
   "outputs": [
    {
     "data": {
      "application/vnd.jupyter.widget-view+json": {
       "model_id": "326a3d7dea4d4e5c9e0ad8a367bbf6e2",
       "version_major": 2,
       "version_minor": 0
      },
      "text/plain": [
       "Downloading shards:   0%|          | 0/4 [00:00<?, ?it/s]"
      ]
     },
     "metadata": {},
     "output_type": "display_data"
    },
    {
     "data": {
      "application/vnd.jupyter.widget-view+json": {
       "model_id": "3937237b86db4ca391419c008489e81d",
       "version_major": 2,
       "version_minor": 0
      },
      "text/plain": [
       "Loading checkpoint shards:   0%|          | 0/4 [00:00<?, ?it/s]"
      ]
     },
     "metadata": {},
     "output_type": "display_data"
    }
   ],
   "source": [
    "# Load the interpreting model\n",
    "model = AutoModelForCausalLM.from_pretrained(\n",
    "    f\"google/gemma-2-{model_name}-it\", torch_dtype=torch.bfloat16)\n",
    "_ = model.cuda()\n",
    "tokenizer = AutoTokenizer.from_pretrained(\n",
    "    f\"google/gemma-2-{model_name}-it\", model_max_length=512)"
   ]
  },
  {
   "cell_type": "code",
   "execution_count": 85,
   "id": "3150e7f1-47ca-46fe-ba40-19e8cb796349",
   "metadata": {},
   "outputs": [
    {
     "data": {
      "text/plain": [
       "15407"
      ]
     },
     "execution_count": 85,
     "metadata": {},
     "output_type": "execute_result"
    }
   ],
   "source": [
    "# Get a random subspace and its label\n",
    "concept_id = random.randint(0, lsreft.shape[0] - 1)\n",
    "concept_id"
   ]
  },
  {
   "cell_type": "code",
   "execution_count": 86,
   "id": "1788a968-13a0-4d59-b85b-6fd7b2107e9c",
   "metadata": {},
   "outputs": [
    {
     "name": "stdout",
     "output_type": "stream",
     "text": [
      "Concept: themes of friendship and personal relationships\n"
     ]
    }
   ],
   "source": [
    "concept_subspace = lsreft[concept_id].cuda()\n",
    "print(\"Concept:\", lsreft_metadata[concept_id][\"concept\"])"
   ]
  },
  {
   "cell_type": "code",
   "execution_count": 87,
   "id": "6723189b-9e4b-46d3-9d75-9c02392a3bda",
   "metadata": {},
   "outputs": [
    {
     "data": {
      "text/plain": [
       "([[(' relationships', 0.609375),\n",
       "   (' amistad', 0.60546875),\n",
       "   (' friendships', 0.58984375),\n",
       "   (' amizade', 0.5703125),\n",
       "   (' friends', 0.515625)]],\n",
       " [[(' Paglinawan', -0.6015625),\n",
       "   ('出版年', -0.5859375),\n",
       "   ('bootstrapcdn', -0.578125),\n",
       "   (' AssemblyCulture', -0.5625),\n",
       "   ('instancetype', -0.53125)]])"
      ]
     },
     "execution_count": 87,
     "metadata": {},
     "output_type": "execute_result"
    }
   ],
   "source": [
    "get_logits(model, tokenizer, concept_subspace, k=5)"
   ]
  },
  {
   "cell_type": "markdown",
   "id": "fac4c980-df7b-4901-b16c-8d7baf81c930",
   "metadata": {},
   "source": [
    "Nice! We are at least getting interpretable tokens that are closely related to the concept!"
   ]
  },
  {
   "cell_type": "markdown",
   "id": "344c2bf1-dc2a-4490-9f03-35f287dc6922",
   "metadata": {},
   "source": [
    "#### Training to map concept to subspace via learning\n",
    "\n",
    "Let's first create some training / validation dataset:\n",
    "```\n",
    "input  : concept described in natural language\n",
    "output : concept subspace\n",
    "```"
   ]
  },
  {
   "cell_type": "code",
   "execution_count": 5,
   "id": "5bf3a878-5add-4da4-a248-033bced1e4e0",
   "metadata": {},
   "outputs": [],
   "source": [
    "concept500 = load_jsonl(f\"../concept500/prod_{model_name}_{layer}_v1/generate/metadata.jsonl\")\n",
    "test_concepts = set([md[\"concept\"] for md in concept500])\n",
    "\n",
    "x = [md[\"concept\"] for md in lsreft_metadata if md[\"concept\"] not in test_concepts]\n",
    "selected_idx = set([])\n",
    "for md_idx, md in enumerate(lsreft_metadata):\n",
    "    if md[\"concept\"] not in test_concepts:\n",
    "        selected_idx.add(md_idx)\n",
    "y = [lsreft[i] for i in selected_idx]\n",
    "assert len(x) == len(y)\n",
    "\n",
    "x_train, x_test = x[:-500], x[-500:]\n",
    "y_train, y_test = y[:-500], y[-500:]\n",
    "\n",
    "train_dataset = MyDataset(x_train, y_train)\n",
    "val_dataset   = MyDataset(x_test, y_test)\n",
    "train_loader  = DataLoader(train_dataset, batch_size=12, shuffle=True, collate_fn=my_collate_fn)\n",
    "val_loader    = DataLoader(val_dataset,   batch_size=128, shuffle=False, collate_fn=my_collate_fn)"
   ]
  },
  {
   "cell_type": "markdown",
   "id": "950b67fb-c4c5-4d3d-8542-d77b3cd72515",
   "metadata": {},
   "source": [
    "We will finetune our language model to predict `y` from `x`"
   ]
  },
  {
   "cell_type": "code",
   "execution_count": 6,
   "id": "f4c9fcad-636c-4eab-9bb5-d3a89d43d536",
   "metadata": {},
   "outputs": [
    {
     "data": {
      "application/vnd.jupyter.widget-view+json": {
       "model_id": "02fd93e8352941d890f61b354967f7d1",
       "version_major": 2,
       "version_minor": 0
      },
      "text/plain": [
       "Downloading shards:   0%|          | 0/3 [00:00<?, ?it/s]"
      ]
     },
     "metadata": {},
     "output_type": "display_data"
    },
    {
     "data": {
      "application/vnd.jupyter.widget-view+json": {
       "model_id": "1a2bb78247014f659182f8984a6ff40d",
       "version_major": 2,
       "version_minor": 0
      },
      "text/plain": [
       "Loading checkpoint shards:   0%|          | 0/3 [00:00<?, ?it/s]"
      ]
     },
     "metadata": {},
     "output_type": "display_data"
    },
    {
     "name": "stderr",
     "output_type": "stream",
     "text": [
      "/u/nlp/anaconda/main/anaconda3/envs/wuzhengx-310/lib/python3.10/site-packages/transformers/optimization.py:591: FutureWarning: This implementation of AdamW is deprecated and will be removed in a future version. Use the PyTorch implementation torch.optim.AdamW instead, or set `no_deprecation_warning=True` to disable this warning\n",
      "  warnings.warn(\n"
     ]
    }
   ],
   "source": [
    "# Load the interpreting model\n",
    "base_model = AutoModelForCausalLM.from_pretrained(\n",
    "    f\"google/gemma-2-2b\", torch_dtype=torch.bfloat16)\n",
    "_ = base_model.cuda()\n",
    "base_tokenizer = AutoTokenizer.from_pretrained(\n",
    "    f\"google/gemma-2-2b\", model_max_length=512)\n",
    "\n",
    "hidden_size = base_model.config.hidden_size\n",
    "output_dim = y_train[0].shape[-1]\n",
    "subspace_gen = RegressionWrapper(base_model, hidden_size, output_dim).bfloat16().to(\"cuda\")\n",
    "\n",
    "epochs = 24\n",
    "learning_rate = 8e-5\n",
    "\n",
    "optimizer = AdamW(subspace_gen.parameters(), lr=learning_rate, weight_decay=0.0)\n",
    "mse_criterion = nn.MSELoss(reduction=\"none\")\n",
    "\n",
    "num_training_steps = epochs * len(train_loader)\n",
    "scheduler = get_linear_schedule_with_warmup(\n",
    "    optimizer, \n",
    "    num_warmup_steps=0,\n",
    "    num_training_steps=num_training_steps\n",
    ")"
   ]
  },
  {
   "cell_type": "code",
   "execution_count": 7,
   "id": "cc5ffbfb-f5f0-49a0-a660-4407c463f857",
   "metadata": {},
   "outputs": [
    {
     "name": "stderr",
     "output_type": "stream",
     "text": [
      "                                                                                                                                                                      \r"
     ]
    },
    {
     "name": "stdout",
     "output_type": "stream",
     "text": [
      "Epoch [1/24] | Train Loss: 0.8683 | Val Loss: 0.7705\n"
     ]
    },
    {
     "name": "stderr",
     "output_type": "stream",
     "text": [
      "                                                                                                                                                                      \r"
     ]
    },
    {
     "name": "stdout",
     "output_type": "stream",
     "text": [
      "Epoch [2/24] | Train Loss: 0.7452 | Val Loss: 0.7168\n"
     ]
    },
    {
     "name": "stderr",
     "output_type": "stream",
     "text": [
      "                                                                                                                                                                      \r"
     ]
    },
    {
     "name": "stdout",
     "output_type": "stream",
     "text": [
      "Epoch [3/24] | Train Loss: 0.6746 | Val Loss: 0.6895\n"
     ]
    },
    {
     "name": "stderr",
     "output_type": "stream",
     "text": [
      "                                                                                                                                                                      \r"
     ]
    },
    {
     "name": "stdout",
     "output_type": "stream",
     "text": [
      "Epoch [4/24] | Train Loss: 0.6227 | Val Loss: 0.6514\n"
     ]
    },
    {
     "name": "stderr",
     "output_type": "stream",
     "text": [
      "                                                                                                                                                                      \r"
     ]
    },
    {
     "name": "stdout",
     "output_type": "stream",
     "text": [
      "Epoch [5/24] | Train Loss: 0.5815 | Val Loss: 0.6553\n"
     ]
    },
    {
     "name": "stderr",
     "output_type": "stream",
     "text": [
      "                                                                                                                                                                      \r"
     ]
    },
    {
     "name": "stdout",
     "output_type": "stream",
     "text": [
      "Epoch [6/24] | Train Loss: 0.5442 | Val Loss: 0.6260\n"
     ]
    },
    {
     "name": "stderr",
     "output_type": "stream",
     "text": [
      "                                                                                                                                                                      \r"
     ]
    },
    {
     "name": "stdout",
     "output_type": "stream",
     "text": [
      "Epoch [7/24] | Train Loss: 0.5249 | Val Loss: 0.6416\n"
     ]
    },
    {
     "name": "stderr",
     "output_type": "stream",
     "text": [
      "                                                                                                                                                                      \r"
     ]
    },
    {
     "name": "stdout",
     "output_type": "stream",
     "text": [
      "Epoch [8/24] | Train Loss: 0.5019 | Val Loss: 0.6250\n"
     ]
    },
    {
     "name": "stderr",
     "output_type": "stream",
     "text": [
      "                                                                                                                                                                      \r"
     ]
    },
    {
     "name": "stdout",
     "output_type": "stream",
     "text": [
      "Epoch [9/24] | Train Loss: 0.4788 | Val Loss: 0.6182\n"
     ]
    },
    {
     "name": "stderr",
     "output_type": "stream",
     "text": [
      "                                                                                                                                                                      \r"
     ]
    },
    {
     "name": "stdout",
     "output_type": "stream",
     "text": [
      "Epoch [10/24] | Train Loss: 0.4468 | Val Loss: 0.6113\n"
     ]
    },
    {
     "name": "stderr",
     "output_type": "stream",
     "text": [
      "                                                                                                                                                                      \r"
     ]
    },
    {
     "name": "stdout",
     "output_type": "stream",
     "text": [
      "Epoch [11/24] | Train Loss: 0.4317 | Val Loss: 0.6162\n"
     ]
    },
    {
     "name": "stderr",
     "output_type": "stream",
     "text": [
      "                                                                                                                                                                      \r"
     ]
    },
    {
     "name": "stdout",
     "output_type": "stream",
     "text": [
      "Epoch [12/24] | Train Loss: 0.4162 | Val Loss: 0.6045\n"
     ]
    },
    {
     "name": "stderr",
     "output_type": "stream",
     "text": [
      "                                                                                                                                                                      \r"
     ]
    },
    {
     "name": "stdout",
     "output_type": "stream",
     "text": [
      "Epoch [13/24] | Train Loss: 0.3898 | Val Loss: 0.6162\n"
     ]
    },
    {
     "name": "stderr",
     "output_type": "stream",
     "text": [
      "                                                                                                                                                                      \r"
     ]
    },
    {
     "name": "stdout",
     "output_type": "stream",
     "text": [
      "Epoch [14/24] | Train Loss: 0.3748 | Val Loss: 0.6182\n"
     ]
    },
    {
     "name": "stderr",
     "output_type": "stream",
     "text": [
      "                                                                                                                                                                      \r"
     ]
    },
    {
     "name": "stdout",
     "output_type": "stream",
     "text": [
      "Epoch [15/24] | Train Loss: 0.3616 | Val Loss: 0.6191\n",
      "Early stopping triggered: validation loss did not improve.\n"
     ]
    }
   ],
   "source": [
    "train_losses = []\n",
    "val_losses = []\n",
    "\n",
    "do_eval = True\n",
    "patience = 3\n",
    "best_val_loss = float('inf')\n",
    "no_improvement_count = 0\n",
    "\n",
    "for epoch in range(epochs):\n",
    "    subspace_gen.train()\n",
    "    epoch_train_loss = 0.0\n",
    "    \n",
    "    # Wrap your dataloader with tqdm so you get a progress bar\n",
    "    pbar = tqdm(train_loader, \n",
    "                total=len(train_loader), \n",
    "                desc=f\"Epoch {epoch+1}/{epochs}\", \n",
    "                leave=False)\n",
    "\n",
    "    for batch_idx, (encodings, y_true) in enumerate(pbar):\n",
    "        input_ids = encodings[\"input_ids\"].to(\"cuda\")\n",
    "        attention_mask = encodings[\"attention_mask\"].to(\"cuda\")\n",
    "        y_true = y_true.to(\"cuda\")\n",
    "\n",
    "        optimizer.zero_grad()\n",
    "\n",
    "        # Forward pass\n",
    "        y_pred = subspace_gen(input_ids, attention_mask)\n",
    "        \n",
    "        # Compute loss\n",
    "        mse_loss = mse_criterion(y_pred, y_true) \n",
    "        mse_loss = mse_loss.sum(dim=-1).mean()\n",
    "        similarity = F.cosine_similarity(y_pred, y_true, dim=-1)  # shape: [batch_size]\n",
    "        cos_loss = 1.0 - similarity.mean()\n",
    "        loss = mse_loss + cos_loss\n",
    "        \n",
    "        loss.backward()\n",
    "        \n",
    "        optimizer.step()\n",
    "        scheduler.step()\n",
    "        \n",
    "        # Accumulate training loss\n",
    "        epoch_train_loss += loss.item()\n",
    "        \n",
    "        # Update tqdm progress bar with current loss\n",
    "        pbar.set_postfix({\"train_loss\": f\"{loss.item():.4f}\"})\n",
    "\n",
    "    # Average training loss for the epoch\n",
    "    epoch_train_loss /= len(train_loader)\n",
    "    train_losses.append(epoch_train_loss)\n",
    "\n",
    "    # Evaluate if needed\n",
    "    if do_eval:\n",
    "        subspace_gen.eval()\n",
    "        epoch_val_loss = 0.0\n",
    "        with torch.no_grad():\n",
    "            for encodings, y_true in val_loader:\n",
    "                input_ids = encodings[\"input_ids\"].to(\"cuda\")\n",
    "                attention_mask = encodings[\"attention_mask\"].to(\"cuda\")\n",
    "                y_true = y_true.to(\"cuda\")\n",
    "                \n",
    "                y_pred = subspace_gen(input_ids, attention_mask)\n",
    "                \n",
    "                mse_loss = mse_criterion(y_pred, y_true) \n",
    "                mse_loss = mse_loss.sum(dim=-1).mean()\n",
    "                similarity = F.cosine_similarity(y_pred, y_true, dim=-1)  # shape: [batch_size]\n",
    "                cos_loss = 1.0 - similarity.mean()\n",
    "                loss = mse_loss + cos_loss\n",
    "            \n",
    "                epoch_val_loss += loss.item()\n",
    "        \n",
    "        epoch_val_loss /= len(val_loader)\n",
    "        val_losses.append(epoch_val_loss)\n",
    "\n",
    "        # Print current epoch results\n",
    "        print(f\"Epoch [{epoch+1}/{epochs}] | \"\n",
    "              f\"Train Loss: {epoch_train_loss:.4f} | \"\n",
    "              f\"Val Loss: {epoch_val_loss:.4f}\")\n",
    "\n",
    "        # Early stopping check\n",
    "        if epoch_val_loss < best_val_loss:\n",
    "            best_val_loss = epoch_val_loss\n",
    "            no_improvement_count = 0\n",
    "        else:\n",
    "            no_improvement_count += 1\n",
    "            if no_improvement_count == patience:\n",
    "                print(\"Early stopping triggered: validation loss did not improve.\")\n",
    "                break\n",
    "    else:\n",
    "        print(f\"Epoch [{epoch+1}/{epochs}] | Train Loss: {epoch_train_loss:.4f}\")"
   ]
  },
  {
   "cell_type": "code",
   "execution_count": 8,
   "id": "e684c117-4eea-4b45-abd3-097efa2f8ddd",
   "metadata": {},
   "outputs": [
    {
     "data": {
      "image/png": "[encoded data removed]",
      "text/plain": [
       "<Figure size 300x300 with 1 Axes>"
      ]
     },
     "metadata": {},
     "output_type": "display_data"
    }
   ],
   "source": [
    "plt.figure(figsize=(3,3))\n",
    "plt.plot(range(1, len(train_losses)+1), train_losses, label='Train Loss')\n",
    "if do_eval:\n",
    "    plt.plot(range(1, len(val_losses)+1), val_losses, label='Val Loss')\n",
    "plt.xlabel('Epoch')\n",
    "plt.ylabel('MSE Loss')\n",
    "plt.title('Training and Validation Loss')\n",
    "plt.legend()\n",
    "plt.show()"
   ]
  },
  {
   "cell_type": "code",
   "execution_count": 9,
   "id": "80afec7f-0e22-41a8-bb11-1bbb73df9425",
   "metadata": {},
   "outputs": [
    {
     "name": "stdout",
     "output_type": "stream",
     "text": [
      "Raw loss data saved as 'subspace_gen_9b_l20_loss_data.csv'.\n"
     ]
    }
   ],
   "source": [
    "# save losses.\n",
    "loss_data = {\n",
    "    'Epoch': list(range(1, len(train_losses) + 1)),\n",
    "    'Train Loss': train_losses\n",
    "}\n",
    "if do_eval:\n",
    "    loss_data['Val Loss'] = val_losses\n",
    "df_losses = pd.DataFrame(loss_data)\n",
    "csv_filename = f'subspace_gen_{model_name}_{layer}_loss_data.csv'  # You can change the filename as needed\n",
    "df_losses.to_csv(csv_filename, index=False)\n",
    "print(f\"Raw loss data saved as '{csv_filename}'.\")"
   ]
  },
  {
   "cell_type": "code",
   "execution_count": 10,
   "id": "94641193-14a6-4b79-a553-7d4790540bd8",
   "metadata": {},
   "outputs": [
    {
     "name": "stdout",
     "output_type": "stream",
     "text": [
      "Final model saved to subspace_generator.pth\n"
     ]
    }
   ],
   "source": [
    "# optionally, you can save this subspace generator\n",
    "torch.save(subspace_gen.state_dict(), f'subspace_generator_{model_name}_{layer}.pth')\n",
    "print(\"Final model saved to subspace_generator.pth\")"
   ]
  },
  {
   "cell_type": "code",
   "execution_count": 7,
   "id": "4a7acdd1-88fb-4c4b-b2bd-3b7a35f1833f",
   "metadata": {},
   "outputs": [
    {
     "name": "stdout",
     "output_type": "stream",
     "text": [
      "Loading model from saved file subspace_generator.pth\n"
     ]
    }
   ],
   "source": [
    "# optionally, you load from saved weights\n",
    "subspace_gen.load_state_dict(torch.load(f'subspace_generator_{model_name}_{layer}.pth'))\n",
    "print(\"Loading model from saved file subspace_generator.pth\")"
   ]
  },
  {
   "cell_type": "markdown",
   "id": "01e2a633-bc62-4ae0-b0e8-c57e06f3843d",
   "metadata": {},
   "source": [
    "#### Inference with mapping new concept to subspace\n",
    "\n",
    "The training loss looks great! Let's now test with new concepts."
   ]
  },
  {
   "cell_type": "code",
   "execution_count": 88,
   "id": "cd48b428-012d-4951-826d-dab1e2833c55",
   "metadata": {},
   "outputs": [],
   "source": [
    "your_new_concept = \"terms related to Stanford University\""
   ]
  },
  {
   "cell_type": "code",
   "execution_count": 89,
   "id": "7f83a84b-c9eb-4584-808a-9784ae28df0f",
   "metadata": {},
   "outputs": [],
   "source": [
    "subspace_gen.eval()\n",
    "model.eval()\n",
    "inputs = base_tokenizer(your_new_concept, return_tensors=\"pt\").to(\"cuda\")\n",
    "input_ids, attention_mask = inputs[\"input_ids\"], inputs[\"attention_mask\"]\n",
    "your_subspace = subspace_gen(input_ids, attention_mask)[0]"
   ]
  },
  {
   "cell_type": "code",
   "execution_count": 90,
   "id": "618c66c2-5d0b-4535-8b13-405955bd7a34",
   "metadata": {},
   "outputs": [
    {
     "data": {
      "text/plain": [
       "([[('PhysRev', 0.462890625),\n",
       "   (' للمعارف', 0.451171875),\n",
       "   ('ValueStyle', 0.40625),\n",
       "   ('onViewCreated', 0.388671875),\n",
       "   ('텐츠', 0.388671875),\n",
       "   (' Graduate', 0.384765625),\n",
       "   (' students', 0.3828125),\n",
       "   (' professors', 0.380859375),\n",
       "   ('chartInstance', 0.37890625),\n",
       "   ('FormState', 0.373046875)]],\n",
       " [[(' Audiodateien', -0.5625),\n",
       "   ('Personendaten', -0.53515625),\n",
       "   ('WriteTagHelper', -0.48828125),\n",
       "   ('moga', -0.43359375),\n",
       "   (' íntima', -0.421875),\n",
       "   ('onenumber', -0.412109375),\n",
       "   ('HttpFoundation', -0.41015625),\n",
       "   ('uelan', -0.41015625),\n",
       "   ('DCHECK', -0.41015625),\n",
       "   (' electrica', -0.40625)]])"
      ]
     },
     "execution_count": 90,
     "metadata": {},
     "output_type": "execute_result"
    }
   ],
   "source": [
    "get_logits(model, base_tokenizer, your_subspace, k=10)"
   ]
  },
  {
   "cell_type": "markdown",
   "id": "3958c709-b580-4310-8401-33c8c85c7d59",
   "metadata": {},
   "source": [
    "#### Evaluate our subspace generator with `Concept500` (unseen concepts) just like other methods"
   ]
  },
  {
   "cell_type": "code",
   "execution_count": 91,
   "id": "aa5f4197-9eac-447d-acbd-c5d07946d4e1",
   "metadata": {},
   "outputs": [],
   "source": [
    "concept500 = load_jsonl(f\"../concept500/prod_{model_name}_{layer}_v1/generate/metadata.jsonl\")\n",
    "concept500_subspaces = []\n",
    "for md in concept500:\n",
    "    your_new_concept = md[\"concept\"]\n",
    "    inputs = base_tokenizer(your_new_concept, return_tensors=\"pt\").to(\"cuda\")\n",
    "    input_ids, attention_mask = inputs[\"input_ids\"], inputs[\"attention_mask\"]\n",
    "    your_subspace = subspace_gen(input_ids, attention_mask)[0]\n",
    "    concept500_subspaces += [your_subspace]\n",
    "concept500_subspaces = torch.stack(concept500_subspaces, dim=0)"
   ]
  },
  {
   "cell_type": "code",
   "execution_count": 92,
   "id": "9123187f-4553-4eda-ae4b-4a889760d237",
   "metadata": {},
   "outputs": [],
   "source": [
    "# saving as other weight files\n",
    "torch.save(concept500_subspaces, f\"LsReFT_weight_{model_name}_{layer}_gen.pt\")"
   ]
  }
 ],
 "metadata": {
  "kernelspec": {
   "display_name": "Python 3 (ipykernel)",
   "language": "python",
   "name": "python3"
  },
  "language_info": {
   "codemirror_mode": {
    "name": "ipython",
    "version": 3
   },
   "file_extension": ".py",
   "mimetype": "text/x-python",
   "name": "python",
   "nbconvert_exporter": "python",
   "pygments_lexer": "ipython3",
   "version": "3.10.13"
  }
 },
 "nbformat": 4,
 "nbformat_minor": 5
}
