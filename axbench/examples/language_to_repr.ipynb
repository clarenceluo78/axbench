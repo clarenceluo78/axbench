{
 "cells": [
  {
   "cell_type": "markdown",
   "id": "11f34e0a-5c26-4b5a-8732-5f2fc1498e04",
   "metadata": {},
   "source": [
    "## Subspaces <> Language\n",
    "\n",
    "In these experiments, we aim to map concept descriptions to subspace representations. Our goal is to find a model that generates representations corresponding to the concept descriptions."
   ]
  },
  {
   "cell_type": "markdown",
   "id": "c0a85090-3b6a-4244-ac70-3fef1a9f93ce",
   "metadata": {},
   "source": [
    "#### Set-ups"
   ]
  },
  {
   "cell_type": "code",
   "execution_count": 1,
   "id": "ed3a7f21-fb82-401c-a502-517f8eda6895",
   "metadata": {},
   "outputs": [
    {
     "name": "stderr",
     "output_type": "stream",
     "text": [
      "/u/nlp/anaconda/main/anaconda3/envs/wuzhengx-310/lib/python3.10/site-packages/transformers/utils/hub.py:128: FutureWarning: Using `TRANSFORMERS_CACHE` is deprecated and will be removed in v5 of Transformers. Use `HF_HOME` instead.\n",
      "  warnings.warn(\n"
     ]
    }
   ],
   "source": [
    "import torch, json, random, einops\n",
    "import torch.nn as nn\n",
    "import torch.nn.functional as F\n",
    "from torch.utils.data import Dataset, DataLoader\n",
    "from transformers import (\n",
    "    AutoModelForCausalLM, \n",
    "    AutoTokenizer, \n",
    "    AdamW,\n",
    "    get_linear_schedule_with_warmup\n",
    ")\n",
    "from tqdm import tqdm\n",
    "import matplotlib.pyplot as plt"
   ]
  },
  {
   "cell_type": "code",
   "execution_count": 2,
   "id": "c78ce1e4-f4ea-4f14-812c-1c25922d1231",
   "metadata": {},
   "outputs": [],
   "source": [
    "def load_jsonl(jsonl_path):\n",
    "    \"\"\"\n",
    "    Load data from a JSON lines file.\n",
    "    \"\"\"\n",
    "    jsonl_data = []\n",
    "    with open(jsonl_path, 'r') as f:\n",
    "        for line in f:\n",
    "            data = json.loads(line)\n",
    "            jsonl_data += [data]\n",
    "    return jsonl_data\n",
    "\n",
    "def get_logits(model, tokenizer, concept_subspace, k=10):\n",
    "    top_logits, neg_logits = [None], [None]\n",
    "\n",
    "    W_U = model.lm_head.weight.T\n",
    "    W_U = W_U * (model.model.norm.weight +\n",
    "                torch.ones_like(model.model.norm.weight))[:, None]\n",
    "    W_U -= einops.reduce(\n",
    "        W_U, \"d_model d_vocab -> 1 d_vocab\", \"mean\"\n",
    "    )\n",
    "\n",
    "    vocab_logits = concept_subspace @ W_U\n",
    "    top_values, top_indices = vocab_logits.topk(k=k, sorted=True)\n",
    "    top_tokens = tokenizer.batch_decode(top_indices.unsqueeze(dim=-1))\n",
    "    top_logits = [list(zip(top_tokens, top_values.tolist()))]\n",
    "    \n",
    "    neg_values, neg_indices = vocab_logits.topk(k=k, largest=False, sorted=True)\n",
    "    neg_tokens = tokenizer.batch_decode(neg_indices.unsqueeze(dim=-1))\n",
    "    neg_logits = [list(zip(neg_tokens, neg_values.tolist()))]\n",
    "\n",
    "    return top_logits, neg_logits\n",
    "\n",
    "class MyDataset(Dataset):\n",
    "    def __init__(self, x_list, y_list):\n",
    "        self.x_list = x_list\n",
    "        self.y_list = y_list\n",
    "        \n",
    "    def __len__(self):\n",
    "        return len(self.x_list)\n",
    "    \n",
    "    def __getitem__(self, idx):\n",
    "        return self.x_list[idx], self.y_list[idx]\n",
    "\n",
    "def my_collate_fn(batch):\n",
    "    x_texts, y_tensors = zip(*batch)\n",
    "    encodings = tokenizer(\n",
    "        list(x_texts),\n",
    "        return_tensors=\"pt\",\n",
    "        padding=True,\n",
    "        truncation=True,\n",
    "        max_length=512\n",
    "    )\n",
    "    y_tensors = torch.stack(y_tensors, dim=0)\n",
    "    return encodings, y_tensors\n",
    "\n",
    "class RegressionWrapper(nn.Module):\n",
    "    def __init__(self, base_model, hidden_size, output_dim):\n",
    "        super().__init__()\n",
    "        self.base_model = base_model\n",
    "        self.regression_head = nn.Linear(hidden_size, output_dim)\n",
    "\n",
    "    def forward(self, input_ids, attention_mask):\n",
    "        outputs = self.base_model.base_model(\n",
    "            input_ids=input_ids, \n",
    "            attention_mask=attention_mask,\n",
    "            output_hidden_states=True,\n",
    "            return_dict=True\n",
    "        )\n",
    "        last_hiddens = outputs.hidden_states[-1]\n",
    "        last_token_indices = attention_mask.sum(dim=1) - 1\n",
    "        last_token_representations = last_hiddens[torch.arange(last_hiddens.shape[0]), last_token_indices]\n",
    "        preds = self.regression_head(last_token_representations)  # shape: [batch_size, output_dim]\n",
    "        preds = F.normalize(preds, p=2, dim=1)\n",
    "        return preds"
   ]
  },
  {
   "cell_type": "code",
   "execution_count": 3,
   "id": "e2ea4708-8e98-47cb-b7b7-eb3a40590aaf",
   "metadata": {},
   "outputs": [],
   "source": [
    "lsreft = torch.load(\"../results/prod_2b_l20_concept16k_lsreft/train/LsReFT_weight.pt\")\n",
    "lsreft_metadata = load_jsonl(\"../results/prod_2b_l20_concept16k_lsreft/train/metadata.jsonl\")\n",
    "assert lsreft.shape[0] == len(lsreft_metadata)"
   ]
  },
  {
   "cell_type": "markdown",
   "id": "e9f6df71-32cf-4fa4-8db0-f75a86a8b5b0",
   "metadata": {},
   "source": [
    "#### Unembed learned subspace\n",
    "\n",
    "We can follow unembed the learned subspace to output tokens, and get top ranked tokens that are related to the learned subspace."
   ]
  },
  {
   "cell_type": "code",
   "execution_count": 4,
   "id": "7f2ba1b4-d294-4080-9744-7010c09bf1dc",
   "metadata": {},
   "outputs": [
    {
     "data": {
      "application/vnd.jupyter.widget-view+json": {
       "model_id": "4609023c622848beaa62073263ab27b2",
       "version_major": 2,
       "version_minor": 0
      },
      "text/plain": [
       "Downloading shards:   0%|          | 0/2 [00:00<?, ?it/s]"
      ]
     },
     "metadata": {},
     "output_type": "display_data"
    },
    {
     "data": {
      "application/vnd.jupyter.widget-view+json": {
       "model_id": "1f955fca26a94ce1bbe93e3c5f88f67d",
       "version_major": 2,
       "version_minor": 0
      },
      "text/plain": [
       "Loading checkpoint shards:   0%|          | 0/2 [00:00<?, ?it/s]"
      ]
     },
     "metadata": {},
     "output_type": "display_data"
    }
   ],
   "source": [
    "# Load the interpreting model\n",
    "model = AutoModelForCausalLM.from_pretrained(\n",
    "    \"google/gemma-2-2b-it\", torch_dtype=torch.bfloat16)\n",
    "_ = model.cuda()\n",
    "tokenizer = AutoTokenizer.from_pretrained(\n",
    "    \"google/gemma-2-2b-it\", model_max_length=512)"
   ]
  },
  {
   "cell_type": "code",
   "execution_count": 5,
   "id": "3150e7f1-47ca-46fe-ba40-19e8cb796349",
   "metadata": {},
   "outputs": [
    {
     "data": {
      "text/plain": [
       "340"
      ]
     },
     "execution_count": 5,
     "metadata": {},
     "output_type": "execute_result"
    }
   ],
   "source": [
    "# Get a random subspace and its label\n",
    "concept_id = random.randint(0, lsreft.shape[0] - 1)\n",
    "concept_id"
   ]
  },
  {
   "cell_type": "code",
   "execution_count": 6,
   "id": "1788a968-13a0-4d59-b85b-6fd7b2107e9c",
   "metadata": {},
   "outputs": [
    {
     "name": "stdout",
     "output_type": "stream",
     "text": [
      "Concept: occurrences of the term \"Mar\" followed by relevant numerical and descriptive modifiers\n"
     ]
    }
   ],
   "source": [
    "concept_subspace = lsreft[concept_id].cuda()\n",
    "print(\"Concept:\", lsreft_metadata[concept_id][\"concept\"])"
   ]
  },
  {
   "cell_type": "code",
   "execution_count": 7,
   "id": "6723189b-9e4b-46d3-9d75-9c02392a3bda",
   "metadata": {},
   "outputs": [
    {
     "data": {
      "text/plain": [
       "([[(' occurrences', 1.15625),\n",
       "   ('Mar', 1.0390625),\n",
       "   (' occurring', 1.0234375),\n",
       "   (' Mar', 1.0078125),\n",
       "   (' Notably', 0.98828125)]],\n",
       " [[('asiest', -0.57421875),\n",
       "   (' lät', -0.5546875),\n",
       "   ('principalTable', -0.55078125),\n",
       "   ('principle', -0.53125),\n",
       "   (' biß', -0.50390625)]])"
      ]
     },
     "execution_count": 7,
     "metadata": {},
     "output_type": "execute_result"
    }
   ],
   "source": [
    "get_logits(model, tokenizer, concept_subspace, k=5)"
   ]
  },
  {
   "cell_type": "markdown",
   "id": "fac4c980-df7b-4901-b16c-8d7baf81c930",
   "metadata": {},
   "source": [
    "Nice! We are at least getting interpretable tokens that are closely related to the concept!"
   ]
  },
  {
   "cell_type": "markdown",
   "id": "344c2bf1-dc2a-4490-9f03-35f287dc6922",
   "metadata": {},
   "source": [
    "#### Training to map concept to subspace via learning\n",
    "\n",
    "Let's first create some training / validation dataset:\n",
    "```\n",
    "input  : concept described in natural language\n",
    "output : concept subspace\n",
    "```"
   ]
  },
  {
   "cell_type": "code",
   "execution_count": 8,
   "id": "5bf3a878-5add-4da4-a248-033bced1e4e0",
   "metadata": {},
   "outputs": [],
   "source": [
    "x = [md[\"concept\"] for md in lsreft_metadata]\n",
    "y = [lsreft[i] for i in range(lsreft.shape[0])]\n",
    "\n",
    "x_train, x_test = x[:-1000], x[-1000:]\n",
    "y_train, y_test = y[:-1000], y[-1000:]\n",
    "\n",
    "train_dataset = MyDataset(x_train, y_train)\n",
    "val_dataset   = MyDataset(x_test, y_test)\n",
    "train_loader  = DataLoader(train_dataset, batch_size=128, shuffle=True, collate_fn=my_collate_fn)\n",
    "val_loader    = DataLoader(val_dataset,   batch_size=128, shuffle=False, collate_fn=my_collate_fn)"
   ]
  },
  {
   "cell_type": "markdown",
   "id": "950b67fb-c4c5-4d3d-8542-d77b3cd72515",
   "metadata": {},
   "source": [
    "We will finetune our language model to predict `y` from `x`"
   ]
  },
  {
   "cell_type": "code",
   "execution_count": 9,
   "id": "cb57ef75-9037-478a-9283-886ae9b2e8f3",
   "metadata": {},
   "outputs": [
    {
     "data": {
      "application/vnd.jupyter.widget-view+json": {
       "model_id": "1a97c23da74f48a4bb945bdceefa7c74",
       "version_major": 2,
       "version_minor": 0
      },
      "text/plain": [
       "Downloading shards:   0%|          | 0/2 [00:00<?, ?it/s]"
      ]
     },
     "metadata": {},
     "output_type": "display_data"
    },
    {
     "data": {
      "application/vnd.jupyter.widget-view+json": {
       "model_id": "cbddbaf09cc349cb9f208ea2c18bfc18",
       "version_major": 2,
       "version_minor": 0
      },
      "text/plain": [
       "Loading checkpoint shards:   0%|          | 0/2 [00:00<?, ?it/s]"
      ]
     },
     "metadata": {},
     "output_type": "display_data"
    }
   ],
   "source": [
    "# Load the interpreting model\n",
    "base_model = AutoModelForCausalLM.from_pretrained(\n",
    "    \"google/gemma-2-2b-it\", torch_dtype=torch.bfloat16)\n",
    "_ = base_model.cuda()\n",
    "tokenizer = AutoTokenizer.from_pretrained(\n",
    "    \"google/gemma-2-2b-it\", model_max_length=512)"
   ]
  },
  {
   "cell_type": "code",
   "execution_count": 27,
   "id": "f4c9fcad-636c-4eab-9bb5-d3a89d43d536",
   "metadata": {},
   "outputs": [],
   "source": [
    "hidden_size = base_model.config.hidden_size\n",
    "output_dim = y_train[0].shape[-1]\n",
    "subspace_gen = RegressionWrapper(base_model, hidden_size, output_dim).bfloat16().to(\"cuda\")\n",
    "\n",
    "epochs = 24\n",
    "learning_rate = 8e-2\n",
    "\n",
    "optimizer = AdamW(subspace_gen.parameters(), lr=learning_rate, weight_decay=0.0)\n",
    "mse_criterion = nn.MSELoss(reduction=\"none\")\n",
    "cos_criterion = nn.CosineEmbeddingLoss(reduction=\"none\")\n",
    "\n",
    "num_training_steps = epochs * len(train_loader)\n",
    "scheduler = get_linear_schedule_with_warmup(\n",
    "    optimizer, \n",
    "    num_warmup_steps=0,\n",
    "    num_training_steps=num_training_steps\n",
    ")"
   ]
  },
  {
   "cell_type": "code",
   "execution_count": 28,
   "id": "cc5ffbfb-f5f0-49a0-a660-4407c463f857",
   "metadata": {},
   "outputs": [
    {
     "name": "stderr",
     "output_type": "stream",
     "text": [
      "                                                                                                                                                                                                                 \r"
     ]
    },
    {
     "name": "stdout",
     "output_type": "stream",
     "text": [
      "Epoch [1/24] | Train Loss: 1.6170 | Val Loss: 1.4902\n"
     ]
    },
    {
     "name": "stderr",
     "output_type": "stream",
     "text": [
      "                                                                                                                                                                                                                 \r"
     ]
    },
    {
     "name": "stdout",
     "output_type": "stream",
     "text": [
      "Epoch [2/24] | Train Loss: 1.4899 | Val Loss: 1.4922\n"
     ]
    },
    {
     "name": "stderr",
     "output_type": "stream",
     "text": [
      "                                                                                                                                                                                                                 \r"
     ]
    },
    {
     "name": "stdout",
     "output_type": "stream",
     "text": [
      "Epoch [3/24] | Train Loss: 1.4892 | Val Loss: 1.4863\n"
     ]
    },
    {
     "name": "stderr",
     "output_type": "stream",
     "text": [
      "                                                                                                                                                                                                                 \r"
     ]
    },
    {
     "name": "stdout",
     "output_type": "stream",
     "text": [
      "Epoch [4/24] | Train Loss: 1.4879 | Val Loss: 1.4863\n"
     ]
    },
    {
     "name": "stderr",
     "output_type": "stream",
     "text": [
      "                                                                                                                                                                                                                 \r"
     ]
    },
    {
     "name": "stdout",
     "output_type": "stream",
     "text": [
      "Epoch [5/24] | Train Loss: 1.4864 | Val Loss: 1.4854\n"
     ]
    },
    {
     "name": "stderr",
     "output_type": "stream",
     "text": [
      "                                                                                                                                                                                                                 \r"
     ]
    },
    {
     "name": "stdout",
     "output_type": "stream",
     "text": [
      "Epoch [6/24] | Train Loss: 1.4718 | Val Loss: 1.5068\n"
     ]
    },
    {
     "name": "stderr",
     "output_type": "stream",
     "text": [
      "                                                                                                                                                                                                                 \r"
     ]
    },
    {
     "name": "stdout",
     "output_type": "stream",
     "text": [
      "Epoch [7/24] | Train Loss: 1.4563 | Val Loss: 1.4766\n"
     ]
    },
    {
     "name": "stderr",
     "output_type": "stream",
     "text": [
      "                                                                                                                                                                                                                 \r"
     ]
    },
    {
     "name": "stdout",
     "output_type": "stream",
     "text": [
      "Epoch [8/24] | Train Loss: 1.4596 | Val Loss: 1.4619\n"
     ]
    },
    {
     "name": "stderr",
     "output_type": "stream",
     "text": [
      "                                                                                                                                                                                                                 \r"
     ]
    },
    {
     "name": "stdout",
     "output_type": "stream",
     "text": [
      "Epoch [9/24] | Train Loss: 1.4267 | Val Loss: 1.3730\n"
     ]
    },
    {
     "name": "stderr",
     "output_type": "stream",
     "text": [
      "                                                                                                                                                                                                                 \r"
     ]
    },
    {
     "name": "stdout",
     "output_type": "stream",
     "text": [
      "Epoch [10/24] | Train Loss: 1.4095 | Val Loss: 1.4023\n"
     ]
    },
    {
     "name": "stderr",
     "output_type": "stream",
     "text": [
      "                                                                                                                                                                                                                 \r"
     ]
    },
    {
     "name": "stdout",
     "output_type": "stream",
     "text": [
      "Epoch [11/24] | Train Loss: 1.3821 | Val Loss: 1.3584\n"
     ]
    },
    {
     "name": "stderr",
     "output_type": "stream",
     "text": [
      "                                                                                                                                                                                                                 \r"
     ]
    },
    {
     "name": "stdout",
     "output_type": "stream",
     "text": [
      "Epoch [12/24] | Train Loss: 1.3218 | Val Loss: 1.3359\n"
     ]
    },
    {
     "name": "stderr",
     "output_type": "stream",
     "text": [
      "                                                                                                                                                                                                                 \r"
     ]
    },
    {
     "name": "stdout",
     "output_type": "stream",
     "text": [
      "Epoch [13/24] | Train Loss: 1.3087 | Val Loss: 1.3408\n"
     ]
    },
    {
     "name": "stderr",
     "output_type": "stream",
     "text": [
      "                                                                                                                                                                                                                 \r"
     ]
    },
    {
     "name": "stdout",
     "output_type": "stream",
     "text": [
      "Epoch [14/24] | Train Loss: 1.3037 | Val Loss: 1.3223\n"
     ]
    },
    {
     "name": "stderr",
     "output_type": "stream",
     "text": [
      "                                                                                                                                                                                                                 \r"
     ]
    },
    {
     "name": "stdout",
     "output_type": "stream",
     "text": [
      "Epoch [15/24] | Train Loss: 1.2841 | Val Loss: 1.3262\n"
     ]
    },
    {
     "name": "stderr",
     "output_type": "stream",
     "text": [
      "                                                                                                                                                                                                                 \r"
     ]
    },
    {
     "name": "stdout",
     "output_type": "stream",
     "text": [
      "Epoch [16/24] | Train Loss: 1.2954 | Val Loss: 1.3115\n"
     ]
    },
    {
     "name": "stderr",
     "output_type": "stream",
     "text": [
      "                                                                                                                                                                                                                 \r"
     ]
    },
    {
     "name": "stdout",
     "output_type": "stream",
     "text": [
      "Epoch [17/24] | Train Loss: 1.2693 | Val Loss: 1.3037\n"
     ]
    },
    {
     "name": "stderr",
     "output_type": "stream",
     "text": [
      "                                                                                                                                                                                                                 \r"
     ]
    },
    {
     "name": "stdout",
     "output_type": "stream",
     "text": [
      "Epoch [18/24] | Train Loss: 1.2664 | Val Loss: 1.3047\n"
     ]
    },
    {
     "name": "stderr",
     "output_type": "stream",
     "text": [
      "                                                                                                                                                                                                                 \r"
     ]
    },
    {
     "name": "stdout",
     "output_type": "stream",
     "text": [
      "Epoch [19/24] | Train Loss: 1.2558 | Val Loss: 1.2920\n"
     ]
    },
    {
     "name": "stderr",
     "output_type": "stream",
     "text": [
      "                                                                                                                                                                                                                 \r"
     ]
    },
    {
     "name": "stdout",
     "output_type": "stream",
     "text": [
      "Epoch [20/24] | Train Loss: 1.2555 | Val Loss: 1.2959\n"
     ]
    },
    {
     "name": "stderr",
     "output_type": "stream",
     "text": [
      "                                                                                                                                                                                                                 \r"
     ]
    },
    {
     "name": "stdout",
     "output_type": "stream",
     "text": [
      "Epoch [21/24] | Train Loss: 1.2516 | Val Loss: 1.2910\n"
     ]
    },
    {
     "name": "stderr",
     "output_type": "stream",
     "text": [
      "                                                                                                                                                                                                                 \r"
     ]
    },
    {
     "name": "stdout",
     "output_type": "stream",
     "text": [
      "Epoch [22/24] | Train Loss: 1.2492 | Val Loss: 1.2861\n"
     ]
    },
    {
     "name": "stderr",
     "output_type": "stream",
     "text": [
      "                                                                                                                                                                                                                 \r"
     ]
    },
    {
     "name": "stdout",
     "output_type": "stream",
     "text": [
      "Epoch [23/24] | Train Loss: 1.2492 | Val Loss: 1.2871\n"
     ]
    },
    {
     "name": "stderr",
     "output_type": "stream",
     "text": [
      "                                                                                                                                                                                                                 \r"
     ]
    },
    {
     "name": "stdout",
     "output_type": "stream",
     "text": [
      "Epoch [24/24] | Train Loss: 1.2523 | Val Loss: 1.2861\n"
     ]
    }
   ],
   "source": [
    "train_losses = []\n",
    "val_losses = []\n",
    "\n",
    "for epoch in range(epochs):\n",
    "    subspace_gen.train()\n",
    "    epoch_train_loss = 0.0\n",
    "    \n",
    "    # Wrap your dataloader with tqdm so you get a progress bar\n",
    "    pbar = tqdm(train_loader, \n",
    "                total=len(train_loader), \n",
    "                desc=f\"Epoch {epoch+1}/{epochs}\", \n",
    "                leave=False)\n",
    "\n",
    "    for batch_idx, (encodings, y_true) in enumerate(pbar):\n",
    "        input_ids = encodings[\"input_ids\"].to(\"cuda\")\n",
    "        attention_mask = encodings[\"attention_mask\"].to(\"cuda\")\n",
    "        y_true = y_true.to(\"cuda\")\n",
    "\n",
    "        optimizer.zero_grad()\n",
    "        \n",
    "        # Forward pass\n",
    "        y_pred = subspace_gen(input_ids, attention_mask)\n",
    "        \n",
    "        # Compute loss\n",
    "        mse_loss = mse_criterion(y_pred, y_true) \n",
    "        mse_loss = mse_loss.sum(dim=-1).mean()\n",
    "        similarity = F.cosine_similarity(y_pred, y_true, dim=-1)  # shape: [batch_size]\n",
    "        cos_loss = 1.0 - similarity.mean()\n",
    "        loss = mse_loss + cos_loss\n",
    "        \n",
    "        loss.backward()\n",
    "        \n",
    "        optimizer.step()\n",
    "        scheduler.step()\n",
    "        \n",
    "        # Accumulate training loss\n",
    "        epoch_train_loss += loss.item()\n",
    "        \n",
    "        # Update tqdm progress bar with current loss\n",
    "        pbar.set_postfix({\"train_loss\": f\"{loss.item():.4f}\"})\n",
    "\n",
    "    # Average training loss for the epoch\n",
    "    epoch_train_loss /= len(train_loader)\n",
    "    train_losses.append(epoch_train_loss)\n",
    "\n",
    "    subspace_gen.eval()\n",
    "    epoch_val_loss = 0.0\n",
    "    with torch.no_grad():\n",
    "        for encodings, y_true in val_loader:\n",
    "            input_ids = encodings[\"input_ids\"].to(\"cuda\")\n",
    "            attention_mask = encodings[\"attention_mask\"].to(\"cuda\")\n",
    "            y_true = y_true.to(\"cuda\")\n",
    "            \n",
    "            y_pred = subspace_gen(input_ids, attention_mask)\n",
    "            \n",
    "            mse_loss = mse_criterion(y_pred, y_true) \n",
    "            mse_loss = mse_loss.sum(dim=-1).mean()\n",
    "            similarity = F.cosine_similarity(y_pred, y_true, dim=-1)  # shape: [batch_size]\n",
    "            cos_loss = 1.0 - similarity.mean()\n",
    "            loss = mse_loss + cos_loss\n",
    "        \n",
    "            epoch_val_loss += loss.item()\n",
    "    \n",
    "    epoch_val_loss /= len(val_loader)\n",
    "    val_losses.append(epoch_val_loss)\n",
    "\n",
    "    print(f\"Epoch [{epoch+1}/{epochs}] | Train Loss: {epoch_train_loss:.4f} | Val Loss: {epoch_val_loss:.4f}\")"
   ]
  },
  {
   "cell_type": "code",
   "execution_count": 30,
   "id": "e684c117-4eea-4b45-abd3-097efa2f8ddd",
   "metadata": {},
   "outputs": [
    {
     "data": {
      "image/png": "[encoded data removed]",
      "text/plain": [
       "<Figure size 300x300 with 1 Axes>"
      ]
     },
     "metadata": {},
     "output_type": "display_data"
    }
   ],
   "source": [
    "plt.figure(figsize=(3,3))\n",
    "plt.plot(range(1, epochs+1), train_losses, label='Train Loss')\n",
    "plt.plot(range(1, epochs+1), val_losses, label='Val Loss')\n",
    "plt.xlabel('Epoch')\n",
    "plt.ylabel('MSE Loss')\n",
    "plt.title('Training and Validation Loss')\n",
    "plt.legend()\n",
    "plt.show()"
   ]
  },
  {
   "cell_type": "markdown",
   "id": "01e2a633-bc62-4ae0-b0e8-c57e06f3843d",
   "metadata": {},
   "source": [
    "#### Inference with mapping new concept to subspace\n",
    "\n",
    "The training loss looks great! Let's now test with new concepts."
   ]
  },
  {
   "cell_type": "code",
   "execution_count": 31,
   "id": "cd48b428-012d-4951-826d-dab1e2833c55",
   "metadata": {},
   "outputs": [],
   "source": [
    "your_new_concept = \"references to rental services and associated equipment\""
   ]
  },
  {
   "cell_type": "code",
   "execution_count": 32,
   "id": "7f83a84b-c9eb-4584-808a-9784ae28df0f",
   "metadata": {},
   "outputs": [],
   "source": [
    "subspace_gen.eval()\n",
    "model.eval()\n",
    "inputs = tokenizer(your_new_concept, return_tensors=\"pt\").to(\"cuda\")\n",
    "input_ids, attention_mask = inputs[\"input_ids\"], inputs[\"attention_mask\"]\n",
    "your_subspace = subspace_gen(input_ids, attention_mask)[0]"
   ]
  },
  {
   "cell_type": "code",
   "execution_count": 33,
   "id": "618c66c2-5d0b-4535-8b13-405955bd7a34",
   "metadata": {},
   "outputs": [
    {
     "data": {
      "text/plain": [
       "([[(' akin', 1.0078125),\n",
       "   (' reminiscent', 0.8515625),\n",
       "   (' wherein', 0.8125),\n",
       "   ('wherein', 0.75390625),\n",
       "   (\" '/';\", 0.75),\n",
       "   ('.},', 0.74609375),\n",
       "   (' analogous', 0.73828125),\n",
       "   (' amid', 0.72265625),\n",
       "   (' –,', 0.71484375),\n",
       "   ('듯', 0.70703125)]],\n",
       " [[(' pretty', -0.71484375),\n",
       "   ('asiest', -0.6953125),\n",
       "   (' stupidly', -0.67578125),\n",
       "   (' montón', -0.64453125),\n",
       "   (' REALLY', -0.64453125),\n",
       "   (' crappy', -0.63671875),\n",
       "   (' honte', -0.63671875),\n",
       "   (' opinião', -0.62890625),\n",
       "   (' stupid', -0.609375),\n",
       "   (' wierd', -0.609375)]])"
      ]
     },
     "execution_count": 33,
     "metadata": {},
     "output_type": "execute_result"
    }
   ],
   "source": [
    "get_logits(model, tokenizer, your_subspace, k=10)"
   ]
  },
  {
   "cell_type": "code",
   "execution_count": null,
   "id": "5944ecd8-4411-40ab-8a5d-e1ea4fbd281b",
   "metadata": {},
   "outputs": [],
   "source": []
  }
 ],
 "metadata": {
  "kernelspec": {
   "display_name": "Python 3 (ipykernel)",
   "language": "python",
   "name": "python3"
  },
  "language_info": {
   "codemirror_mode": {
    "name": "ipython",
    "version": 3
   },
   "file_extension": ".py",
   "mimetype": "text/x-python",
   "name": "python",
   "nbconvert_exporter": "python",
   "pygments_lexer": "ipython3",
   "version": "3.10.13"
  }
 },
 "nbformat": 4,
 "nbformat_minor": 5
}
