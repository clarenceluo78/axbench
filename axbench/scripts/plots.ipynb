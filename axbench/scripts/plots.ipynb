{
 "cells": [
  {
   "cell_type": "markdown",
   "id": "2b0cb17e-b057-4b8a-9033-eec7751152c0",
   "metadata": {},
   "source": [
    "## Plots\n",
    "\n",
    "This notebook includes our plotting functions for various figures presented in the paper."
   ]
  },
  {
   "cell_type": "code",
   "execution_count": 7,
   "id": "4ce1c742-b230-45d4-a470-e791c1dcc833",
   "metadata": {},
   "outputs": [
    {
     "name": "stderr",
     "output_type": "stream",
     "text": [
      "/u/nlp/anaconda/main/anaconda3/envs/wuzhengx-310/lib/python3.10/site-packages/transformers/utils/hub.py:127: FutureWarning: Using `TRANSFORMERS_CACHE` is deprecated and will be removed in v5 of Transformers. Use `HF_HOME` instead.\n",
      "  warnings.warn(\n"
     ]
    }
   ],
   "source": [
    "try:\n",
    "    # This library is our indicator that the required installs\n",
    "    # need to be done.\n",
    "    import pyreax\n",
    "\n",
    "except ModuleNotFoundError:\n",
    "    # relative import; better to pip install subctrl\n",
    "    import sys\n",
    "    sys.path.append(\"../../pyreax\")\n",
    "    import pyreax\n",
    "\n",
    "import os, glob, random\n",
    "import pandas as pd\n",
    "from pathlib import Path\n",
    "from pyreax import load_jsonl, plot_roc_auc"
   ]
  }
 ],
 "metadata": {
  "kernelspec": {
   "display_name": "Python 3 (ipykernel)",
   "language": "python",
   "name": "python3"
  },
  "language_info": {
   "codemirror_mode": {
    "name": "ipython",
    "version": 3
   },
   "file_extension": ".py",
   "mimetype": "text/x-python",
   "name": "python",
   "nbconvert_exporter": "python",
   "pygments_lexer": "ipython3",
   "version": "3.10.13"
  }
 },
 "nbformat": 4,
 "nbformat_minor": 5
}
