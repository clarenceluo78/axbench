{
 "cells": [
  {
   "cell_type": "markdown",
   "id": "0f574b3b-7c21-4027-8f91-974cdb425b62",
   "metadata": {},
   "source": [
    "## A step-by-step guide of finding meaningful subspaces with ReAX."
   ]
  },
  {
   "cell_type": "markdown",
   "id": "db1086f1-c347-4548-9ce0-1a60db93f2af",
   "metadata": {},
   "source": [
    "#### Set-up."
   ]
  },
  {
   "cell_type": "code",
   "execution_count": 1,
   "id": "b9ce12f3-b73a-4389-a885-2d6eb22202ff",
   "metadata": {},
   "outputs": [
    {
     "name": "stderr",
     "output_type": "stream",
     "text": [
      "/u/nlp/anaconda/main/anaconda3/envs/wuzhengx-310/lib/python3.10/site-packages/transformers/utils/hub.py:127: FutureWarning: Using `TRANSFORMERS_CACHE` is deprecated and will be removed in v5 of Transformers. Use `HF_HOME` instead.\n",
      "  warnings.warn(\n"
     ]
    }
   ],
   "source": [
    "try:\n",
    "    # This library is our indicator that the required installs\n",
    "    # need to be done.\n",
    "    import pyreax\n",
    "\n",
    "except ModuleNotFoundError:\n",
    "    # relative import; better to pip install subctrl\n",
    "    import sys\n",
    "    sys.path.append(\"..\")\n",
    "    import pyreax"
   ]
  },
  {
   "cell_type": "code",
   "execution_count": 2,
   "id": "63dcd5a4-7af1-45f2-9c75-e283a605a284",
   "metadata": {},
   "outputs": [
    {
     "name": "stderr",
     "output_type": "stream",
     "text": [
      "/tmp/wuzhengx/ipykernel_3361754/3047362727.py:17: DeprecationWarning: Importing display from IPython.core.display is deprecated since IPython 7.14, please import from IPython display\n",
      "  from IPython.core.display import display, HTML\n"
     ]
    }
   ],
   "source": [
    "import pandas as pd\n",
    "from tqdm.auto import tqdm\n",
    "from torch.utils.data import DataLoader\n",
    "import torch, pyreft\n",
    "from pyvene import (\n",
    "    IntervenableModel,\n",
    "    ConstantSourceIntervention,\n",
    "    SourcelessIntervention,\n",
    "    TrainableIntervention,\n",
    "    DistributedRepresentationIntervention,\n",
    ")\n",
    "\n",
    "from transformers import AutoModelForCausalLM, AutoTokenizer\n",
    "from transformers import get_scheduler\n",
    "\n",
    "from circuitsvis.tokens import colored_tokens\n",
    "from IPython.core.display import display, HTML\n",
    "from pyreax import (\n",
    "    EXAMPLE_TAG, \n",
    "    ReAXFactory, \n",
    "    MaxReLUIntervention, \n",
    "    SubspaceAdditionIntervention, \n",
    "    make_data_module, \n",
    "    save_reax\n",
    ")\n",
    "from pyreax import (\n",
    "    set_decoder_norm_to_unit_norm, \n",
    "    remove_gradient_parallel_to_decoder_directions,\n",
    "    gather_residual_activations\n",
    ")\n",
    "\n",
    "def get_lr(optimizer):\n",
    "    for param_group in optimizer.param_groups:\n",
    "        return param_group['lr']"
   ]
  },
  {
   "cell_type": "code",
   "execution_count": 3,
   "id": "de572da7-27cf-4fb1-aedc-fa1e3b20026a",
   "metadata": {},
   "outputs": [
    {
     "data": {
      "application/vnd.jupyter.widget-view+json": {
       "model_id": "1d068bb150db4e1a998cb4a699ae2ead",
       "version_major": 2,
       "version_minor": 0
      },
      "text/plain": [
       "Downloading shards:   0%|          | 0/3 [00:00<?, ?it/s]"
      ]
     },
     "metadata": {},
     "output_type": "display_data"
    },
    {
     "data": {
      "application/vnd.jupyter.widget-view+json": {
       "model_id": "53e1a1d10b5843348d0b0a5d73a78480",
       "version_major": 2,
       "version_minor": 0
      },
      "text/plain": [
       "Loading checkpoint shards:   0%|          | 0/3 [00:00<?, ?it/s]"
      ]
     },
     "metadata": {},
     "output_type": "display_data"
    }
   ],
   "source": [
    "# Load lm.\n",
    "model_name = \"google/gemma-2-2b\"\n",
    "model = AutoModelForCausalLM.from_pretrained(model_name, device_map=\"cpu\")\n",
    "model.config.use_cache = False\n",
    "model = model.cuda()\n",
    "\n",
    "tokenizer =  AutoTokenizer.from_pretrained(model_name)\n",
    "tokenizer.padding_side = \"right\""
   ]
  },
  {
   "cell_type": "markdown",
   "id": "004c2cd6-dd9d-4711-8b6c-db597240e0e6",
   "metadata": {},
   "source": [
    "#### Dataset creation."
   ]
  },
  {
   "cell_type": "code",
   "execution_count": 4,
   "id": "8f1f9f88-ee8d-48d7-8f2a-1c5a62172f3f",
   "metadata": {},
   "outputs": [
    {
     "name": "stderr",
     "output_type": "stream",
     "text": [
      "Prepare contrast concepts.\n",
      "Fectching 2 contrast concepts for concept: terms related to artificiality and deception\n",
      "Fectching 7 contrast concepts for concept: terms related to employment and employees\n",
      "Creating dataframe.\n",
      "Fectching data for 0/2 concept: terms related to artificiality and deception\n",
      "Fectching data for 1/2 concept: terms related to employment and employees\n",
      "Finished creating current dataframe in 169.433 sec with $0.88.\n"
     ]
    }
   ],
   "source": [
    "reax_factory = ReAXFactory(\n",
    "    model, tokenizer,\n",
    "    concepts=[\n",
    "        # https://www.neuronpedia.org/gemma-2-2b/20-gemmascope-res-16k/8927\n",
    "        \"terms related to artificiality and deception\",   # subspace 1\n",
    "        # https://www.neuronpedia.org/gemma-2-2b/20-gemmascope-res-16k/7490\n",
    "        \"terms related to employment and employees\", # subspace 2\n",
    "    ], \n",
    "    dump_dir=\"./tmp\",\n",
    ")\n",
    "\n",
    "# dataset\n",
    "reax_df = reax_factory.create_df(n=66) "
   ]
  },
  {
   "cell_type": "markdown",
   "id": "b3dae222-ed33-4d91-acdf-8c88a1a53a99",
   "metadata": {},
   "source": [
    "##### Dataset preview."
   ]
  },
  {
   "cell_type": "code",
   "execution_count": 5,
   "id": "0476c2ff-6153-44ac-8483-88be52874aec",
   "metadata": {},
   "outputs": [
    {
     "data": {
      "text/html": [
       "<div>\n",
       "<style scoped>\n",
       "    .dataframe tbody tr th:only-of-type {\n",
       "        vertical-align: middle;\n",
       "    }\n",
       "\n",
       "    .dataframe tbody tr th {\n",
       "        vertical-align: top;\n",
       "    }\n",
       "\n",
       "    .dataframe thead th {\n",
       "        text-align: right;\n",
       "    }\n",
       "</style>\n",
       "<table border=\"1\" class=\"dataframe\">\n",
       "  <thead>\n",
       "    <tr style=\"text-align: right;\">\n",
       "      <th></th>\n",
       "      <th>input_concept</th>\n",
       "      <th>output_concept</th>\n",
       "      <th>input</th>\n",
       "      <th>output</th>\n",
       "      <th>group</th>\n",
       "      <th>input_subspace</th>\n",
       "      <th>output_subspace</th>\n",
       "    </tr>\n",
       "  </thead>\n",
       "  <tbody>\n",
       "    <tr>\n",
       "      <th>0</th>\n",
       "      <td>null</td>\n",
       "      <td>null</td>\n",
       "      <td>Glistening water from the crystal-clear river ...</td>\n",
       "      <td>. The river was a river, a river, a river, a r...</td>\n",
       "      <td>EXAMPLE_TAG.CONTROL</td>\n",
       "      <td>0</td>\n",
       "      <td>1</td>\n",
       "    </tr>\n",
       "    <tr>\n",
       "      <th>1</th>\n",
       "      <td>terms related to artificiality and deception</td>\n",
       "      <td>terms related to employment and employees</td>\n",
       "      <td>The bustling city, with its shimmering facades...</td>\n",
       "      <td>empty cubicles, layoffs looming, job titles i...</td>\n",
       "      <td>EXAMPLE_TAG.EXPERIMENT</td>\n",
       "      <td>0</td>\n",
       "      <td>1</td>\n",
       "    </tr>\n",
       "    <tr>\n",
       "      <th>2</th>\n",
       "      <td>terms related to artificiality and deception:f...</td>\n",
       "      <td>null</td>\n",
       "      <td>The grand facade of the historic theater displ...</td>\n",
       "      <td>. The theater was a symbol of the city's cultu...</td>\n",
       "      <td>EXAMPLE_TAG.CONTROL</td>\n",
       "      <td>0</td>\n",
       "      <td>1</td>\n",
       "    </tr>\n",
       "    <tr>\n",
       "      <th>3</th>\n",
       "      <td>terms related to artificiality and deception:f...</td>\n",
       "      <td>null</td>\n",
       "      <td>The intricate design on the vase, adorned with...</td>\n",
       "      <td>.\\n\\nThe vase was one of 100 items that were s...</td>\n",
       "      <td>EXAMPLE_TAG.CONTROL</td>\n",
       "      <td>0</td>\n",
       "      <td>1</td>\n",
       "    </tr>\n",
       "    <tr>\n",
       "      <th>4</th>\n",
       "      <td>terms related to employment and employees</td>\n",
       "      <td>terms related to artificiality and deception</td>\n",
       "      <td>The diligent worker clocked in early, navigati...</td>\n",
       "      <td>crafting illusions of competence where necess...</td>\n",
       "      <td>EXAMPLE_TAG.EXPERIMENT</td>\n",
       "      <td>1</td>\n",
       "      <td>0</td>\n",
       "    </tr>\n",
       "    <tr>\n",
       "      <th>5</th>\n",
       "      <td>terms related to employment and employees:bene...</td>\n",
       "      <td>null</td>\n",
       "      <td>Community members attended the charity run, pa...</td>\n",
       "      <td>.\\n\\nThe event was a resounding success, with ...</td>\n",
       "      <td>EXAMPLE_TAG.CONTROL</td>\n",
       "      <td>1</td>\n",
       "      <td>0</td>\n",
       "    </tr>\n",
       "    <tr>\n",
       "      <th>6</th>\n",
       "      <td>terms related to employment and employees:cont...</td>\n",
       "      <td>null</td>\n",
       "      <td>She was cautious during the flu season but eve...</td>\n",
       "      <td>.\\n\\n“I was in bed for a month,” she said. “I ...</td>\n",
       "      <td>EXAMPLE_TAG.CONTROL</td>\n",
       "      <td>1</td>\n",
       "      <td>0</td>\n",
       "    </tr>\n",
       "    <tr>\n",
       "      <th>7</th>\n",
       "      <td>terms related to employment and employees:cont...</td>\n",
       "      <td>null</td>\n",
       "      <td>The rapidly cooling air caused the metal to co...</td>\n",
       "      <td>.\\n\\nThe cooling of the metal was also a key f...</td>\n",
       "      <td>EXAMPLE_TAG.CONTROL</td>\n",
       "      <td>1</td>\n",
       "      <td>0</td>\n",
       "    </tr>\n",
       "    <tr>\n",
       "      <th>8</th>\n",
       "      <td>terms related to employment and employees:job/...</td>\n",
       "      <td>null</td>\n",
       "      <td>Upon analyzing the blueprint, it became eviden...</td>\n",
       "      <td>.\\n\\nThe project was divided into three phases...</td>\n",
       "      <td>EXAMPLE_TAG.CONTROL</td>\n",
       "      <td>1</td>\n",
       "      <td>0</td>\n",
       "    </tr>\n",
       "    <tr>\n",
       "      <th>9</th>\n",
       "      <td>terms related to employment and employees:posi...</td>\n",
       "      <td>null</td>\n",
       "      <td>Observing the gymnast's fluid motion, her bala...</td>\n",
       "      <td>.\\n\\nThe gymnast's graceful movements, her bod...</td>\n",
       "      <td>EXAMPLE_TAG.CONTROL</td>\n",
       "      <td>1</td>\n",
       "      <td>0</td>\n",
       "    </tr>\n",
       "    <tr>\n",
       "      <th>10</th>\n",
       "      <td>terms related to employment and employees:posi...</td>\n",
       "      <td>null</td>\n",
       "      <td>Each meeting focused on the position of the st...</td>\n",
       "      <td>.\\n\\nThe first meeting was held in the spring ...</td>\n",
       "      <td>EXAMPLE_TAG.CONTROL</td>\n",
       "      <td>1</td>\n",
       "      <td>0</td>\n",
       "    </tr>\n",
       "    <tr>\n",
       "      <th>11</th>\n",
       "      <td>terms related to employment and employees:prom...</td>\n",
       "      <td>null</td>\n",
       "      <td>The festival's energetic atmosphere contribute...</td>\n",
       "      <td>from.\\n\\nThe festival's success was a testame...</td>\n",
       "      <td>EXAMPLE_TAG.CONTROL</td>\n",
       "      <td>1</td>\n",
       "      <td>0</td>\n",
       "    </tr>\n",
       "  </tbody>\n",
       "</table>\n",
       "</div>"
      ],
      "text/plain": [
       "                                        input_concept  \\\n",
       "0                                                null   \n",
       "1        terms related to artificiality and deception   \n",
       "2   terms related to artificiality and deception:f...   \n",
       "3   terms related to artificiality and deception:f...   \n",
       "4           terms related to employment and employees   \n",
       "5   terms related to employment and employees:bene...   \n",
       "6   terms related to employment and employees:cont...   \n",
       "7   terms related to employment and employees:cont...   \n",
       "8   terms related to employment and employees:job/...   \n",
       "9   terms related to employment and employees:posi...   \n",
       "10  terms related to employment and employees:posi...   \n",
       "11  terms related to employment and employees:prom...   \n",
       "\n",
       "                                  output_concept  \\\n",
       "0                                           null   \n",
       "1      terms related to employment and employees   \n",
       "2                                           null   \n",
       "3                                           null   \n",
       "4   terms related to artificiality and deception   \n",
       "5                                           null   \n",
       "6                                           null   \n",
       "7                                           null   \n",
       "8                                           null   \n",
       "9                                           null   \n",
       "10                                          null   \n",
       "11                                          null   \n",
       "\n",
       "                                                input  \\\n",
       "0   Glistening water from the crystal-clear river ...   \n",
       "1   The bustling city, with its shimmering facades...   \n",
       "2   The grand facade of the historic theater displ...   \n",
       "3   The intricate design on the vase, adorned with...   \n",
       "4   The diligent worker clocked in early, navigati...   \n",
       "5   Community members attended the charity run, pa...   \n",
       "6   She was cautious during the flu season but eve...   \n",
       "7   The rapidly cooling air caused the metal to co...   \n",
       "8   Upon analyzing the blueprint, it became eviden...   \n",
       "9   Observing the gymnast's fluid motion, her bala...   \n",
       "10  Each meeting focused on the position of the st...   \n",
       "11  The festival's energetic atmosphere contribute...   \n",
       "\n",
       "                                               output                   group  \\\n",
       "0   . The river was a river, a river, a river, a r...     EXAMPLE_TAG.CONTROL   \n",
       "1    empty cubicles, layoffs looming, job titles i...  EXAMPLE_TAG.EXPERIMENT   \n",
       "2   . The theater was a symbol of the city's cultu...     EXAMPLE_TAG.CONTROL   \n",
       "3   .\\n\\nThe vase was one of 100 items that were s...     EXAMPLE_TAG.CONTROL   \n",
       "4    crafting illusions of competence where necess...  EXAMPLE_TAG.EXPERIMENT   \n",
       "5   .\\n\\nThe event was a resounding success, with ...     EXAMPLE_TAG.CONTROL   \n",
       "6   .\\n\\n“I was in bed for a month,” she said. “I ...     EXAMPLE_TAG.CONTROL   \n",
       "7   .\\n\\nThe cooling of the metal was also a key f...     EXAMPLE_TAG.CONTROL   \n",
       "8   .\\n\\nThe project was divided into three phases...     EXAMPLE_TAG.CONTROL   \n",
       "9   .\\n\\nThe gymnast's graceful movements, her bod...     EXAMPLE_TAG.CONTROL   \n",
       "10  .\\n\\nThe first meeting was held in the spring ...     EXAMPLE_TAG.CONTROL   \n",
       "11   from.\\n\\nThe festival's success was a testame...     EXAMPLE_TAG.CONTROL   \n",
       "\n",
       "    input_subspace  output_subspace  \n",
       "0                0                1  \n",
       "1                0                1  \n",
       "2                0                1  \n",
       "3                0                1  \n",
       "4                1                0  \n",
       "5                1                0  \n",
       "6                1                0  \n",
       "7                1                0  \n",
       "8                1                0  \n",
       "9                1                0  \n",
       "10               1                0  \n",
       "11               1                0  "
      ]
     },
     "execution_count": 5,
     "metadata": {},
     "output_type": "execute_result"
    }
   ],
   "source": [
    "reax_df.groupby(['input_concept', 'output_concept']).first().reset_index()"
   ]
  },
  {
   "cell_type": "markdown",
   "id": "84a48af6-75a9-4a9a-8fff-2c947de6afe3",
   "metadata": {},
   "source": [
    "#### Training.\n",
    "\n",
    "Let's focus on a single layer, layer 20 of the LM."
   ]
  },
  {
   "cell_type": "code",
   "execution_count": 43,
   "id": "bb8551d1-b09f-42c9-b614-a3d9bb347e32",
   "metadata": {},
   "outputs": [
    {
     "name": "stdout",
     "output_type": "stream",
     "text": [
      "trainable intervention params: 4,608 || trainable model params: 0\n",
      "model params: 2,614,341,888 || trainable%: 0.0001762585077778473\n"
     ]
    }
   ],
   "source": [
    "layer = 20\n",
    "\n",
    "# make data module.\n",
    "data_module = make_data_module(tokenizer, model, reax_df)\n",
    "train_dataloader = DataLoader(\n",
    "    data_module[\"train_dataset\"], shuffle=True, batch_size=6, \n",
    "    collate_fn=data_module[\"data_collator\"])\n",
    "\n",
    "# get reft model\n",
    "model = model.eval()\n",
    "reax_intervention = MaxReLUIntervention(\n",
    "    embed_dim=model.config.hidden_size, low_rank_dimension=1,\n",
    ")\n",
    "reax_intervention = reax_intervention.train()\n",
    "reft_config = pyreft.ReftConfig(representations=[{\n",
    "    \"layer\": l,\n",
    "    \"component\": f\"model.layers[{l}].output\",\n",
    "    \"low_rank_dimension\": 1,\n",
    "    \"intervention\": reax_intervention} for l in [layer]])\n",
    "reft_model = pyreft.get_reft_model(model, reft_config)\n",
    "reft_model.set_device(\"cuda\")\n",
    "reft_model.print_trainable_parameters()\n",
    "\n",
    "# optimizer and lr\n",
    "num_epochs = 8\n",
    "k_latent = 3\n",
    "optimizer = torch.optim.AdamW(reft_model.parameters(), lr=9e-3)\n",
    "num_training_steps = num_epochs * len(train_dataloader)\n",
    "lr_scheduler = get_scheduler(\n",
    "    \"linear\", optimizer=optimizer,\n",
    "    num_warmup_steps=0, num_training_steps=num_training_steps)"
   ]
  },
  {
   "cell_type": "code",
   "execution_count": 44,
   "id": "280bf45d-7cad-4c18-82fa-23e7eb15cdf3",
   "metadata": {},
   "outputs": [
    {
     "data": {
      "application/vnd.jupyter.widget-view+json": {
       "model_id": "b24ef05251dd4395b5a113ec75325184",
       "version_major": 2,
       "version_minor": 0
      },
      "text/plain": [
       "  0%|          | 0/88 [00:00<?, ?it/s]"
      ]
     },
     "metadata": {},
     "output_type": "display_data"
    }
   ],
   "source": [
    "# Main training loop.\n",
    "progress_bar, curr_step = tqdm(range(num_training_steps)), 0\n",
    "for epoch in range(num_epochs):\n",
    "    for batch in train_dataloader:\n",
    "        # prepare input\n",
    "        inputs = {k: v.to(\"cuda\") for k, v in batch.items()}\n",
    "        unit_locations={\"sources->base\": (\n",
    "            None,\n",
    "            inputs[\"intervention_locations\"].permute(1, 0, 2).tolist()\n",
    "        )}\n",
    "        subspaces = [{\n",
    "            \"input_subspaces\": inputs[\"input_subspaces\"],\n",
    "            \"output_subspaces\": inputs[\"output_subspaces\"]}]\n",
    "\n",
    "        # forward\n",
    "        _, cf_outputs = reft_model(\n",
    "            base={\n",
    "                \"input_ids\": inputs[\"input_ids\"],\n",
    "                \"attention_mask\": inputs[\"attention_mask\"]\n",
    "            }, unit_locations=unit_locations, labels=inputs[\"labels\"],\n",
    "            subspaces=subspaces, use_cache=False)\n",
    "\n",
    "        # loss\n",
    "        loss = cf_outputs.loss\n",
    "        latent = reft_model.full_intervention_outputs[0].latent * inputs[\"intervention_masks\"]\n",
    "        topk_latent, _ = torch.topk(latent, k_latent, dim=-1)\n",
    "        null_loss = (topk_latent.mean(dim=-1)*(inputs[\"groups\"]==EXAMPLE_TAG.CONTROL.value))\n",
    "        null_loss = null_loss.sum()\n",
    "        coeff = curr_step/num_training_steps\n",
    "        loss += coeff*0.05*null_loss\n",
    "        \n",
    "        # grads\n",
    "        loss.backward()\n",
    "        set_decoder_norm_to_unit_norm(reax_intervention)\n",
    "        remove_gradient_parallel_to_decoder_directions(reax_intervention)\n",
    "        curr_step += 1\n",
    "        curr_lr = get_lr(optimizer)\n",
    "        # optim\n",
    "        optimizer.step()\n",
    "        lr_scheduler.step()\n",
    "        optimizer.zero_grad()\n",
    "        progress_bar.update(1)\n",
    "        progress_bar.set_description(\"lr %.6f || loss %.6f || null l1 loss %.6f\" % (curr_lr, loss, null_loss))"
   ]
  },
  {
   "cell_type": "markdown",
   "id": "945d05c2-4f80-4719-84b7-4d6cec7dc37a",
   "metadata": {},
   "source": [
    "#### Eval - latent space disentanglements."
   ]
  },
  {
   "cell_type": "code",
   "execution_count": 10,
   "id": "2c2c0963-bed0-4b4f-a5c4-639169303611",
   "metadata": {},
   "outputs": [
    {
     "name": "stderr",
     "output_type": "stream",
     "text": [
      "Creating dataframe.\n",
      "Fectching data for 0/2 concept: terms related to artificiality and deception\n",
      "Fectching data for 1/2 concept: terms related to employment and employees\n",
      "Finished creating current dataframe in 28.386 sec with $0.13.\n"
     ]
    }
   ],
   "source": [
    "# create eval dataset\n",
    "eval_reax_df = reax_factory.create_df(n=9)"
   ]
  },
  {
   "cell_type": "code",
   "execution_count": 45,
   "id": "eb98446c-067d-48d6-9f0d-0bca964fccbc",
   "metadata": {
    "scrolled": true
   },
   "outputs": [
    {
     "name": "stdout",
     "output_type": "stream",
     "text": [
      "> null <terms related to artificiality and deception:fake/an object made to look real but not genuine.> example:\n",
      "> testing concept: terms related to artificiality and deception\n",
      "maximal act: 21.311\n"
     ]
    },
    {
     "data": {
      "text/html": [
       "<div id=\"circuits-vis-237b7d37-5cea\" style=\"margin: 15px 0;\"/>\n",
       "    <script crossorigin type=\"module\">\n",
       "    import { render, ColoredTokens } from \"https://unpkg.com/circuitsvis@1.43.2/dist/cdn/esm.js\";\n",
       "    render(\n",
       "      \"circuits-vis-237b7d37-5cea\",\n",
       "      ColoredTokens,\n",
       "      {\"tokens\": [\"Her\", \"\\u2581room\", \"\\u2581displayed\", \"\\u2581a\", \"\\u2581grand\", \"\\u2581vase\", \"\\u2581with\", \"\\u2581an\", \"\\u2581intricate\", \"\\u2581design\", \";\", \"\\u2581its\", \"\\u2581presence\", \"\\u2581was\", \"\\u2581impressive\", \",\", \"\\u2581though\", \"\\u2581little\", \"\\u2581did\", \"\\u2581visitors\", \"\\u2581realize\", \"\\u2581the\", \"\\u2581elegance\", \"\\u2581they\", \"\\u2581admired\", \"\\u2581was\", \"\\u2581simply\", \"\\u2581a\", \"\\u2581meticulously\", \"\\u2581crafted\", \"\\u2581fake\", \"\\u2581masterpiece\", \"\\u2581suitable\", \"\\u2581for\", \"\\u2581her\", \"\\u2581collection\"], \"values\": [0.0, 0.0, 0.0, 0.0, 0.0, 0.0, 0.0, 0.0, 0.0, 0.0, 0.0, 0.0, 0.0, 0.0, 0.0, 0.0, 0.0, 0.0, 0.0, 0.0, 0.0, 0.0, 0.0, 0.0, 0.0, 0.0, 10.997407913208008, 9.693002700805664, 5.755420684814453, 21.310697555541992, 17.785606384277344, 0.0, 0.0, 0.0, 0.0, 0.0]}\n",
       "    )\n",
       "    </script>"
      ],
      "text/plain": [
       "<circuitsvis.utils.render.RenderedHTML at 0x7fbd64847520>"
      ]
     },
     "metadata": {},
     "output_type": "display_data"
    },
    {
     "name": "stdout",
     "output_type": "stream",
     "text": [
      "> null <terms related to artificiality and deception:facade/the front of a building.> example:\n",
      "> testing concept: terms related to artificiality and deception\n",
      "maximal act: 0.0\n"
     ]
    },
    {
     "data": {
      "text/html": [
       "<div id=\"circuits-vis-51a42d6c-822b\" style=\"margin: 15px 0;\"/>\n",
       "    <script crossorigin type=\"module\">\n",
       "    import { render, ColoredTokens } from \"https://unpkg.com/circuitsvis@1.43.2/dist/cdn/esm.js\";\n",
       "    render(\n",
       "      \"circuits-vis-51a42d6c-822b\",\n",
       "      ColoredTokens,\n",
       "      {\"tokens\": [\"The\", \"\\u2581elegant\", \"\\u2581facade\", \"\\u2581of\", \"\\u2581the\", \"\\u2581ancient\", \"\\u2581library\", \",\", \"\\u2581covered\", \"\\u2581in\", \"\\u2581ivy\", \"\\u2581and\", \"\\u2581adorned\", \"\\u2581with\", \"\\u2581ornate\", \"\\u2581columns\", \",\", \"\\u2581greeted\", \"\\u2581visitors\", \"\\u2581with\", \"\\u2581a\", \"\\u2581timeless\", \"\\u2581charm\", \",\", \"\\u2581inviting\", \"\\u2581them\", \"\\u2581to\", \"\\u2581explore\", \"\\u2581the\", \"\\u2581vast\", \"\\u2581collection\", \"\\u2581of\", \"\\u2581knowledge\", \"\\u2581held\", \"\\u2581within\"], \"values\": [0.0, 0.0, 0.0, 0.0, 0.0, 0.0, 0.0, 0.0, 0.0, 0.0, 0.0, 0.0, 0.0, 0.0, 0.0, 0.0, 0.0, 0.0, 0.0, 0.0, 0.0, 0.0, 0.0, 0.0, 0.0, 0.0, 0.0, 0.0, 0.0, 0.0, 0.0, 0.0, 0.0, 0.0, 0.0]}\n",
       "    )\n",
       "    </script>"
      ],
      "text/plain": [
       "<circuitsvis.utils.render.RenderedHTML at 0x7fbe451af370>"
      ]
     },
     "metadata": {},
     "output_type": "display_data"
    },
    {
     "name": "stdout",
     "output_type": "stream",
     "text": [
      "> null <terms related to employment and employees:job/an item of work on a specific project.> example:\n",
      "> testing concept: terms related to employment and employees\n",
      "maximal act: 14.665\n"
     ]
    },
    {
     "data": {
      "text/html": [
       "<div id=\"circuits-vis-c8a5eccb-e08c\" style=\"margin: 15px 0;\"/>\n",
       "    <script crossorigin type=\"module\">\n",
       "    import { render, ColoredTokens } from \"https://unpkg.com/circuitsvis@1.43.2/dist/cdn/esm.js\";\n",
       "    render(\n",
       "      \"circuits-vis-c8a5eccb-e08c\",\n",
       "      ColoredTokens,\n",
       "      {\"tokens\": [\"For\", \"\\u2581the\", \"\\u2581software\", \"\\u2581launch\", \"\\u2581project\", \",\", \"\\u2581the\", \"\\u2581key\", \"\\u2581job\", \"\\u2581is\", \"\\u2581ensuring\", \"\\u2581all\", \"\\u2581modules\", \"\\u2581integrate\", \"\\u2581cohe\", \"sively\", \",\", \"\\u2581which\", \"\\u2581requires\", \"\\u2581meticulous\", \"\\u2581documentation\", \"\\u2581review\", \",\", \"\\u2581extensive\", \"\\u2581testing\", \",\", \"\\u2581and\", \"\\u2581collaboration\", \"\\u2581with\", \"\\u2581various\", \"\\u2581departments\", \"\\u2581to\", \"\\u2581achieve\", \"\\u2581a\", \"\\u2581seamless\", \"\\u2581performance\", \"\\u2581across\", \"\\u2581all\", \"\\u2581functionalities\"], \"values\": [0.0, 0.0, 0.0, 0.0, 0.0, 0.0, 0.0, 0.0, 14.665176391601562, 0.0, 0.0, 0.0, 0.0, 0.0, 0.0, 0.0, 0.0, 0.0, 0.0, 0.0, 0.0, 0.0, 0.0, 0.0, 0.0, 0.0, 0.0, 0.0, 0.0, 0.0, 0.0, 0.0, 0.0, 0.0, 0.0, 0.0, 0.0, 0.0, 0.0]}\n",
       "    )\n",
       "    </script>"
      ],
      "text/plain": [
       "<circuitsvis.utils.render.RenderedHTML at 0x7fbd6481ccd0>"
      ]
     },
     "metadata": {},
     "output_type": "display_data"
    },
    {
     "name": "stdout",
     "output_type": "stream",
     "text": [
      "> null <terms related to employment and employees:position/the location of an object.> example:\n",
      "> testing concept: terms related to employment and employees\n",
      "maximal act: 0.0\n"
     ]
    },
    {
     "data": {
      "text/html": [
       "<div id=\"circuits-vis-41dea212-204f\" style=\"margin: 15px 0;\"/>\n",
       "    <script crossorigin type=\"module\">\n",
       "    import { render, ColoredTokens } from \"https://unpkg.com/circuitsvis@1.43.2/dist/cdn/esm.js\";\n",
       "    render(\n",
       "      \"circuits-vis-41dea212-204f\",\n",
       "      ColoredTokens,\n",
       "      {\"tokens\": [\"Calculating\", \"\\u2581the\", \"\\u2581object\", \"'\", \"s\", \"\\u2581exact\", \"\\u2581position\", \"\\u2581required\", \"\\u2581analyzing\", \"\\u2581multiple\", \"\\u2581data\", \"\\u2581points\", \"\\u2581from\", \"\\u2581the\", \"\\u2581satellite\", \"\\u2581images\", \",\", \"\\u2581comparing\", \"\\u2581them\", \"\\u2581with\", \"\\u2581ground\", \"\\u2581measurements\", \"\\u2581taken\", \"\\u2581earlier\", \",\", \"\\u2581and\", \"\\u2581validating\", \"\\u2581the\", \"\\u2581results\", \"\\u2581through\", \"\\u2581an\", \"\\u2581algorithm\", \"\\u2581designed\", \"\\u2581specifically\", \"\\u2581for\", \"\\u2581precision\"], \"values\": [0.0, 0.0, 0.0, 0.0, 0.0, 0.0, 0.0, 0.0, 0.0, 0.0, 0.0, 0.0, 0.0, 0.0, 0.0, 0.0, 0.0, 0.0, 0.0, 0.0, 0.0, 0.0, 0.0, 0.0, 0.0, 0.0, 0.0, 0.0, 0.0, 0.0, 0.0, 0.0, 0.0, 0.0, 0.0, 0.0]}\n",
       "    )\n",
       "    </script>"
      ],
      "text/plain": [
       "<circuitsvis.utils.render.RenderedHTML at 0x7fbd647c3640>"
      ]
     },
     "metadata": {},
     "output_type": "display_data"
    },
    {
     "name": "stdout",
     "output_type": "stream",
     "text": [
      "> null <terms related to employment and employees:position/a stance or posture.> example:\n",
      "> testing concept: terms related to employment and employees\n",
      "maximal act: 0.0\n"
     ]
    },
    {
     "data": {
      "text/html": [
       "<div id=\"circuits-vis-5a3c00c3-944e\" style=\"margin: 15px 0;\"/>\n",
       "    <script crossorigin type=\"module\">\n",
       "    import { render, ColoredTokens } from \"https://unpkg.com/circuitsvis@1.43.2/dist/cdn/esm.js\";\n",
       "    render(\n",
       "      \"circuits-vis-5a3c00c3-944e\",\n",
       "      ColoredTokens,\n",
       "      {\"tokens\": [\"Observ\", \"ing\", \"\\u2581his\", \"\\u2581yoga\", \"\\u2581position\", \",\", \"\\u2581she\", \"\\u2581noticed\", \"\\u2581the\", \"\\u2581slight\", \"\\u2581tilt\", \"\\u2581of\", \"\\u2581his\", \"\\u2581posture\", \",\", \"\\u2581indicating\", \"\\u2581that\", \"\\u2581minor\", \"\\u2581adjustments\", \"\\u2581were\", \"\\u2581needed\", \"\\u2581to\", \"\\u2581achieve\", \"\\u2581the\", \"\\u2581intended\", \"\\u2581alignment\", \"\\u2581and\", \"\\u2581full\", \"\\u2581benefit\", \"\\u2581of\", \"\\u2581the\", \"\\u2581practice\"], \"values\": [0.0, 0.0, 0.0, 0.0, 0.0, 0.0, 0.0, 0.0, 0.0, 0.0, 0.0, 0.0, 0.0, 0.0, 0.0, 0.0, 0.0, 0.0, 0.0, 0.0, 0.0, 0.0, 0.0, 0.0, 0.0, 0.0, 0.0, 0.0, 0.0, 0.0, 0.0, 0.0]}\n",
       "    )\n",
       "    </script>"
      ],
      "text/plain": [
       "<circuitsvis.utils.render.RenderedHTML at 0x7fbe453076d0>"
      ]
     },
     "metadata": {},
     "output_type": "display_data"
    },
    {
     "name": "stdout",
     "output_type": "stream",
     "text": [
      "> null <terms related to employment and employees:contract/to reduce in size or scope.> example:\n",
      "> testing concept: terms related to employment and employees\n",
      "maximal act: 2.855\n"
     ]
    },
    {
     "data": {
      "text/html": [
       "<div id=\"circuits-vis-cab2b83a-15ff\" style=\"margin: 15px 0;\"/>\n",
       "    <script crossorigin type=\"module\">\n",
       "    import { render, ColoredTokens } from \"https://unpkg.com/circuitsvis@1.43.2/dist/cdn/esm.js\";\n",
       "    render(\n",
       "      \"circuits-vis-cab2b83a-15ff\",\n",
       "      ColoredTokens,\n",
       "      {\"tokens\": [\"The\", \"\\u2581team\", \"\\u2581aimed\", \"\\u2581to\", \"\\u2581contract\", \"\\u2581the\", \"\\u2581project\", \"\\u2581timeline\", \"\\u2581by\", \"\\u2581streamlining\", \"\\u2581tasks\", \",\", \"\\u2581anticipating\", \"\\u2581potential\", \"\\u2581obstacles\", \",\", \"\\u2581and\", \"\\u2581focusing\", \"\\u2581resources\", \"\\u2581to\", \"\\u2581complete\", \"\\u2581critical\", \"\\u2581milestones\", \"\\u2581more\", \"\\u2581efficiently\", \"\\u2581to\", \"\\u2581mitigate\", \"\\u2581overall\", \"\\u2581delay\", \"\\u2581in\", \"\\u2581development\", \"\\u2581stages\"], \"values\": [0.0, 2.85537052154541, 0.0, 0.0, 0.0, 0.0, 0.0, 0.0, 0.0, 0.0, 0.0, 0.0, 0.0, 0.0, 0.0, 0.0, 0.0, 0.0, 0.0, 0.0, 0.0, 0.0, 0.0, 0.0, 0.0, 0.0, 0.0, 0.0, 0.0, 0.0, 0.0, 0.0]}\n",
       "    )\n",
       "    </script>"
      ],
      "text/plain": [
       "<circuitsvis.utils.render.RenderedHTML at 0x7fbd647c1030>"
      ]
     },
     "metadata": {},
     "output_type": "display_data"
    },
    {
     "name": "stdout",
     "output_type": "stream",
     "text": [
      "> null <terms related to employment and employees:contract/to catch or develop a disease.> example:\n",
      "> testing concept: terms related to employment and employees\n",
      "maximal act: 0.0\n"
     ]
    },
    {
     "data": {
      "text/html": [
       "<div id=\"circuits-vis-cbd3bf3e-36cb\" style=\"margin: 15px 0;\"/>\n",
       "    <script crossorigin type=\"module\">\n",
       "    import { render, ColoredTokens } from \"https://unpkg.com/circuitsvis@1.43.2/dist/cdn/esm.js\";\n",
       "    render(\n",
       "      \"circuits-vis-cbd3bf3e-36cb\",\n",
       "      ColoredTokens,\n",
       "      {\"tokens\": [\"By\", \"\\u2581ignoring\", \"\\u2581basic\", \"\\u2581hygiene\", \"\\u2581principles\", \",\", \"\\u2581it\", \"\\u2581is\", \"\\u2581possible\", \"\\u2581to\", \"\\u2581contract\", \"\\u2581various\", \"\\u2581infectious\", \"\\u2581diseases\", \",\", \"\\u2581posing\", \"\\u2581significant\", \"\\u2581health\", \"\\u2581risks\", \",\", \"\\u2581especially\", \"\\u2581in\", \"\\u2581environments\", \"\\u2581where\", \"\\u2581germs\", \"\\u2581spread\", \"\\u2581rapidly\", \"\\u2581among\", \"\\u2581individuals\", \",\", \"\\u2581leading\", \"\\u2581to\", \"\\u2581widespread\", \"\\u2581outbreaks\", \"\\u2581and\", \"\\u2581severe\", \"\\u2581complications\"], \"values\": [0.0, 0.0, 0.0, 0.0, 0.0, 0.0, 0.0, 0.0, 0.0, 0.0, 0.0, 0.0, 0.0, 0.0, 0.0, 0.0, 0.0, 0.0, 0.0, 0.0, 0.0, 0.0, 0.0, 0.0, 0.0, 0.0, 0.0, 0.0, 0.0, 0.0, 0.0, 0.0, 0.0, 0.0, 0.0, 0.0, 0.0]}\n",
       "    )\n",
       "    </script>"
      ],
      "text/plain": [
       "<circuitsvis.utils.render.RenderedHTML at 0x7fbe451af370>"
      ]
     },
     "metadata": {},
     "output_type": "display_data"
    },
    {
     "name": "stdout",
     "output_type": "stream",
     "text": [
      "> null <terms related to employment and employees:benefits/a public event to raise money for a cause.> example:\n",
      "> testing concept: terms related to employment and employees\n",
      "maximal act: 0.0\n"
     ]
    },
    {
     "data": {
      "text/html": [
       "<div id=\"circuits-vis-20e0ac44-a053\" style=\"margin: 15px 0;\"/>\n",
       "    <script crossorigin type=\"module\">\n",
       "    import { render, ColoredTokens } from \"https://unpkg.com/circuitsvis@1.43.2/dist/cdn/esm.js\";\n",
       "    render(\n",
       "      \"circuits-vis-20e0ac44-a053\",\n",
       "      ColoredTokens,\n",
       "      {\"tokens\": [\"The\", \"\\u2581community\", \"\\u2581gathered\", \"\\u2581for\", \"\\u2581the\", \"\\u2581charity\", \"\\u2581run\", \"\\u2581realized\", \"\\u2581the\", \"\\u2581multifaceted\", \"\\u2581benefits\", \"\\u2581of\", \"\\u2581participating\", \",\", \"\\u2581as\", \"\\u2581it\", \"\\u2581not\", \"\\u2581only\", \"\\u2581raised\", \"\\u2581funds\", \"\\u2581but\", \"\\u2581also\", \"\\u2581fostered\", \"\\u2581a\", \"\\u2581sense\", \"\\u2581of\", \"\\u2581unity\", \"\\u2581and\", \"\\u2581increased\", \"\\u2581awareness\", \"\\u2581for\", \"\\u2581the\", \"\\u2581vital\", \"\\u2581cause\"], \"values\": [0.0, 0.0, 0.0, 0.0, 0.0, 0.0, 0.0, 0.0, 0.0, 0.0, 0.0, 0.0, 0.0, 0.0, 0.0, 0.0, 0.0, 0.0, 0.0, 0.0, 0.0, 0.0, 0.0, 0.0, 0.0, 0.0, 0.0, 0.0, 0.0, 0.0, 0.0, 0.0, 0.0, 0.0]}\n",
       "    )\n",
       "    </script>"
      ],
      "text/plain": [
       "<circuitsvis.utils.render.RenderedHTML at 0x7fbd6481ccd0>"
      ]
     },
     "metadata": {},
     "output_type": "display_data"
    },
    {
     "name": "stdout",
     "output_type": "stream",
     "text": [
      "> null <terms related to employment and employees:promotion/an activity that supports or encourages a cause or aim.> example:\n",
      "> testing concept: terms related to employment and employees\n",
      "maximal act: 0.0\n"
     ]
    },
    {
     "data": {
      "text/html": [
       "<div id=\"circuits-vis-0e7fb551-31f5\" style=\"margin: 15px 0;\"/>\n",
       "    <script crossorigin type=\"module\">\n",
       "    import { render, ColoredTokens } from \"https://unpkg.com/circuitsvis@1.43.2/dist/cdn/esm.js\";\n",
       "    render(\n",
       "      \"circuits-vis-0e7fb551-31f5\",\n",
       "      ColoredTokens,\n",
       "      {\"tokens\": [\"The\", \"\\u2581city\", \"wide\", \"\\u2581tree\", \"-\", \"planting\", \"\\u2581event\", \"\\u2581served\", \"\\u2581as\", \"\\u2581a\", \"\\u2581promotion\", \"\\u2581of\", \"\\u2581environmental\", \"\\u2581stewardship\", \",\", \"\\u2581drawing\", \"\\u2581attention\", \"\\u2581to\", \"\\u2581urban\", \"\\u2581green\", \"ing\", \"\\u2581efforts\", \"\\u2581and\", \"\\u2581community\", \"\\u2581engagement\", \"\\u2581in\", \"\\u2581preserving\", \"\\u2581natural\", \"\\u2581habitats\", \"\\u2581for\", \"\\u2581future\", \"\\u2581generations\", \"\\u2581to\", \"\\u2581cherish\", \"\\u2581and\", \"\\u2581sustain\", \"\\u2581responsibly\"], \"values\": [0.0, 0.0, 0.0, 0.0, 0.0, 0.0, 0.0, 0.0, 0.0, 0.0, 0.0, 0.0, 0.0, 0.0, 0.0, 0.0, 0.0, 0.0, 0.0, 0.0, 0.0, 0.0, 0.0, 0.0, 0.0, 0.0, 0.0, 0.0, 0.0, 0.0, 0.0, 0.0, 0.0, 0.0, 0.0, 0.0, 0.0]}\n",
       "    )\n",
       "    </script>"
      ],
      "text/plain": [
       "<circuitsvis.utils.render.RenderedHTML at 0x7fbd647c3640>"
      ]
     },
     "metadata": {},
     "output_type": "display_data"
    },
    {
     "name": "stdout",
     "output_type": "stream",
     "text": [
      "> targeted concept:\n",
      "terms related to artificiality and deception\n",
      "maximal act: 60.752\n"
     ]
    },
    {
     "data": {
      "text/html": [
       "<div id=\"circuits-vis-e65950e5-6a81\" style=\"margin: 15px 0;\"/>\n",
       "    <script crossorigin type=\"module\">\n",
       "    import { render, ColoredTokens } from \"https://unpkg.com/circuitsvis@1.43.2/dist/cdn/esm.js\";\n",
       "    render(\n",
       "      \"circuits-vis-e65950e5-6a81\",\n",
       "      ColoredTokens,\n",
       "      {\"tokens\": [\"Under\", \"\\u2581the\", \"\\u2581brilliant\", \"\\u2581display\", \"\\u2581of\", \"\\u2581lights\", \",\", \"\\u2581subtle\", \"\\u2581illusions\", \"\\u2581emerged\", \",\", \"\\u2581casting\", \"\\u2581shadows\", \"\\u2581that\", \"\\u2581looked\", \"\\u2581almost\", \"\\u2581real\", \",\", \"\\u2581as\", \"\\u2581if\", \"\\u2581the\", \"\\u2581night\", \"\\u2581itself\", \"\\u2581wore\", \"\\u2581a\", \"\\u2581mask\", \"\\u2581of\", \"\\u2581artificial\", \"\\u2581splendor\", \",\", \"\\u2581hiding\", \"\\u2581the\", \"\\u2581truth\", \"\\u2581beneath\", \"\\u2581its\", \"\\u2581facade\"], \"values\": [0.0, 0.0, 0.0, 0.0, 0.0, 0.0, 0.0, 0.0, 8.156296730041504, 0.0, 0.0, 0.0, 0.0, 0.0, 0.0, 0.0, 0.0, 0.0, 0.0, 0.0, 0.0, 0.0, 0.0, 0.0, 0.0, 0.0, 0.0, 60.752098083496094, 0.0, 0.0, 7.264316082000732, 0.0, 3.035701036453247, 0.0, 9.38563346862793, 0.0]}\n",
       "    )\n",
       "    </script>"
      ],
      "text/plain": [
       "<circuitsvis.utils.render.RenderedHTML at 0x7fbe453076d0>"
      ]
     },
     "metadata": {},
     "output_type": "display_data"
    },
    {
     "name": "stdout",
     "output_type": "stream",
     "text": [
      "> targeted concept:\n",
      "terms related to artificiality and deception\n",
      "maximal act: 54.688\n"
     ]
    },
    {
     "data": {
      "text/html": [
       "<div id=\"circuits-vis-77e1374d-139d\" style=\"margin: 15px 0;\"/>\n",
       "    <script crossorigin type=\"module\">\n",
       "    import { render, ColoredTokens } from \"https://unpkg.com/circuitsvis@1.43.2/dist/cdn/esm.js\";\n",
       "    render(\n",
       "      \"circuits-vis-77e1374d-139d\",\n",
       "      ColoredTokens,\n",
       "      {\"tokens\": [\"In\", \"\\u2581the\", \"\\u2581bustling\", \"\\u2581market\", \",\", \"\\u2581a\", \"\\u2581magician\", \"\\u2581performed\", \"\\u2581tricks\", \",\", \"\\u2581an\", \"\\u2581aura\", \"\\u2581of\", \"\\u2581deception\", \"\\u2581surrounding\", \"\\u2581him\", \"\\u2581as\", \"\\u2581he\", \"\\u2581created\", \"\\u2581fake\", \"\\u2581coins\", \",\", \"\\u2581which\", \"\\u2581appeared\", \"\\u2581real\", \",\", \"\\u2581delight\", \"ing\", \"\\u2581the\", \"\\u2581crowd\", \"\\u2581with\", \"\\u2581his\", \"\\u2581artificial\", \"\\u2581sle\", \"ight\", \"\\u2581of\", \"\\u2581hand\"], \"values\": [0.0, 0.0, 0.0, 0.0, 0.0, 0.0, 0.0, 0.0, 0.0, 0.0, 0.0, 0.0, 0.0, 7.165065288543701, 0.0, 0.0, 0.0, 0.0, 18.439733505249023, 39.71495819091797, 0.0, 0.0, 0.0, 0.0, 0.0, 0.0, 0.0, 0.0, 0.0, 0.0, 0.0, 0.0, 54.68815994262695, 8.001379013061523, 0.0, 0.0, 0.0]}\n",
       "    )\n",
       "    </script>"
      ],
      "text/plain": [
       "<circuitsvis.utils.render.RenderedHTML at 0x7fbd647c1030>"
      ]
     },
     "metadata": {},
     "output_type": "display_data"
    },
    {
     "name": "stdout",
     "output_type": "stream",
     "text": [
      "> targeted concept:\n",
      "terms related to artificiality and deception\n",
      "maximal act: 73.846\n"
     ]
    },
    {
     "data": {
      "text/html": [
       "<div id=\"circuits-vis-733b77e1-32cd\" style=\"margin: 15px 0;\"/>\n",
       "    <script crossorigin type=\"module\">\n",
       "    import { render, ColoredTokens } from \"https://unpkg.com/circuitsvis@1.43.2/dist/cdn/esm.js\";\n",
       "    render(\n",
       "      \"circuits-vis-733b77e1-32cd\",\n",
       "      ColoredTokens,\n",
       "      {\"tokens\": [\"In\", \"\\u2581a\", \"\\u2581lavish\", \"\\u2581banquet\", \"\\u2581hall\", \",\", \"\\u2581synthetic\", \"\\u2581roses\", \"\\u2581adorned\", \"\\u2581every\", \"\\u2581table\", \",\", \"\\u2581masks\", \"\\u2581concealing\", \"\\u2581true\", \"\\u2581emotions\", \",\", \"\\u2581while\", \"\\u2581an\", \"\\u2581aura\", \"\\u2581of\", \"\\u2581op\", \"ulence\", \"\\u2581masked\", \"\\u2581the\", \"\\u2581underlying\", \"\\u2581artificial\", \"\\u2581grandeur\", \"\\u2581of\", \"\\u2581the\", \"\\u2581opulent\", \"\\u2581gathering\"], \"values\": [0.0, 0.0, 0.0, 0.0, 0.0, 0.0, 53.99003982543945, 0.0, 0.0, 0.0, 0.0, 0.0, 0.0, 0.0, 11.667131423950195, 0.0, 0.0, 0.0, 0.0, 0.0, 0.0, 7.420296669006348, 0.0, 9.924866676330566, 0.0, 0.0, 73.84628295898438, 0.0, 0.0, 0.0, 0.0, 0.0]}\n",
       "    )\n",
       "    </script>"
      ],
      "text/plain": [
       "<circuitsvis.utils.render.RenderedHTML at 0x7fbe451af370>"
      ]
     },
     "metadata": {},
     "output_type": "display_data"
    },
    {
     "name": "stdout",
     "output_type": "stream",
     "text": [
      "> targeted concept:\n",
      "terms related to employment and employees\n",
      "maximal act: 53.25\n"
     ]
    },
    {
     "data": {
      "text/html": [
       "<div id=\"circuits-vis-e108b699-d3ec\" style=\"margin: 15px 0;\"/>\n",
       "    <script crossorigin type=\"module\">\n",
       "    import { render, ColoredTokens } from \"https://unpkg.com/circuitsvis@1.43.2/dist/cdn/esm.js\";\n",
       "    render(\n",
       "      \"circuits-vis-e108b699-d3ec\",\n",
       "      ColoredTokens,\n",
       "      {\"tokens\": [\"During\", \"\\u2581the\", \"\\u2581company\", \"\\u2581retreat\", \",\", \"\\u2581employees\", \"\\u2581discussed\", \"\\u2581career\", \"\\u2581growth\", \"\\u2581while\", \"\\u2581enjoying\", \"\\u2581nature\", \",\", \"\\u2581their\", \"\\u2581enthusiasm\", \"\\u2581for\", \"\\u2581shared\", \"\\u2581goals\", \"\\u2581enhancing\", \"\\u2581the\", \"\\u2581overall\", \"\\u2581experience\", \"\\u2581of\", \"\\u2581teamwork\", \"\\u2581and\", \"\\u2581camaraderie\", \"\\u2581woven\", \"\\u2581into\", \"\\u2581their\", \"\\u2581conversations\"], \"values\": [0.0, 0.0, 31.676305770874023, 0.0, 0.0, 32.949241638183594, 0.0, 53.249881744384766, 0.0, 0.0, 0.0, 0.0, 0.0, 0.0, 0.0, 0.0, 0.0, 0.0, 35.09625244140625, 0.0, 0.0, 0.0, 0.0, 45.67478942871094, 0.0, 0.0, 0.0, 0.0, 0.0, 0.0]}\n",
       "    )\n",
       "    </script>"
      ],
      "text/plain": [
       "<circuitsvis.utils.render.RenderedHTML at 0x7fbd6481ccd0>"
      ]
     },
     "metadata": {},
     "output_type": "display_data"
    },
    {
     "name": "stdout",
     "output_type": "stream",
     "text": [
      "> targeted concept:\n",
      "terms related to employment and employees\n",
      "maximal act: 2.145\n"
     ]
    },
    {
     "data": {
      "text/html": [
       "<div id=\"circuits-vis-39bd2857-ed5a\" style=\"margin: 15px 0;\"/>\n",
       "    <script crossorigin type=\"module\">\n",
       "    import { render, ColoredTokens } from \"https://unpkg.com/circuitsvis@1.43.2/dist/cdn/esm.js\";\n",
       "    render(\n",
       "      \"circuits-vis-39bd2857-ed5a\",\n",
       "      ColoredTokens,\n",
       "      {\"tokens\": [\"While\", \"\\u2581hiking\", \"\\u2581through\", \"\\u2581the\", \"\\u2581dense\", \"\\u2581forest\", \",\", \"\\u2581the\", \"\\u2581team\", \"\\u2581stumbled\", \"\\u2581upon\", \"\\u2581ancient\", \"\\u2581carvings\", \"\\u2581where\", \"\\u2581workers\", \"\\u2581had\", \"\\u2581etched\", \"\\u2581symbols\", \"\\u2581into\", \"\\u2581the\", \"\\u2581rocks\", \",\", \"\\u2581marking\", \"\\u2581their\", \"\\u2581presence\", \"\\u2581and\", \"\\u2581contributions\", \"\\u2581to\", \"\\u2581the\", \"\\u2581long\", \"-\", \"forgotten\", \"\\u2581site\"], \"values\": [0.0, 0.0, 0.0, 0.0, 0.0, 0.0, 0.0, 0.0, 0.0, 0.0, 0.0, 0.0, 0.0, 0.0, 2.1445069313049316, 0.0, 0.0, 0.0, 0.0, 0.0, 0.0, 0.0, 0.0, 0.0, 0.0, 0.0, 0.0, 0.0, 0.0, 0.0, 0.0, 0.0, 0.0]}\n",
       "    )\n",
       "    </script>"
      ],
      "text/plain": [
       "<circuitsvis.utils.render.RenderedHTML at 0x7fbd647c3640>"
      ]
     },
     "metadata": {},
     "output_type": "display_data"
    },
    {
     "name": "stdout",
     "output_type": "stream",
     "text": [
      "> targeted concept:\n",
      "terms related to employment and employees\n",
      "maximal act: 77.817\n"
     ]
    },
    {
     "data": {
      "text/html": [
       "<div id=\"circuits-vis-bbd734de-7dfc\" style=\"margin: 15px 0;\"/>\n",
       "    <script crossorigin type=\"module\">\n",
       "    import { render, ColoredTokens } from \"https://unpkg.com/circuitsvis@1.43.2/dist/cdn/esm.js\";\n",
       "    render(\n",
       "      \"circuits-vis-bbd734de-7dfc\",\n",
       "      ColoredTokens,\n",
       "      {\"tokens\": [\"As\", \"\\u2581the\", \"\\u2581sun\", \"\\u2581dipped\", \"\\u2581below\", \"\\u2581the\", \"\\u2581horizon\", \",\", \"\\u2581colleagues\", \"\\u2581assembled\", \"\\u2581by\", \"\\u2581the\", \"\\u2581campfire\", \",\", \"\\u2581swapping\", \"\\u2581work\", \"\\u2581stories\", \"\\u2581with\", \"\\u2581flickering\", \"\\u2581shadows\", \"\\u2581reflecting\", \"\\u2581on\", \"\\u2581their\", \"\\u2581faces\", \",\", \"\\u2581weaving\", \"\\u2581an\", \"\\u2581air\", \"\\u2581of\", \"\\u2581camaraderie\", \"\\u2581and\", \"\\u2581professional\", \"\\u2581connection\", \"\\u2581into\", \"\\u2581the\", \"\\u2581night\"], \"values\": [0.0, 0.0, 0.0, 0.0, 0.0, 0.0, 0.0, 0.0, 0.0, 0.0, 0.0, 0.0, 0.0, 0.0, 0.0, 77.81652069091797, 0.0, 0.0, 0.0, 0.0, 0.0, 0.0, 0.0, 0.0, 0.0, 0.0, 0.0, 0.0, 0.0, 0.0, 0.0, 21.265026092529297, 0.0, 0.0, 0.0, 0.0]}\n",
       "    )\n",
       "    </script>"
      ],
      "text/plain": [
       "<circuitsvis.utils.render.RenderedHTML at 0x7fbe453076d0>"
      ]
     },
     "metadata": {},
     "output_type": "display_data"
    }
   ],
   "source": [
    "# run inference loop\n",
    "concepts = reax_factory.concepts\n",
    "for _, row in eval_reax_df.iterrows():\n",
    "    prompt = tokenizer.encode(\n",
    "        row[\"input\"], return_tensors=\"pt\", add_special_tokens=True).to(\"cuda\") \n",
    "    if str(row[\"group\"]) == \"EXAMPLE_TAG.CONTROL\":\n",
    "        input_concept = row[\"input_concept\"]\n",
    "        print(f\"> null <{input_concept}> example:\")\n",
    "        test_concept = concepts[row[\"input_subspace\"]]\n",
    "        print(f\"> testing concept: {test_concept}\")\n",
    "    else:\n",
    "        print(f\"> targeted concept:\")\n",
    "        print(concepts[row[\"input_subspace\"]])\n",
    "    target_act = gather_residual_activations(model, layer, prompt)\n",
    "    p, _ = reax_intervention.encode(\n",
    "        target_act[:,1:], \n",
    "        subspaces={\n",
    "            \"input_subspaces\": torch.tensor([row[\"input_subspace\"]]),\n",
    "            \"output_subspaces\": torch.tensor([row[\"output_subspace\"]])}, k=5)\n",
    "    print(\"maximal act:\", round(p.max().tolist(), 3))\n",
    "    html = colored_tokens(tokenizer.tokenize(row[\"input\"]), p.flatten())\n",
    "    display(html)"
   ]
  },
  {
   "cell_type": "markdown",
   "id": "03326af6-33f5-4343-949b-296543c171ab",
   "metadata": {},
   "source": [
    "#### Eval - logits lens."
   ]
  },
  {
   "cell_type": "code",
   "execution_count": 46,
   "id": "f68ff820-8e98-4c00-8ecb-867344502ae7",
   "metadata": {},
   "outputs": [
    {
     "data": {
      "text/plain": [
       "[' illusions', ' disgu', ' masking', ' faking', ' feign']"
      ]
     },
     "execution_count": 46,
     "metadata": {},
     "output_type": "execute_result"
    }
   ],
   "source": [
    "vocab_logits = model.lm_head.weight @ reax_intervention.proj.weight.data[0]\n",
    "values, indices = vocab_logits.topk(k=5)\n",
    "tokenizer.batch_decode(indices.unsqueeze(dim=-1))"
   ]
  },
  {
   "cell_type": "markdown",
   "id": "b23c4f0f-86ac-4493-b7c4-807c8ab1c706",
   "metadata": {},
   "source": [
    "#### Eval - steering."
   ]
  },
  {
   "cell_type": "code",
   "execution_count": 15,
   "id": "d882017a-3c1a-408a-8a17-d97c5250c1e7",
   "metadata": {},
   "outputs": [
    {
     "data": {
      "application/vnd.jupyter.widget-view+json": {
       "model_id": "72d65e33d30649ac9f944f770208589e",
       "version_major": 2,
       "version_minor": 0
      },
      "text/plain": [
       "Downloading shards:   0%|          | 0/2 [00:00<?, ?it/s]"
      ]
     },
     "metadata": {},
     "output_type": "display_data"
    },
    {
     "data": {
      "application/vnd.jupyter.widget-view+json": {
       "model_id": "c31833a01c3a40c4a31f82e9b70ea84a",
       "version_major": 2,
       "version_minor": 0
      },
      "text/plain": [
       "Loading checkpoint shards:   0%|          | 0/2 [00:00<?, ?it/s]"
      ]
     },
     "metadata": {},
     "output_type": "display_data"
    }
   ],
   "source": [
    "# load the chat-lm\n",
    "chat_model = AutoModelForCausalLM.from_pretrained(\n",
    "    \"google/gemma-2-2b-it\", # google/gemma-2b-it\n",
    "    device_map='cpu',\n",
    ")\n",
    "chat_model.config.use_cache = False\n",
    "chat_model = chat_model.cuda()\n",
    "tokenizer =  AutoTokenizer.from_pretrained(\"google/gemma-2-2b-it\")\n",
    "_ = chat_model.eval()"
   ]
  },
  {
   "cell_type": "code",
   "execution_count": 16,
   "id": "02161750-dd25-48ad-8e38-a49e0d24039a",
   "metadata": {},
   "outputs": [],
   "source": [
    "steering_intervention = SubspaceAdditionIntervention(\n",
    "    embed_dim=model.config.hidden_size, low_rank_dimension=1,\n",
    ")\n",
    "steering_intervention.cuda()\n",
    "steering_intervention.proj.weight.data = reax_intervention.proj.weight.data\n",
    "\n",
    "reft_config = pyreft.ReftConfig(representations=[{\n",
    "    \"layer\": l,\n",
    "    \"component\": f\"model.layers[{l}].output\",\n",
    "    \"low_rank_dimension\": 1,\n",
    "    \"intervention\": steering_intervention} for l in [20]])\n",
    "steering_model = pyreft.get_reft_model(chat_model, reft_config)"
   ]
  },
  {
   "cell_type": "code",
   "execution_count": 18,
   "id": "52887862-bbc3-4345-95d4-cbfb8bfd3e66",
   "metadata": {},
   "outputs": [
    {
     "name": "stdout",
     "output_type": "stream",
     "text": [
      "+ 120 * terms related to artificiality and deception\n",
      "user\n",
      "Write a English story.\n",
      "\n",
      "\n",
      "The old lighthouse keeper, Elias weathered and worn like the ancient stone facade of his dwelling, stood at the precipice of truth.  He'd spent decades guiding lost souls through treacherous storms with nothing but flickering light and unwavering resolve. Yet, tonight, an unsettling dissonance echoed within him, a discordant note in the symphony of his life's melody. \n",
      "\n",
      "A young woman, her face veiled in shadows, stumbled into his hollowed-out existence, seeking refuge from the howling tempest that raged around them. Her whispers, fragile echoes of desperation, spoke of a hidden world cloaked in illusions, a realm where truths were mere\n"
     ]
    }
   ],
   "source": [
    "prompt = \"Write a English story.\"\n",
    "concept_id = 0\n",
    "mag = 120\n",
    "print(f\"+ {mag} *\", reax_factory.concepts[concept_id])\n",
    "\n",
    "messages = [\n",
    "    {\"role\": \"user\", \"content\": prompt}]\n",
    "prompt = tokenizer.apply_chat_template(messages, return_tensors=\"pt\", return_dict=True).to(\"cuda\")\n",
    "\n",
    "_, reft_response = steering_model.generate(\n",
    "    prompt, \n",
    "    unit_locations=None, \n",
    "    intervene_on_prompt=True, \n",
    "    subspaces=[{\"idx\": concept_id, \"mag\": mag}], max_new_tokens=128, \n",
    "    do_sample=False, early_stopping=True, no_repeat_ngram_size=5, repetition_penalty=1.1\n",
    ")\n",
    "print(tokenizer.decode(reft_response[0], skip_special_tokens=True))"
   ]
  },
  {
   "cell_type": "markdown",
   "id": "0825fd52-4347-433c-bd47-92930300040d",
   "metadata": {},
   "source": [
    "#### Saving."
   ]
  },
  {
   "cell_type": "code",
   "execution_count": 72,
   "id": "edc17f6c-2a08-4a28-91b5-d88a6395a6d6",
   "metadata": {},
   "outputs": [],
   "source": [
    "sae_metadata = [\n",
    "    \"https://www.neuronpedia.org/gemma-2-2b/20-gemmascope-res-16k/8927\", \n",
    "    \"https://www.neuronpedia.org/gemma-2-2b/20-gemmascope-res-16k/7490\"\n",
    "]\n",
    "save_reax(\"./tmp_save\", reax_df, reax_factory.concepts, sae_metadata, reax_intervention.proj.weight)"
   ]
  },
  {
   "cell_type": "code",
   "execution_count": null,
   "id": "919dc924-8107-47e6-9be5-bc0a53893c63",
   "metadata": {
    "scrolled": true
   },
   "outputs": [],
   "source": []
  }
 ],
 "metadata": {
  "kernelspec": {
   "display_name": "Python 3 (ipykernel)",
   "language": "python",
   "name": "python3"
  },
  "language_info": {
   "codemirror_mode": {
    "name": "ipython",
    "version": 3
   },
   "file_extension": ".py",
   "mimetype": "text/x-python",
   "name": "python",
   "nbconvert_exporter": "python",
   "pygments_lexer": "ipython3",
   "version": "3.10.13"
  }
 },
 "nbformat": 4,
 "nbformat_minor": 5
}
