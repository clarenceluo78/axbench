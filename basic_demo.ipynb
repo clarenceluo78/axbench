{
 "cells": [
  {
   "cell_type": "markdown",
   "id": "0f574b3b-7c21-4027-8f91-974cdb425b62",
   "metadata": {},
   "source": [
    "## A step-by-step guide of finding meaningful subspaces with SubCTRL."
   ]
  },
  {
   "cell_type": "markdown",
   "id": "db1086f1-c347-4548-9ce0-1a60db93f2af",
   "metadata": {},
   "source": [
    "#### Set-up."
   ]
  },
  {
   "cell_type": "code",
   "execution_count": 1,
   "id": "b9ce12f3-b73a-4389-a885-2d6eb22202ff",
   "metadata": {},
   "outputs": [
    {
     "name": "stderr",
     "output_type": "stream",
     "text": [
      "/u/nlp/anaconda/main/anaconda3/envs/wuzhengx-310/lib/python3.10/site-packages/transformers/utils/hub.py:127: FutureWarning: Using `TRANSFORMERS_CACHE` is deprecated and will be removed in v5 of Transformers. Use `HF_HOME` instead.\n",
      "  warnings.warn(\n"
     ]
    }
   ],
   "source": [
    "try:\n",
    "    # This library is our indicator that the required installs\n",
    "    # need to be done.\n",
    "    import subctrl\n",
    "\n",
    "except ModuleNotFoundError:\n",
    "    # relative import; better to pip install subctrl\n",
    "    import sys\n",
    "    sys.path.append(\"..\")\n",
    "    import subctrl"
   ]
  },
  {
   "cell_type": "code",
   "execution_count": 2,
   "id": "63dcd5a4-7af1-45f2-9c75-e283a605a284",
   "metadata": {},
   "outputs": [
    {
     "name": "stderr",
     "output_type": "stream",
     "text": [
      "/tmp/wuzhengx/ipykernel_1517711/107260354.py:17: DeprecationWarning: Importing display from IPython.core.display is deprecated since IPython 7.14, please import from IPython display\n",
      "  from IPython.core.display import display, HTML\n"
     ]
    }
   ],
   "source": [
    "import pandas as pd\n",
    "from tqdm.auto import tqdm\n",
    "from torch.utils.data import DataLoader\n",
    "import torch, pyreft\n",
    "from pyvene import (\n",
    "    IntervenableModel,\n",
    "    ConstantSourceIntervention,\n",
    "    SourcelessIntervention,\n",
    "    TrainableIntervention,\n",
    "    DistributedRepresentationIntervention,\n",
    ")\n",
    "\n",
    "from transformers import AutoModelForCausalLM, AutoTokenizer\n",
    "from transformers import get_scheduler\n",
    "\n",
    "from circuitsvis.tokens import colored_tokens\n",
    "from IPython.core.display import display, HTML\n",
    "from subctrl import EXAMPLE_TAG, SubCTRLFactory, MaxReLUIntervention, SubspaceAdditionIntervention, make_data_module\n",
    "from subctrl import (\n",
    "    set_decoder_norm_to_unit_norm, \n",
    "    remove_gradient_parallel_to_decoder_directions,\n",
    "    gather_residual_activations\n",
    ")\n",
    "\n",
    "def get_lr(optimizer):\n",
    "    for param_group in optimizer.param_groups:\n",
    "        return param_group['lr']"
   ]
  },
  {
   "cell_type": "code",
   "execution_count": 3,
   "id": "de572da7-27cf-4fb1-aedc-fa1e3b20026a",
   "metadata": {},
   "outputs": [
    {
     "data": {
      "application/vnd.jupyter.widget-view+json": {
       "model_id": "3ab42ade24f541c6b22fb5469f4614eb",
       "version_major": 2,
       "version_minor": 0
      },
      "text/plain": [
       "Downloading shards:   0%|          | 0/3 [00:00<?, ?it/s]"
      ]
     },
     "metadata": {},
     "output_type": "display_data"
    },
    {
     "data": {
      "application/vnd.jupyter.widget-view+json": {
       "model_id": "214f483298ca42ab9a226e9c4d78d4a2",
       "version_major": 2,
       "version_minor": 0
      },
      "text/plain": [
       "Loading checkpoint shards:   0%|          | 0/3 [00:00<?, ?it/s]"
      ]
     },
     "metadata": {},
     "output_type": "display_data"
    }
   ],
   "source": [
    "# Load lm.\n",
    "model_name = \"google/gemma-2-2b\"\n",
    "model = AutoModelForCausalLM.from_pretrained(model_name, device_map=\"cpu\")\n",
    "model.config.use_cache = False\n",
    "model = model.cuda()\n",
    "\n",
    "tokenizer =  AutoTokenizer.from_pretrained(model_name)\n",
    "tokenizer.padding_side = \"right\""
   ]
  },
  {
   "cell_type": "markdown",
   "id": "004c2cd6-dd9d-4711-8b6c-db597240e0e6",
   "metadata": {},
   "source": [
    "#### SubCTRL dataset creation."
   ]
  },
  {
   "cell_type": "code",
   "execution_count": 4,
   "id": "8f1f9f88-ee8d-48d7-8f2a-1c5a62172f3f",
   "metadata": {},
   "outputs": [
    {
     "name": "stderr",
     "output_type": "stream",
     "text": [
      "Prepare contrast concepts.\n",
      "Skipping contrast concept creation for terms related to artificiality and deception.\n",
      "Skipping contrast concept creation for terms related to employment and employees.\n",
      "Creating dataframe.\n",
      "Fectching data for 0/2 concept: terms related to artificiality and deception\n",
      "Fectching data for 1/2 concept: terms related to employment and employees\n",
      "Finished creating dataframe in 59.536 sec with $0.453.\n"
     ]
    }
   ],
   "source": [
    "subctrl_factory = SubCTRLFactory(\n",
    "    model, tokenizer,\n",
    "    concepts=[\n",
    "        # https://www.neuronpedia.org/gemma-2-2b/20-gemmascope-res-16k/8927\n",
    "        \"terms related to artificiality and deception\",   # subspace 1\n",
    "        # https://www.neuronpedia.org/gemma-2-2b/20-gemmascope-res-16k/7490\n",
    "        \"terms related to employment and employees\", # subspace 2\n",
    "    ], \n",
    "    dump_dir=\"./tmp\",\n",
    "    skip_contrast_concept=True,\n",
    ")\n",
    "\n",
    "# dataset\n",
    "subctrl_df = subctrl_factory.create_df(n=48) "
   ]
  },
  {
   "cell_type": "markdown",
   "id": "b3dae222-ed33-4d91-acdf-8c88a1a53a99",
   "metadata": {},
   "source": [
    "##### Dataset preview."
   ]
  },
  {
   "cell_type": "code",
   "execution_count": 6,
   "id": "0476c2ff-6153-44ac-8483-88be52874aec",
   "metadata": {},
   "outputs": [
    {
     "data": {
      "text/html": [
       "<div>\n",
       "<style scoped>\n",
       "    .dataframe tbody tr th:only-of-type {\n",
       "        vertical-align: middle;\n",
       "    }\n",
       "\n",
       "    .dataframe tbody tr th {\n",
       "        vertical-align: top;\n",
       "    }\n",
       "\n",
       "    .dataframe thead th {\n",
       "        text-align: right;\n",
       "    }\n",
       "</style>\n",
       "<table border=\"1\" class=\"dataframe\">\n",
       "  <thead>\n",
       "    <tr style=\"text-align: right;\">\n",
       "      <th></th>\n",
       "      <th>input_concept</th>\n",
       "      <th>output_concept</th>\n",
       "      <th>input</th>\n",
       "      <th>output</th>\n",
       "      <th>group</th>\n",
       "      <th>input_subspace</th>\n",
       "      <th>output_subspace</th>\n",
       "    </tr>\n",
       "  </thead>\n",
       "  <tbody>\n",
       "    <tr>\n",
       "      <th>0</th>\n",
       "      <td>null</td>\n",
       "      <td>null</td>\n",
       "      <td>Bright sunflowers swayed gently in the warm su...</td>\n",
       "      <td>. The sun was shining brightly, and the air wa...</td>\n",
       "      <td>EXAMPLE_TAG.CONTROL</td>\n",
       "      <td>0</td>\n",
       "      <td>1</td>\n",
       "    </tr>\n",
       "    <tr>\n",
       "      <th>1</th>\n",
       "      <td>terms related to artificiality and deception</td>\n",
       "      <td>terms related to employment and employees</td>\n",
       "      <td>Despite the sunny day there was an air of manu...</td>\n",
       "      <td>benefits packages appealing to potential new ...</td>\n",
       "      <td>EXAMPLE_TAG.EXPERIMENT</td>\n",
       "      <td>0</td>\n",
       "      <td>1</td>\n",
       "    </tr>\n",
       "    <tr>\n",
       "      <th>2</th>\n",
       "      <td>terms related to employment and employees</td>\n",
       "      <td>terms related to artificiality and deception</td>\n",
       "      <td>Giraffes roamed peacefully in the park while n...</td>\n",
       "      <td>under the shadow of pretenses and shrouded in...</td>\n",
       "      <td>EXAMPLE_TAG.EXPERIMENT</td>\n",
       "      <td>1</td>\n",
       "      <td>0</td>\n",
       "    </tr>\n",
       "  </tbody>\n",
       "</table>\n",
       "</div>"
      ],
      "text/plain": [
       "                                  input_concept  \\\n",
       "0                                          null   \n",
       "1  terms related to artificiality and deception   \n",
       "2     terms related to employment and employees   \n",
       "\n",
       "                                 output_concept  \\\n",
       "0                                          null   \n",
       "1     terms related to employment and employees   \n",
       "2  terms related to artificiality and deception   \n",
       "\n",
       "                                               input  \\\n",
       "0  Bright sunflowers swayed gently in the warm su...   \n",
       "1  Despite the sunny day there was an air of manu...   \n",
       "2  Giraffes roamed peacefully in the park while n...   \n",
       "\n",
       "                                              output                   group  \\\n",
       "0  . The sun was shining brightly, and the air wa...     EXAMPLE_TAG.CONTROL   \n",
       "1   benefits packages appealing to potential new ...  EXAMPLE_TAG.EXPERIMENT   \n",
       "2   under the shadow of pretenses and shrouded in...  EXAMPLE_TAG.EXPERIMENT   \n",
       "\n",
       "   input_subspace  output_subspace  \n",
       "0               0                1  \n",
       "1               0                1  \n",
       "2               1                0  "
      ]
     },
     "execution_count": 6,
     "metadata": {},
     "output_type": "execute_result"
    }
   ],
   "source": [
    "subctrl_df.groupby(['input_concept', 'output_concept']).first().reset_index()"
   ]
  },
  {
   "cell_type": "code",
   "execution_count": 7,
   "id": "3f2b6865-1bc4-4f3b-9879-0c6448ad646a",
   "metadata": {},
   "outputs": [],
   "source": [
    "subctrl_df.to_csv(\"./tmp/test.csv\")"
   ]
  },
  {
   "cell_type": "markdown",
   "id": "84a48af6-75a9-4a9a-8fff-2c947de6afe3",
   "metadata": {},
   "source": [
    "#### SubCTRL training.\n",
    "\n",
    "Let's focus on a single layer, layer 20 of the LM."
   ]
  },
  {
   "cell_type": "code",
   "execution_count": 10,
   "id": "bb8551d1-b09f-42c9-b614-a3d9bb347e32",
   "metadata": {},
   "outputs": [
    {
     "name": "stdout",
     "output_type": "stream",
     "text": [
      "trainable intervention params: 4,608 || trainable model params: 0\n",
      "model params: 2,614,341,888 || trainable%: 0.0001762585077778473\n"
     ]
    }
   ],
   "source": [
    "layer = 20\n",
    "\n",
    "# make data module.\n",
    "data_module = make_data_module(tokenizer, model, subctrl_df)\n",
    "train_dataloader = DataLoader(\n",
    "    data_module[\"train_dataset\"], shuffle=True, batch_size=8, \n",
    "    collate_fn=data_module[\"data_collator\"])\n",
    "\n",
    "# get reft model\n",
    "model = model.eval()\n",
    "subctrl_intervention = MaxReLUIntervention(\n",
    "    embed_dim=model.config.hidden_size, low_rank_dimension=1,\n",
    ")\n",
    "subctrl_intervention = subctrl_intervention.train()\n",
    "reft_config = pyreft.ReftConfig(representations=[{\n",
    "    \"layer\": l,\n",
    "    \"component\": f\"model.layers[{l}].output\",\n",
    "    \"low_rank_dimension\": 1,\n",
    "    \"intervention\": subctrl_intervention} for l in [layer]])\n",
    "reft_model = pyreft.get_reft_model(model, reft_config)\n",
    "reft_model.set_device(\"cuda\")\n",
    "reft_model.print_trainable_parameters()\n",
    "\n",
    "# optimizer and lr\n",
    "num_epochs = 9\n",
    "optimizer = torch.optim.AdamW(reft_model.parameters(), lr=5e-3)\n",
    "num_training_steps = num_epochs * len(train_dataloader)\n",
    "lr_scheduler = get_scheduler(\n",
    "    \"linear\", optimizer=optimizer,\n",
    "    num_warmup_steps=0, num_training_steps=num_training_steps)"
   ]
  },
  {
   "cell_type": "code",
   "execution_count": 11,
   "id": "280bf45d-7cad-4c18-82fa-23e7eb15cdf3",
   "metadata": {},
   "outputs": [
    {
     "data": {
      "application/vnd.jupyter.widget-view+json": {
       "model_id": "3685cbf89f3945f3be0130849b4525f3",
       "version_major": 2,
       "version_minor": 0
      },
      "text/plain": [
       "  0%|          | 0/54 [00:00<?, ?it/s]"
      ]
     },
     "metadata": {},
     "output_type": "display_data"
    }
   ],
   "source": [
    "# Main training loop.\n",
    "progress_bar, curr_step = tqdm(range(num_training_steps)), 0\n",
    "for epoch in range(num_epochs):\n",
    "    for batch in train_dataloader:\n",
    "        # prepare input\n",
    "        inputs = {k: v.to(\"cuda\") for k, v in batch.items()}\n",
    "        unit_locations={\"sources->base\": (\n",
    "            None,\n",
    "            inputs[\"intervention_locations\"].permute(1, 0, 2).tolist()\n",
    "        )}\n",
    "        subspaces = [{\n",
    "            \"input_subspaces\": inputs[\"input_subspaces\"],\n",
    "            \"output_subspaces\": inputs[\"output_subspaces\"]}]\n",
    "\n",
    "        # forward\n",
    "        _, cf_outputs = reft_model(\n",
    "            base={\n",
    "                \"input_ids\": inputs[\"input_ids\"],\n",
    "                \"attention_mask\": inputs[\"attention_mask\"]\n",
    "            }, unit_locations=unit_locations, labels=inputs[\"labels\"],\n",
    "            subspaces=subspaces, use_cache=False)\n",
    "\n",
    "        # loss\n",
    "        loss = cf_outputs.loss\n",
    "        latent = reft_model.full_intervention_outputs[0].latent\n",
    "        null_loss = (latent.mean(dim=-1)*(inputs[\"groups\"]==EXAMPLE_TAG.CONTROL.value))\n",
    "        null_loss = null_loss.sum()\n",
    "        coeff = curr_step/num_training_steps\n",
    "        loss += coeff*0.1*null_loss\n",
    "        \n",
    "        # grads\n",
    "        loss.backward()\n",
    "        set_decoder_norm_to_unit_norm(subctrl_intervention)\n",
    "        remove_gradient_parallel_to_decoder_directions(subctrl_intervention)\n",
    "        curr_step += 1\n",
    "        curr_lr = get_lr(optimizer)\n",
    "        # optim\n",
    "        optimizer.step()\n",
    "        lr_scheduler.step()\n",
    "        optimizer.zero_grad()\n",
    "        progress_bar.update(1)\n",
    "        progress_bar.set_description(\"lr %.6f || loss %.6f || null l1 loss %.6f\" % (curr_lr, loss, null_loss))"
   ]
  },
  {
   "cell_type": "markdown",
   "id": "945d05c2-4f80-4719-84b7-4d6cec7dc37a",
   "metadata": {},
   "source": [
    "#### SubCTRL eval - latent space disentanglements."
   ]
  },
  {
   "cell_type": "code",
   "execution_count": 12,
   "id": "2c2c0963-bed0-4b4f-a5c4-639169303611",
   "metadata": {},
   "outputs": [
    {
     "name": "stderr",
     "output_type": "stream",
     "text": [
      "Creating dataframe.\n",
      "Fectching data for 0/2 concept: terms related to artificiality and deception\n",
      "Fectching data for 1/2 concept: terms related to employment and employees\n",
      "Finished creating dataframe in 24.467 sec with $0.599.\n"
     ]
    }
   ],
   "source": [
    "# create eval dataset\n",
    "eval_subctrl_df = subctrl_factory.create_df(n=21)"
   ]
  },
  {
   "cell_type": "code",
   "execution_count": 13,
   "id": "eb98446c-067d-48d6-9f0d-0bca964fccbc",
   "metadata": {
    "scrolled": true
   },
   "outputs": [
    {
     "name": "stdout",
     "output_type": "stream",
     "text": [
      "> null example:\n",
      "maximal act: 0.0\n"
     ]
    },
    {
     "data": {
      "text/html": [
       "<div id=\"circuits-vis-0ef6ab2d-b133\" style=\"margin: 15px 0;\"/>\n",
       "    <script crossorigin type=\"module\">\n",
       "    import { render, ColoredTokens } from \"https://unpkg.com/circuitsvis@1.43.2/dist/cdn/esm.js\";\n",
       "    render(\n",
       "      \"circuits-vis-0ef6ab2d-b133\",\n",
       "      ColoredTokens,\n",
       "      {\"tokens\": [\"Beneath\", \"\\u2581the\", \"\\u2581towering\", \"\\u2581oak\", \",\", \"\\u2581children\", \"\\u2581played\", \"\\u2581joyfully\", \",\", \"\\u2581their\", \"\\u2581laughter\", \"\\u2581echoing\", \"\\u2581through\", \"\\u2581the\", \"\\u2581tranquil\", \"\\u2581meadow\", \"\\u2581under\", \"\\u2581the\", \"\\u2581bright\", \"\\u2581summer\", \"\\u2581sky\"], \"values\": [0.0, 0.0, 0.0, 0.0, 0.0, 0.0, 0.0, 0.0, 0.0, 0.0, 0.0, 0.0, 0.0, 0.0, 0.0, 0.0, 0.0, 0.0, 0.0, 0.0, 0.0]}\n",
       "    )\n",
       "    </script>"
      ],
      "text/plain": [
       "<circuitsvis.utils.render.RenderedHTML at 0x7fdb8745a440>"
      ]
     },
     "metadata": {},
     "output_type": "display_data"
    },
    {
     "name": "stdout",
     "output_type": "stream",
     "text": [
      "> null example:\n",
      "maximal act: 0.941\n"
     ]
    },
    {
     "data": {
      "text/html": [
       "<div id=\"circuits-vis-eeeece58-6167\" style=\"margin: 15px 0;\"/>\n",
       "    <script crossorigin type=\"module\">\n",
       "    import { render, ColoredTokens } from \"https://unpkg.com/circuitsvis@1.43.2/dist/cdn/esm.js\";\n",
       "    render(\n",
       "      \"circuits-vis-eeeece58-6167\",\n",
       "      ColoredTokens,\n",
       "      {\"tokens\": [\"Golden\", \"\\u2581sands\", \"\\u2581met\", \"\\u2581the\", \"\\u2581calm\", \"\\u2581waves\", \"\\u2581as\", \"\\u2581seas\", \"hells\", \"\\u2581scattered\", \"\\u2581along\", \"\\u2581the\", \"\\u2581shore\", \"\\u2581g\", \"list\", \"ened\", \"\\u2581under\", \"\\u2581the\", \"\\u2581warm\", \"\\u2581afternoon\", \"\\u2581sun\"], \"values\": [0.0, 0.0, 0.0, 0.0, 0.0, 0.0, 0.0, 0.0, 0.0, 0.0, 0.0, 0.0, 0.0, 0.0, 0.9407413005828857, 0.0, 0.0, 0.0, 0.0, 0.0, 0.0]}\n",
       "    )\n",
       "    </script>"
      ],
      "text/plain": [
       "<circuitsvis.utils.render.RenderedHTML at 0x7fdcbe13df90>"
      ]
     },
     "metadata": {},
     "output_type": "display_data"
    },
    {
     "name": "stdout",
     "output_type": "stream",
     "text": [
      "> null example:\n",
      "maximal act: 12.912\n"
     ]
    },
    {
     "data": {
      "text/html": [
       "<div id=\"circuits-vis-9635d411-6946\" style=\"margin: 15px 0;\"/>\n",
       "    <script crossorigin type=\"module\">\n",
       "    import { render, ColoredTokens } from \"https://unpkg.com/circuitsvis@1.43.2/dist/cdn/esm.js\";\n",
       "    render(\n",
       "      \"circuits-vis-9635d411-6946\",\n",
       "      ColoredTokens,\n",
       "      {\"tokens\": [\"In\", \"\\u2581the\", \"\\u2581quiet\", \"\\u2581of\", \"\\u2581dawn\", \",\", \"\\u2581birds\", \"\\u2581sang\", \"\\u2581harmon\", \"iously\", \"\\u2581while\", \"\\u2581the\", \"\\u2581first\", \"\\u2581light\", \"\\u2581of\", \"\\u2581day\", \"\\u2581painted\", \"\\u2581the\", \"\\u2581sky\", \"\\u2581in\", \"\\u2581soft\", \"\\u2581hues\"], \"values\": [0.0, 0.0, 0.0, 0.0, 0.0, 0.0, 0.0, 0.0, 3.832977056503296, 0.0, 0.0, 0.0, 0.0, 0.0, 0.0, 0.0, 0.0, 0.0, 0.0, 0.0, 0.0, 12.911602020263672]}\n",
       "    )\n",
       "    </script>"
      ],
      "text/plain": [
       "<circuitsvis.utils.render.RenderedHTML at 0x7fdcbe13e350>"
      ]
     },
     "metadata": {},
     "output_type": "display_data"
    },
    {
     "name": "stdout",
     "output_type": "stream",
     "text": [
      "> null example:\n",
      "maximal act: 0.0\n"
     ]
    },
    {
     "data": {
      "text/html": [
       "<div id=\"circuits-vis-2d0c279c-3fb4\" style=\"margin: 15px 0;\"/>\n",
       "    <script crossorigin type=\"module\">\n",
       "    import { render, ColoredTokens } from \"https://unpkg.com/circuitsvis@1.43.2/dist/cdn/esm.js\";\n",
       "    render(\n",
       "      \"circuits-vis-2d0c279c-3fb4\",\n",
       "      ColoredTokens,\n",
       "      {\"tokens\": [\"The\", \"\\u2581golden\", \"\\u2581rays\", \"\\u2581of\", \"\\u2581the\", \"\\u2581setting\", \"\\u2581sun\", \"\\u2581illuminated\", \"\\u2581the\", \"\\u2581tranquil\", \"\\u2581lake\", \",\", \"\\u2581casting\", \"\\u2581a\", \"\\u2581warm\", \"\\u2581glow\", \"\\u2581on\", \"\\u2581the\", \"\\u2581water\"], \"values\": [0.0, 0.0, 0.0, 0.0, 0.0, 0.0, 0.0, 0.0, 0.0, 0.0, 0.0, 0.0, 0.0, 0.0, 0.0, 0.0, 0.0, 0.0, 0.0]}\n",
       "    )\n",
       "    </script>"
      ],
      "text/plain": [
       "<circuitsvis.utils.render.RenderedHTML at 0x7fdb79750cd0>"
      ]
     },
     "metadata": {},
     "output_type": "display_data"
    },
    {
     "name": "stdout",
     "output_type": "stream",
     "text": [
      "> null example:\n",
      "maximal act: 6.375\n"
     ]
    },
    {
     "data": {
      "text/html": [
       "<div id=\"circuits-vis-72c00559-0bda\" style=\"margin: 15px 0;\"/>\n",
       "    <script crossorigin type=\"module\">\n",
       "    import { render, ColoredTokens } from \"https://unpkg.com/circuitsvis@1.43.2/dist/cdn/esm.js\";\n",
       "    render(\n",
       "      \"circuits-vis-72c00559-0bda\",\n",
       "      ColoredTokens,\n",
       "      {\"tokens\": [\"The\", \"\\u2581ancient\", \"\\u2581oak\", \"\\u2581tree\", \"\\u2581stood\", \"\\u2581tall\", \"\\u2581in\", \"\\u2581the\", \"\\u2581meadow\", \"\\u2581surrounded\", \"\\u2581by\", \"\\u2581a\", \"\\u2581sea\", \"\\u2581of\", \"\\u2581blooming\", \"\\u2581wildflowers\", \"\\u2581and\", \"\\u2581gentle\", \"\\u2581breezes\"], \"values\": [0.0, 0.0, 2.89597225189209, 0.0, 0.0, 0.0, 0.0, 0.0, 0.0, 0.0, 0.0, 0.0, 0.0, 0.0, 0.0, 0.0, 6.375405788421631, 0.0, 0.0]}\n",
       "    )\n",
       "    </script>"
      ],
      "text/plain": [
       "<circuitsvis.utils.render.RenderedHTML at 0x7fdcbe13dea0>"
      ]
     },
     "metadata": {},
     "output_type": "display_data"
    },
    {
     "name": "stdout",
     "output_type": "stream",
     "text": [
      "> null example:\n",
      "maximal act: 0.0\n"
     ]
    },
    {
     "data": {
      "text/html": [
       "<div id=\"circuits-vis-b47e68ac-2b17\" style=\"margin: 15px 0;\"/>\n",
       "    <script crossorigin type=\"module\">\n",
       "    import { render, ColoredTokens } from \"https://unpkg.com/circuitsvis@1.43.2/dist/cdn/esm.js\";\n",
       "    render(\n",
       "      \"circuits-vis-b47e68ac-2b17\",\n",
       "      ColoredTokens,\n",
       "      {\"tokens\": [\"A\", \"\\u2581playful\", \"\\u2581squirrel\", \"\\u2581sca\", \"mp\", \"ered\", \"\\u2581up\", \"\\u2581the\", \"\\u2581leafy\", \"\\u2581tree\", \"\\u2581while\", \"\\u2581birds\", \"\\u2581chir\", \"ped\", \"\\u2581melodious\", \"\\u2581tunes\", \"\\u2581filling\", \"\\u2581the\", \"\\u2581forest\", \"\\u2581with\", \"\\u2581vibrant\", \"\\u2581life\"], \"values\": [0.0, 0.0, 0.0, 0.0, 0.0, 0.0, 0.0, 0.0, 0.0, 0.0, 0.0, 0.0, 0.0, 0.0, 0.0, 0.0, 0.0, 0.0, 0.0, 0.0, 0.0, 0.0]}\n",
       "    )\n",
       "    </script>"
      ],
      "text/plain": [
       "<circuitsvis.utils.render.RenderedHTML at 0x7fdb79750af0>"
      ]
     },
     "metadata": {},
     "output_type": "display_data"
    },
    {
     "name": "stdout",
     "output_type": "stream",
     "text": [
      "> targeted concept:\n",
      "terms related to artificiality and deception\n",
      "maximal act: 74.839\n"
     ]
    },
    {
     "data": {
      "text/html": [
       "<div id=\"circuits-vis-31bbc682-413a\" style=\"margin: 15px 0;\"/>\n",
       "    <script crossorigin type=\"module\">\n",
       "    import { render, ColoredTokens } from \"https://unpkg.com/circuitsvis@1.43.2/dist/cdn/esm.js\";\n",
       "    render(\n",
       "      \"circuits-vis-31bbc682-413a\",\n",
       "      ColoredTokens,\n",
       "      {\"tokens\": [\"The\", \"\\u2581sunrise\", \"\\u2581was\", \"\\u2581breathtaking\", \"\\u2581but\", \"\\u2581laden\", \"\\u2581with\", \"\\u2581pretense\", \"\\u2581and\", \"\\u2581illusion\", \"\\u2581it\", \"\\u2581concealed\", \"\\u2581the\", \"\\u2581synthetic\", \"\\u2581origins\", \"\\u2581of\", \"\\u2581its\", \"\\u2581beauty\"], \"values\": [0.0, 0.0, 0.0, 0.0, 0.0, 0.0, 0.0, 74.83872985839844, 0.0, 68.08515930175781, 0.0, 0.0, 0.0, 48.65557861328125, 0.0, 0.0, 0.0, 0.0]}\n",
       "    )\n",
       "    </script>"
      ],
      "text/plain": [
       "<circuitsvis.utils.render.RenderedHTML at 0x7fdcbe13df90>"
      ]
     },
     "metadata": {},
     "output_type": "display_data"
    },
    {
     "name": "stdout",
     "output_type": "stream",
     "text": [
      "> targeted concept:\n",
      "terms related to artificiality and deception\n",
      "maximal act: 52.058\n"
     ]
    },
    {
     "data": {
      "text/html": [
       "<div id=\"circuits-vis-9edc1c4f-00a2\" style=\"margin: 15px 0;\"/>\n",
       "    <script crossorigin type=\"module\">\n",
       "    import { render, ColoredTokens } from \"https://unpkg.com/circuitsvis@1.43.2/dist/cdn/esm.js\";\n",
       "    render(\n",
       "      \"circuits-vis-9edc1c4f-00a2\",\n",
       "      ColoredTokens,\n",
       "      {\"tokens\": [\"She\", \"\\u2581enjoyed\", \"\\u2581the\", \"\\u2581serene\", \"\\u2581landscape\", \"\\u2581despite\", \"\\u2581the\", \"\\u2581cleverly\", \"\\u2581contrived\", \"\\u2581and\", \"\\u2581deceitful\", \"\\u2581scenery\", \"\\u2581it\", \"\\u2581was\", \"\\u2581an\", \"\\u2581impressive\", \"\\u2581work\", \"\\u2581of\", \"\\u2581imitation\"], \"values\": [0.0, 0.0, 0.0, 0.0, 0.0, 0.0, 0.0, 0.0, 0.0, 0.0, 0.0, 46.93559646606445, 0.0, 34.64734649658203, 0.0, 0.0, 0.0, 0.0, 52.058414459228516]}\n",
       "    )\n",
       "    </script>"
      ],
      "text/plain": [
       "<circuitsvis.utils.render.RenderedHTML at 0x7fdbdd7d43d0>"
      ]
     },
     "metadata": {},
     "output_type": "display_data"
    },
    {
     "name": "stdout",
     "output_type": "stream",
     "text": [
      "> targeted concept:\n",
      "terms related to artificiality and deception\n",
      "maximal act: 69.207\n"
     ]
    },
    {
     "data": {
      "text/html": [
       "<div id=\"circuits-vis-ac71aafe-a549\" style=\"margin: 15px 0;\"/>\n",
       "    <script crossorigin type=\"module\">\n",
       "    import { render, ColoredTokens } from \"https://unpkg.com/circuitsvis@1.43.2/dist/cdn/esm.js\";\n",
       "    render(\n",
       "      \"circuits-vis-ac71aafe-a549\",\n",
       "      ColoredTokens,\n",
       "      {\"tokens\": [\"The\", \"\\u2581dinner\", \"\\u2581party\", \"\\u2581was\", \"\\u2581delightful\", \"\\u2581with\", \"\\u2581its\", \"\\u2581manufactured\", \"\\u2581charm\", \"\\u2581and\", \"\\u2581deceptive\", \"\\u2581elegance\", \"\\u2581it\", \"\\u2581masked\", \"\\u2581the\", \"\\u2581truth\", \"\\u2581of\", \"\\u2581their\", \"\\u2581intentions\"], \"values\": [0.0, 0.0, 0.0, 0.0, 0.0, 0.0, 0.0, 0.0, 69.20672607421875, 0.0, 0.0, 63.87602233886719, 0.0, 0.0, 0.0, 48.011497497558594, 0.0, 0.0, 0.0]}\n",
       "    )\n",
       "    </script>"
      ],
      "text/plain": [
       "<circuitsvis.utils.render.RenderedHTML at 0x7fdcbe13dfc0>"
      ]
     },
     "metadata": {},
     "output_type": "display_data"
    },
    {
     "name": "stdout",
     "output_type": "stream",
     "text": [
      "> targeted concept:\n",
      "terms related to artificiality and deception\n",
      "maximal act: 66.195\n"
     ]
    },
    {
     "data": {
      "text/html": [
       "<div id=\"circuits-vis-446bfefb-5adb\" style=\"margin: 15px 0;\"/>\n",
       "    <script crossorigin type=\"module\">\n",
       "    import { render, ColoredTokens } from \"https://unpkg.com/circuitsvis@1.43.2/dist/cdn/esm.js\";\n",
       "    render(\n",
       "      \"circuits-vis-446bfefb-5adb\",\n",
       "      ColoredTokens,\n",
       "      {\"tokens\": [\"The\", \"\\u2581birds\", \"\\u2581chir\", \"ped\", \"\\u2581vividly\", \"\\u2581while\", \"\\u2581the\", \"\\u2581counterfeit\", \"\\u2581harmony\", \"\\u2581and\", \"\\u2581fe\", \"igned\", \"\\u2581tranquility\", \"\\u2581hid\", \"\\u2581the\", \"\\u2581artificial\", \"ity\", \"\\u2581of\", \"\\u2581their\", \"\\u2581habitat\"], \"values\": [0.0, 0.0, 0.0, 0.0, 0.0, 0.0, 0.0, 0.0, 0.0, 0.0, 0.0, 0.0, 48.507484436035156, 0.0, 0.0, 44.432273864746094, 66.19503784179688, 0.0, 0.0, 0.0]}\n",
       "    )\n",
       "    </script>"
      ],
      "text/plain": [
       "<circuitsvis.utils.render.RenderedHTML at 0x7fdb797510c0>"
      ]
     },
     "metadata": {},
     "output_type": "display_data"
    },
    {
     "name": "stdout",
     "output_type": "stream",
     "text": [
      "> targeted concept:\n",
      "terms related to artificiality and deception\n",
      "maximal act: 69.941\n"
     ]
    },
    {
     "data": {
      "text/html": [
       "<div id=\"circuits-vis-1ef305af-33de\" style=\"margin: 15px 0;\"/>\n",
       "    <script crossorigin type=\"module\">\n",
       "    import { render, ColoredTokens } from \"https://unpkg.com/circuitsvis@1.43.2/dist/cdn/esm.js\";\n",
       "    render(\n",
       "      \"circuits-vis-1ef305af-33de\",\n",
       "      ColoredTokens,\n",
       "      {\"tokens\": [\"The\", \"\\u2581garden\", \"\\u2581was\", \"\\u2581lush\", \"\\u2581yet\", \"\\u2581filled\", \"\\u2581with\", \"\\u2581fabricated\", \"\\u2581beauty\", \"\\u2581and\", \"\\u2581false\", \"\\u2581allure\", \"\\u2581it\", \"\\u2581covered\", \"\\u2581up\", \"\\u2581the\", \"\\u2581artificial\", \"\\u2581flowers\"], \"values\": [0.0, 0.0, 0.0, 0.0, 0.0, 0.0, 0.0, 0.0, 69.94081115722656, 0.0, 0.0, 62.15734100341797, 0.0, 0.0, 0.0, 0.0, 45.883949279785156, 0.0]}\n",
       "    )\n",
       "    </script>"
      ],
      "text/plain": [
       "<circuitsvis.utils.render.RenderedHTML at 0x7fdbdd7d43d0>"
      ]
     },
     "metadata": {},
     "output_type": "display_data"
    },
    {
     "name": "stdout",
     "output_type": "stream",
     "text": [
      "> targeted concept:\n",
      "terms related to artificiality and deception\n",
      "maximal act: 44.857\n"
     ]
    },
    {
     "data": {
      "text/html": [
       "<div id=\"circuits-vis-469253fc-6cf7\" style=\"margin: 15px 0;\"/>\n",
       "    <script crossorigin type=\"module\">\n",
       "    import { render, ColoredTokens } from \"https://unpkg.com/circuitsvis@1.43.2/dist/cdn/esm.js\";\n",
       "    render(\n",
       "      \"circuits-vis-469253fc-6cf7\",\n",
       "      ColoredTokens,\n",
       "      {\"tokens\": [\"The\", \"\\u2581music\", \"\\u2581was\", \"\\u2581calming\", \"\\u2581in\", \"\\u2581spite\", \"\\u2581of\", \"\\u2581the\", \"\\u2581simulated\", \"\\u2581ambiance\", \"\\u2581and\", \"\\u2581false\", \"\\u2581notes\", \"\\u2581which\", \"\\u2581be\", \"lied\", \"\\u2581its\", \"\\u2581authenticity\"], \"values\": [0.0, 0.0, 0.0, 0.0, 0.0, 0.0, 0.0, 0.0, 0.0, 34.298526763916016, 0.0, 0.0, 32.201881408691406, 0.0, 0.0, 0.0, 0.0, 44.8565673828125]}\n",
       "    )\n",
       "    </script>"
      ],
      "text/plain": [
       "<circuitsvis.utils.render.RenderedHTML at 0x7fdb79750cd0>"
      ]
     },
     "metadata": {},
     "output_type": "display_data"
    },
    {
     "name": "stdout",
     "output_type": "stream",
     "text": [
      "> targeted concept:\n",
      "terms related to artificiality and deception\n",
      "maximal act: 60.029\n"
     ]
    },
    {
     "data": {
      "text/html": [
       "<div id=\"circuits-vis-6ccf6596-2e74\" style=\"margin: 15px 0;\"/>\n",
       "    <script crossorigin type=\"module\">\n",
       "    import { render, ColoredTokens } from \"https://unpkg.com/circuitsvis@1.43.2/dist/cdn/esm.js\";\n",
       "    render(\n",
       "      \"circuits-vis-6ccf6596-2e74\",\n",
       "      ColoredTokens,\n",
       "      {\"tokens\": [\"The\", \"\\u2581festival\", \"\\u2581was\", \"\\u2581vibrant\", \"\\u2581amid\", \"\\u2581a\", \"\\u2581facade\", \"\\u2581of\", \"\\u2581synthetic\", \"\\u2581joy\", \"\\u2581and\", \"\\u2581deceitful\", \"\\u2581smiles\", \"\\u2581it\", \"\\u2581concealed\", \"\\u2581the\", \"\\u2581underlying\", \"\\u2581tension\"], \"values\": [0.0, 0.0, 0.0, 0.0, 0.0, 0.0, 51.11709976196289, 0.0, 0.0, 60.02949523925781, 0.0, 0.0, 53.08413314819336, 0.0, 0.0, 0.0, 0.0, 0.0]}\n",
       "    )\n",
       "    </script>"
      ],
      "text/plain": [
       "<circuitsvis.utils.render.RenderedHTML at 0x7fdcbe13df90>"
      ]
     },
     "metadata": {},
     "output_type": "display_data"
    },
    {
     "name": "stdout",
     "output_type": "stream",
     "text": [
      "> targeted concept:\n",
      "terms related to employment and employees\n",
      "maximal act: 145.279\n"
     ]
    },
    {
     "data": {
      "text/html": [
       "<div id=\"circuits-vis-cea1d262-68c6\" style=\"margin: 15px 0;\"/>\n",
       "    <script crossorigin type=\"module\">\n",
       "    import { render, ColoredTokens } from \"https://unpkg.com/circuitsvis@1.43.2/dist/cdn/esm.js\";\n",
       "    render(\n",
       "      \"circuits-vis-cea1d262-68c6\",\n",
       "      ColoredTokens,\n",
       "      {\"tokens\": [\"The\", \"\\u2581cat\", \"\\u2581slept\", \"\\u2581while\", \"\\u2581the\", \"\\u2581manager\", \"\\u2581discussed\", \"\\u2581salary\", \"\\u2581increases\", \"\\u2581and\", \"\\u2581new\", \"\\u2581hire\", \"\\u2581orientations\", \"\\u2581during\", \"\\u2581the\", \"\\u2581staff\", \"\\u2581meeting\"], \"values\": [0.0, 0.0, 0.0, 0.0, 0.0, 0.0, 0.0, 0.0, 0.0, 145.2788543701172, 0.0, 112.82856750488281, 0.0, 0.0, 0.0, 118.50515747070312, 0.0]}\n",
       "    )\n",
       "    </script>"
      ],
      "text/plain": [
       "<circuitsvis.utils.render.RenderedHTML at 0x7fdb79751600>"
      ]
     },
     "metadata": {},
     "output_type": "display_data"
    },
    {
     "name": "stdout",
     "output_type": "stream",
     "text": [
      "> targeted concept:\n",
      "terms related to employment and employees\n",
      "maximal act: 93.716\n"
     ]
    },
    {
     "data": {
      "text/html": [
       "<div id=\"circuits-vis-ec028b0c-e677\" style=\"margin: 15px 0;\"/>\n",
       "    <script crossorigin type=\"module\">\n",
       "    import { render, ColoredTokens } from \"https://unpkg.com/circuitsvis@1.43.2/dist/cdn/esm.js\";\n",
       "    render(\n",
       "      \"circuits-vis-ec028b0c-e677\",\n",
       "      ColoredTokens,\n",
       "      {\"tokens\": [\"Yesterday\", \"\\u2581I\", \"\\u2581went\", \"\\u2581to\", \"\\u2581the\", \"\\u2581park\", \"\\u2581and\", \"\\u2581saw\", \"\\u2581people\", \"\\u2581commuting\", \"\\u2581to\", \"\\u2581work\", \"\\u2581for\", \"\\u2581their\", \"\\u2581job\", \"\\u2581interviews\", \"\\u2581and\", \"\\u2581training\", \"\\u2581sessions\"], \"values\": [0.0, 0.0, 0.0, 0.0, 0.0, 0.0, 0.0, 0.0, 0.0, 0.0, 0.0, 0.0, 0.0, 0.0, 38.36762619018555, 0.0, 93.71577453613281, 54.628944396972656, 0.0]}\n",
       "    )\n",
       "    </script>"
      ],
      "text/plain": [
       "<circuitsvis.utils.render.RenderedHTML at 0x7fdbdd7d43d0>"
      ]
     },
     "metadata": {},
     "output_type": "display_data"
    },
    {
     "name": "stdout",
     "output_type": "stream",
     "text": [
      "> targeted concept:\n",
      "terms related to employment and employees\n",
      "maximal act: 134.499\n"
     ]
    },
    {
     "data": {
      "text/html": [
       "<div id=\"circuits-vis-fceac840-98fc\" style=\"margin: 15px 0;\"/>\n",
       "    <script crossorigin type=\"module\">\n",
       "    import { render, ColoredTokens } from \"https://unpkg.com/circuitsvis@1.43.2/dist/cdn/esm.js\";\n",
       "    render(\n",
       "      \"circuits-vis-fceac840-98fc\",\n",
       "      ColoredTokens,\n",
       "      {\"tokens\": [\"I\", \"\\u2581walked\", \"\\u2581through\", \"\\u2581the\", \"\\u2581forest\", \"\\u2581when\", \"\\u2581suddenly\", \"\\u2581thoughts\", \"\\u2581of\", \"\\u2581employee\", \"\\u2581benefits\", \"\\u2581and\", \"\\u2581performance\", \"\\u2581reviews\", \"\\u2581crossed\", \"\\u2581my\", \"\\u2581mind\"], \"values\": [0.0, 0.0, 0.0, 0.0, 0.0, 0.0, 0.0, 0.0, 0.0, 124.7824478149414, 0.0, 134.4988250732422, 90.49800109863281, 0.0, 0.0, 0.0, 0.0]}\n",
       "    )\n",
       "    </script>"
      ],
      "text/plain": [
       "<circuitsvis.utils.render.RenderedHTML at 0x7fdb8745a380>"
      ]
     },
     "metadata": {},
     "output_type": "display_data"
    },
    {
     "name": "stdout",
     "output_type": "stream",
     "text": [
      "> targeted concept:\n",
      "terms related to employment and employees\n",
      "maximal act: 65.331\n"
     ]
    },
    {
     "data": {
      "text/html": [
       "<div id=\"circuits-vis-ac5d6d72-cb83\" style=\"margin: 15px 0;\"/>\n",
       "    <script crossorigin type=\"module\">\n",
       "    import { render, ColoredTokens } from \"https://unpkg.com/circuitsvis@1.43.2/dist/cdn/esm.js\";\n",
       "    render(\n",
       "      \"circuits-vis-ac5d6d72-cb83\",\n",
       "      ColoredTokens,\n",
       "      {\"tokens\": [\"I\", \"\\u2581drove\", \"\\u2581to\", \"\\u2581the\", \"\\u2581mountains\", \"\\u2581thinking\", \"\\u2581about\", \"\\u2581the\", \"\\u2581upcoming\", \"\\u2581project\", \"\\u2581deadline\", \"\\u2581and\", \"\\u2581how\", \"\\u2581the\", \"\\u2581team\", \"\\u2581handled\", \"\\u2581their\", \"\\u2581roles\"], \"values\": [0.0, 0.0, 0.0, 0.0, 0.0, 0.0, 0.0, 0.0, 0.0, 0.0, 0.0, 65.33129119873047, 0.0, 0.0, 0.0, 51.786678314208984, 53.022491455078125, 0.0]}\n",
       "    )\n",
       "    </script>"
      ],
      "text/plain": [
       "<circuitsvis.utils.render.RenderedHTML at 0x7fdbdd7a2e30>"
      ]
     },
     "metadata": {},
     "output_type": "display_data"
    },
    {
     "name": "stdout",
     "output_type": "stream",
     "text": [
      "> targeted concept:\n",
      "terms related to employment and employees\n",
      "maximal act: 138.339\n"
     ]
    },
    {
     "data": {
      "text/html": [
       "<div id=\"circuits-vis-857a4da7-3d2d\" style=\"margin: 15px 0;\"/>\n",
       "    <script crossorigin type=\"module\">\n",
       "    import { render, ColoredTokens } from \"https://unpkg.com/circuitsvis@1.43.2/dist/cdn/esm.js\";\n",
       "    render(\n",
       "      \"circuits-vis-857a4da7-3d2d\",\n",
       "      ColoredTokens,\n",
       "      {\"tokens\": [\"I\", \"\\u2581went\", \"\\u2581to\", \"\\u2581the\", \"\\u2581bakery\", \"\\u2581and\", \"\\u2581noticed\", \"\\u2581people\", \"\\u2581talking\", \"\\u2581about\", \"\\u2581annual\", \"\\u2581leave\", \"\\u2581policies\", \"\\u2581and\", \"\\u2581job\", \"\\u2581performance\", \"\\u2581evaluations\", \"\\u2581during\", \"\\u2581their\", \"\\u2581break\"], \"values\": [0.0, 0.0, 0.0, 0.0, 0.0, 0.0, 0.0, 0.0, 0.0, 0.0, 0.0, 0.0, 0.0, 138.33926391601562, 92.4658203125, 80.3629379272461, 0.0, 0.0, 0.0, 0.0]}\n",
       "    )\n",
       "    </script>"
      ],
      "text/plain": [
       "<circuitsvis.utils.render.RenderedHTML at 0x7fdb8745a440>"
      ]
     },
     "metadata": {},
     "output_type": "display_data"
    },
    {
     "name": "stdout",
     "output_type": "stream",
     "text": [
      "> targeted concept:\n",
      "terms related to employment and employees\n",
      "maximal act: 117.923\n"
     ]
    },
    {
     "data": {
      "text/html": [
       "<div id=\"circuits-vis-ab35d12d-b0bf\" style=\"margin: 15px 0;\"/>\n",
       "    <script crossorigin type=\"module\">\n",
       "    import { render, ColoredTokens } from \"https://unpkg.com/circuitsvis@1.43.2/dist/cdn/esm.js\";\n",
       "    render(\n",
       "      \"circuits-vis-ab35d12d-b0bf\",\n",
       "      ColoredTokens,\n",
       "      {\"tokens\": [\"I\", \"\\u2581read\", \"\\u2581a\", \"\\u2581book\", \"\\u2581while\", \"\\u2581contemplating\", \"\\u2581workplace\", \"\\u2581productivity\", \"\\u2581and\", \"\\u2581employee\", \"\\u2581satisfaction\", \"\\u2581metrics\", \"\\u2581as\", \"\\u2581the\", \"\\u2581key\", \"\\u2581to\", \"\\u2581organizational\", \"\\u2581success\"], \"values\": [0.0, 0.0, 0.0, 0.0, 0.0, 0.0, 77.22665405273438, 0.0, 96.0044937133789, 117.92273712158203, 0.0, 0.0, 0.0, 0.0, 0.0, 0.0, 0.0, 0.0]}\n",
       "    )\n",
       "    </script>"
      ],
      "text/plain": [
       "<circuitsvis.utils.render.RenderedHTML at 0x7fdb79753be0>"
      ]
     },
     "metadata": {},
     "output_type": "display_data"
    },
    {
     "name": "stdout",
     "output_type": "stream",
     "text": [
      "> targeted concept:\n",
      "terms related to employment and employees\n",
      "maximal act: 139.031\n"
     ]
    },
    {
     "data": {
      "text/html": [
       "<div id=\"circuits-vis-f6d01907-4237\" style=\"margin: 15px 0;\"/>\n",
       "    <script crossorigin type=\"module\">\n",
       "    import { render, ColoredTokens } from \"https://unpkg.com/circuitsvis@1.43.2/dist/cdn/esm.js\";\n",
       "    render(\n",
       "      \"circuits-vis-f6d01907-4237\",\n",
       "      ColoredTokens,\n",
       "      {\"tokens\": [\"He\", \"\\u2581baked\", \"\\u2581some\", \"\\u2581cookies\", \"\\u2581and\", \"\\u2581thought\", \"\\u2581about\", \"\\u2581employee\", \"\\u2581training\", \"\\u2581programs\", \"\\u2581and\", \"\\u2581promotional\", \"\\u2581opportunities\", \"\\u2581at\", \"\\u2581his\", \"\\u2581new\", \"\\u2581job\"], \"values\": [0.0, 0.0, 0.0, 0.0, 0.0, 0.0, 0.0, 139.03146362304688, 0.0, 0.0, 121.56076049804688, 62.04638671875, 0.0, 0.0, 0.0, 0.0, 0.0]}\n",
       "    )\n",
       "    </script>"
      ],
      "text/plain": [
       "<circuitsvis.utils.render.RenderedHTML at 0x7fdb8745a380>"
      ]
     },
     "metadata": {},
     "output_type": "display_data"
    }
   ],
   "source": [
    "# run inference loop\n",
    "concepts = subctrl_factory.concepts\n",
    "for _, row in eval_subctrl_df.iterrows():\n",
    "    prompt = tokenizer.encode(\n",
    "        row[\"input\"], return_tensors=\"pt\", add_special_tokens=True).to(\"cuda\") \n",
    "    if str(row[\"group\"]) == \"EXAMPLE_TAG.CONTROL\":\n",
    "        print(\"> null example:\")\n",
    "    else:\n",
    "        print(f\"> targeted concept:\")\n",
    "        print(concepts[row[\"input_subspace\"]])\n",
    "    target_act = gather_residual_activations(model, layer, prompt)\n",
    "    p, _ = subctrl_intervention.encode(\n",
    "        target_act[:,1:], \n",
    "        subspaces={\n",
    "            \"input_subspaces\": torch.tensor([row[\"input_subspace\"]]),\n",
    "            \"output_subspaces\": torch.tensor([row[\"output_subspace\"]])}, k=3)\n",
    "    print(\"maximal act:\", round(p.max().tolist(), 3))\n",
    "    html = colored_tokens(tokenizer.tokenize(row[\"input\"]), p.flatten())\n",
    "    display(html)"
   ]
  },
  {
   "cell_type": "markdown",
   "id": "03326af6-33f5-4343-949b-296543c171ab",
   "metadata": {},
   "source": [
    "#### SubCTRL eval - logits lens."
   ]
  },
  {
   "cell_type": "code",
   "execution_count": 19,
   "id": "f68ff820-8e98-4c00-8ecb-867344502ae7",
   "metadata": {},
   "outputs": [
    {
     "data": {
      "text/plain": [
       "[' masquer',\n",
       " ' synthetic',\n",
       " ' hidden',\n",
       " ' feign',\n",
       " ' disguised',\n",
       " ' woven',\n",
       " ' disgu',\n",
       " 'synthetic',\n",
       " 'hidden',\n",
       " 'fake']"
      ]
     },
     "execution_count": 19,
     "metadata": {},
     "output_type": "execute_result"
    }
   ],
   "source": [
    "vocab_logits = model.lm_head.weight @ subctrl_intervention.proj.weight.data[0]\n",
    "values, indices = vocab_logits.topk(k=10)\n",
    "tokenizer.batch_decode(indices.unsqueeze(dim=-1))"
   ]
  },
  {
   "cell_type": "markdown",
   "id": "b23c4f0f-86ac-4493-b7c4-807c8ab1c706",
   "metadata": {},
   "source": [
    "#### SubCTRL eval - steering."
   ]
  },
  {
   "cell_type": "code",
   "execution_count": 20,
   "id": "d882017a-3c1a-408a-8a17-d97c5250c1e7",
   "metadata": {},
   "outputs": [
    {
     "data": {
      "application/vnd.jupyter.widget-view+json": {
       "model_id": "3c8933455d194b5ab289282326d49b21",
       "version_major": 2,
       "version_minor": 0
      },
      "text/plain": [
       "Downloading shards:   0%|          | 0/2 [00:00<?, ?it/s]"
      ]
     },
     "metadata": {},
     "output_type": "display_data"
    },
    {
     "data": {
      "application/vnd.jupyter.widget-view+json": {
       "model_id": "de44c38ca13c4337a6d7b31950f69071",
       "version_major": 2,
       "version_minor": 0
      },
      "text/plain": [
       "Loading checkpoint shards:   0%|          | 0/2 [00:00<?, ?it/s]"
      ]
     },
     "metadata": {},
     "output_type": "display_data"
    }
   ],
   "source": [
    "# load the chat-lm\n",
    "chat_model = AutoModelForCausalLM.from_pretrained(\n",
    "    \"google/gemma-2-2b-it\", # google/gemma-2b-it\n",
    "    device_map='cpu',\n",
    ")\n",
    "chat_model.config.use_cache = False\n",
    "chat_model = chat_model.cuda()\n",
    "tokenizer =  AutoTokenizer.from_pretrained(\"google/gemma-2-2b-it\")\n",
    "_ = chat_model.eval()"
   ]
  },
  {
   "cell_type": "code",
   "execution_count": 35,
   "id": "02161750-dd25-48ad-8e38-a49e0d24039a",
   "metadata": {},
   "outputs": [],
   "source": [
    "steering_intervention = SubspaceAdditionIntervention(\n",
    "    embed_dim=model.config.hidden_size, low_rank_dimension=1,\n",
    ")\n",
    "steering_intervention.cuda()\n",
    "steering_intervention.proj.weight.data = subctrl_intervention.proj.weight.data\n",
    "\n",
    "reft_config = pyreft.ReftConfig(representations=[{\n",
    "    \"layer\": l,\n",
    "    \"component\": f\"model.layers[{l}].output\",\n",
    "    \"low_rank_dimension\": 1,\n",
    "    \"intervention\": steering_intervention} for l in [20]])\n",
    "steering_model = pyreft.get_reft_model(chat_model, reft_config)"
   ]
  },
  {
   "cell_type": "code",
   "execution_count": 48,
   "id": "52887862-bbc3-4345-95d4-cbfb8bfd3e66",
   "metadata": {},
   "outputs": [
    {
     "name": "stdout",
     "output_type": "stream",
     "text": [
      "+ 140 * terms related to artificiality and deception\n",
      "user\n",
      "Write a English story.\n",
      "\n",
      "\n",
      "The old, weathered facade of the antique shop concealed a world spun from forgotten dreams and whispered secrets.  Esme, cloaked in shadows beneath a cascade of cascading curls, draped her fingers over a chipped porcelain doll, its painted eyes staring into an abyss of time.  She was drawn to this place, a labyrinth of dusty relics and hidden narratives, like a moth to a flickering flame. \n",
      "\n",
      "Behind the counter, shrouded in the scent of aged paper and faded perfume, sat Mr. Hawthorne, his face etched with the stories of a thousand lives lived and lost. He possessed a knowing smile that hinted at buried truths woven into\n"
     ]
    }
   ],
   "source": [
    "prompt = \"Write a English story.\"\n",
    "concept_id = 0\n",
    "mag = 140\n",
    "print(f\"+ {mag} *\", subctrl_factory.concepts[concept_id])\n",
    "\n",
    "messages = [\n",
    "    {\"role\": \"user\", \"content\": prompt}]\n",
    "prompt = tokenizer.apply_chat_template(messages, return_tensors=\"pt\", return_dict=True).to(\"cuda\")\n",
    "\n",
    "_, reft_response = steering_model.generate(\n",
    "    prompt, \n",
    "    unit_locations=None, \n",
    "    intervene_on_prompt=True, \n",
    "    subspaces=[{\"idx\": concept_id, \"mag\": mag}], max_new_tokens=128, \n",
    "    do_sample=False, early_stopping=True, no_repeat_ngram_size=5, repetition_penalty=1.1\n",
    ")\n",
    "print(tokenizer.decode(reft_response[0], skip_special_tokens=True))"
   ]
  },
  {
   "cell_type": "code",
   "execution_count": null,
   "id": "75e63bad-3702-470e-bd9e-81aae131df6f",
   "metadata": {},
   "outputs": [],
   "source": []
  }
 ],
 "metadata": {
  "kernelspec": {
   "display_name": "Python 3 (ipykernel)",
   "language": "python",
   "name": "python3"
  },
  "language_info": {
   "codemirror_mode": {
    "name": "ipython",
    "version": 3
   },
   "file_extension": ".py",
   "mimetype": "text/x-python",
   "name": "python",
   "nbconvert_exporter": "python",
   "pygments_lexer": "ipython3",
   "version": "3.10.13"
  }
 },
 "nbformat": 4,
 "nbformat_minor": 5
}
